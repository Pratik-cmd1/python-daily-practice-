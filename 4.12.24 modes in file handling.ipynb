{
 "cells": [
  {
   "cell_type": "markdown",
   "id": "0a43b5ec-abc6-40b4-bde4-f024304621b8",
   "metadata": {},
   "source": [
    "### Modes in File Handling "
   ]
  },
  {
   "cell_type": "markdown",
   "id": "f47e7fa1-ebba-4292-a46a-107edf164f34",
   "metadata": {},
   "source": [
    "                                                                                                  PRATIK GAIKWAD"
   ]
  },
  {
   "cell_type": "markdown",
   "id": "4690cffb-004f-4323-bf83-faf0bf436a44",
   "metadata": {},
   "source": [
    "### \"r\":\n",
    "1] open a ile for reading\n",
    "2] it is a default mode \n",
    "3] file must exist"
   ]
  },
  {
   "cell_type": "code",
   "execution_count": 160,
   "id": "621dd7a0-0726-44bf-bfb7-b3a1aabf456b",
   "metadata": {},
   "outputs": [
    {
     "name": "stdout",
     "output_type": "stream",
     "text": [
      "myself pratikn a ile for reading\n",
      "2] it is a default mode \n",
      "3] file must exist\n",
      "'w':\n",
      "1] open a file for writing\n",
      "2] if file exists then it is overwrite\n",
      "3] if not exists then a new file is created \n",
      "\"a\":\n",
      "1] open a file for appending\n",
      "2] data is added at the end without overwrite existing content\n",
      "'r+' mode run \n"
     ]
    }
   ],
   "source": [
    "# ex:\n",
    "f=open(\"task2_onfilehandling.txt\")\n",
    "print(f.read())\n",
    "f.close()"
   ]
  },
  {
   "cell_type": "markdown",
   "id": "95f6e034-b247-4d4d-9edc-22aaf45a2a97",
   "metadata": {},
   "source": [
    "### \"w\" :\n",
    "1] open a file for writing\n",
    "2] if file exists then it is overwrite\n",
    "3] if not exists then a new file is created "
   ]
  },
  {
   "cell_type": "code",
   "execution_count": 163,
   "id": "3a5ffa86-ac69-4721-85b0-1d524b3730b6",
   "metadata": {},
   "outputs": [],
   "source": [
    "#ex:\n",
    "f=open(\"task2_onfilehandling.txt\",\"w\")\n",
    "f.write(\"\"\" 'r':\n",
    "1] open a ile for reading\n",
    "2] it is a default mode \n",
    "3] file must exist\n",
    "'w':\n",
    "1] open a file for writing\n",
    "2] if file exists then it is overwrite\n",
    "3] if not exists then a new file is created \"\"\")\n",
    "f.close()"
   ]
  },
  {
   "cell_type": "markdown",
   "id": "da8be8c6-7edf-4cb4-b033-1651fc399bb7",
   "metadata": {},
   "source": [
    "### \"a\":\n",
    "1] open a file for appending\n",
    "   2] data is added at the end without overwrite existing content"
   ]
  },
  {
   "cell_type": "code",
   "execution_count": 166,
   "id": "be223a11-18ee-43dd-a1e4-ef09adb611da",
   "metadata": {},
   "outputs": [],
   "source": [
    "#ex:\n",
    "with open (\"task2_onfilehandling.txt\",\"a\")as f:\n",
    "    f.write(\"\"\"\\n\"a\":\n",
    "1] open a file for appending\n",
    "2] data is added at the end without overwrite existing content\"\"\")\n",
    "\n"
   ]
  },
  {
   "cell_type": "markdown",
   "id": "77ba6013-048d-4ab3-869a-af2639057efc",
   "metadata": {},
   "source": [
    "### \"r+\" :\n",
    "1] Opens a file for both reading and writing.\n",
    "2] Throws an error if the file does not exist; does not create a new file.\n",
    "3] Retains the existing content and allows modification without truncation.\n",
    "4] The file pointer is positioned at the beginning of the file upon opening."
   ]
  },
  {
   "cell_type": "code",
   "execution_count": 169,
   "id": "bd5a1b65-53a5-4c9e-92b3-c4c3c5b8ccdc",
   "metadata": {},
   "outputs": [
    {
     "name": "stdout",
     "output_type": "stream",
     "text": [
      " 'r':\n",
      "1] open a ile for reading\n",
      "2] it is a default mode \n",
      "3] file must exist\n",
      "'w':\n",
      "1] open a file for writing\n",
      "2] if file exists then it is overwrite\n",
      "3] if not exists then a new file is created \n",
      "\"a\":\n",
      "1] open a file for appending\n",
      "2] data is added at the end without overwrite existing content\n"
     ]
    }
   ],
   "source": [
    "#ex:\n",
    "with open (\"task2_onfilehandling.txt\",\"r+\")as f:\n",
    "    data=f.read()\n",
    "    f.write(\"\\n'r+' mode run \")\n",
    "    print(data)\n",
    "#output : add at the end r+ mode is run but output show in file again we will run program then show changes \n",
    "\n",
    "#f=open(\"task2_onfilehandling.txt\",\"r+\")\n",
    "#f.write(\"pratik\")\n",
    "#data=f.read()\n",
    "#print(data)\n",
    "#f.close()\n",
    "# output : overwrite at the beginning and then print again for show output\n",
    "    "
   ]
  },
  {
   "cell_type": "code",
   "execution_count": 171,
   "id": "ef6a45be-a486-4f6e-b230-469a50e8e356",
   "metadata": {},
   "outputs": [],
   "source": [
    "# read file using r+ mode\n",
    "\n",
    "# with open (\"task2_onfilehandling.txt\",\"r+\")as f:\n",
    "#      print(f.read())\n",
    "#output : give the all content of file\n",
    "\n",
    "\n",
    "# write file using r+ mode\n",
    "\n",
    "# with open (\"task2_onfilehandling.txt\",\"r+\")as f:\n",
    "#     f.write(\"myself pratik\")  \n",
    "# output : overwrite beginning character with myself pratik\n"
   ]
  },
  {
   "cell_type": "markdown",
   "id": "a82553ea-72d4-4e5e-b8fb-d8f9da933bbc",
   "metadata": {},
   "source": [
    "### \"w+\" :\n",
    "1]Opens a file for both writing and reading.\n",
    "2]Creates a new file if it doesn’t exist; overwrites existing files.\n",
    "3]Clears the file’s existing content upon opening.\n",
    "4]The file pointer is placed at the beginning of the file."
   ]
  },
  {
   "cell_type": "code",
   "execution_count": 174,
   "id": "029fd7ce-a4ce-45f1-a274-ac01251a972e",
   "metadata": {},
   "outputs": [],
   "source": [
    "# read file using w+ mode\n",
    "\n",
    "# with open (\"task2_onfilehandling.txt\",\"w+\")as f:\n",
    "#     print(f.read())\n",
    "#output : clear all data \n",
    "\n",
    "# write file using w+ mode\n",
    "with open (\"task2_onfilehandling.txt\",\"w+\")as f:\n",
    "     f.write(\"thank you......!\")\n",
    "# clear all previous data and add new data (thank you......!)"
   ]
  },
  {
   "cell_type": "markdown",
   "id": "93e0967d-35d1-48c6-8861-c891f7b05129",
   "metadata": {},
   "source": [
    "## r+ (Read and Write):\n",
    "\n",
    "Purpose         : Opens a file for both reading and writing.\n",
    "\n",
    "File Creation\t: Does not create a new file. Throws an error if the file does not exist.\n",
    "\n",
    "File Content\t: Preserves the existing content of the file.\n",
    "\n",
    "File Pointer\t: The file pointer is placed at the beginning of the file.\n",
    "\n",
    "Use Case\t    : Useful when you want to update or modify the contents of an existing file without erasing its data.\n"
   ]
  },
  {
   "cell_type": "markdown",
   "id": "8a79cdbe-a67a-454c-8dd1-2f75edd6caa2",
   "metadata": {},
   "source": [
    "## w+ (Write and Read)\n",
    "\n",
    "Purpose       : Opens a file for both writing and reading.\n",
    "\n",
    "File Creation : Creates a new file if it doesn't exist. Overwrites an existing file.\n",
    "\n",
    "File Content  : Truncates (clears) the existing content of the file.\n",
    "    \n",
    "File Pointer  : The file pointer is placed at the beginning of the file.\n",
    "    \n",
    "Use Case      : Useful when you want to overwrite or start fresh with a new file but still need read and write access.\n"
   ]
  },
  {
   "cell_type": "code",
   "execution_count": null,
   "id": "5066bb6b-3fe1-4b2b-964d-1e4ecb70a648",
   "metadata": {},
   "outputs": [],
   "source": []
  }
 ],
 "metadata": {
  "kernelspec": {
   "display_name": "Python 3 (ipykernel)",
   "language": "python",
   "name": "python3"
  },
  "language_info": {
   "codemirror_mode": {
    "name": "ipython",
    "version": 3
   },
   "file_extension": ".py",
   "mimetype": "text/x-python",
   "name": "python",
   "nbconvert_exporter": "python",
   "pygments_lexer": "ipython3",
   "version": "3.12.7"
  }
 },
 "nbformat": 4,
 "nbformat_minor": 5
}
