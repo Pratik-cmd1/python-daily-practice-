{
 "cells": [
  {
   "cell_type": "raw",
   "id": "c6aaf59b-bc92-4ff8-89f7-ae42a11fae55",
   "metadata": {},
   "source": [
    "inheritance:\n",
    "types 5 \n",
    "1]parent to child\n",
    "2] grandparent to parent to child\n",
    "3] mother and father to child\n",
    "4] parant to child and child\n",
    "5] hybrid inheritance (combination of and inheritance)\n"
   ]
  },
  {
   "cell_type": "raw",
   "id": "647577c5-d759-4a05-ae55-4c389a3f202b",
   "metadata": {},
   "source": [
    "super function:\n",
    "super().__init__()"
   ]
  },
  {
   "cell_type": "code",
   "execution_count": 21,
   "id": "3a23f05f-2bbd-490c-9cf8-0835453084d2",
   "metadata": {},
   "outputs": [],
   "source": [
    "# p=student(\"pratik\",22)"
   ]
  },
  {
   "cell_type": "code",
   "execution_count": null,
   "id": "2607032f-edf0-43f4-ab03-1529a17ab398",
   "metadata": {},
   "outputs": [],
   "source": []
  },
  {
   "cell_type": "code",
   "execution_count": 34,
   "id": "ec24a4dd-94b5-4b74-8617-de88180dcf65",
   "metadata": {},
   "outputs": [],
   "source": [
    "class parents ():\n",
    "    def __init__(self):\n",
    "        self.a=a\n",
    "        self.b=b\n",
    "    def method1(self):\n",
    "        print(\"parent class method1\")\n",
    "class child(parents):\n",
    "    def __init__(self):\n",
    "        print(\"child class __init() method\")\n",
    "        #super().__init__(self)\n",
    "    def addition (self):\n",
    "        print(\"addition is :\")"
   ]
  },
  {
   "cell_type": "code",
   "execution_count": 36,
   "id": "eddae938-6ac7-4b10-a7f6-d6c32d4643fc",
   "metadata": {},
   "outputs": [
    {
     "name": "stdout",
     "output_type": "stream",
     "text": [
      "child class __init() method\n"
     ]
    }
   ],
   "source": [
    "o=child()"
   ]
  },
  {
   "cell_type": "code",
   "execution_count": 38,
   "id": "85c2c63f-ad71-4f7c-85a1-2152af194b23",
   "metadata": {},
   "outputs": [
    {
     "name": "stdout",
     "output_type": "stream",
     "text": [
      "parent class method1\n"
     ]
    }
   ],
   "source": [
    "o.method1()"
   ]
  },
  {
   "cell_type": "code",
   "execution_count": 40,
   "id": "19f1c692-a19e-42da-88ee-f8246b17f4c0",
   "metadata": {},
   "outputs": [],
   "source": [
    "class parents ():\n",
    "    def __init__(self):\n",
    "        self.a=a\n",
    "        self.b=b\n",
    "    def method1(self):\n",
    "        print(\"parent class method1\")\n",
    "class child(parents):\n",
    "    def __init__(self):\n",
    "        print(\"child class __init() method\")\n",
    "        super().__init__()\n",
    "    def addition (self):\n",
    "        print(\"addition is :\")"
   ]
  },
  {
   "cell_type": "code",
   "execution_count": 42,
   "id": "80aad4da-b390-4ed1-bd92-7d4c9b3e3868",
   "metadata": {},
   "outputs": [],
   "source": [
    "o1=child"
   ]
  },
  {
   "cell_type": "code",
   "execution_count": null,
   "id": "33ad98ee-fb8b-4c8c-b2a7-8dc7cd0888d9",
   "metadata": {},
   "outputs": [],
   "source": [
    "a=[1,2,3,4]\n",
    "b=\"neha\"\n",
    "c=tuple(\"ABCDEFG\")\n",
    "D={10,23,43,90}\n",
    "\n",
    "print()"
   ]
  },
  {
   "cell_type": "code",
   "execution_count": 48,
   "id": "90234e1b-dfb2-4f84-bd47-2fb7bcdbe5e8",
   "metadata": {},
   "outputs": [],
   "source": [
    "class square ():\n",
    "    def __init__(self):\n",
    "        print(\"square : init()\")\n",
    "    def getarea(self,a):\n",
    "        print(\"square : getarea()\")\n",
    "        return a*a\n",
    "        \n",
    "class circle ():\n",
    "    def __init__(self):\n",
    "        print(\"circle : init()\")\n",
    "    def getarea(self,a):\n",
    "        print(\"circle : getarea()\")\n",
    "        return 3.142*a*a\n",
    "\n",
    "class rectangle ():\n",
    "    def __init__(self):\n",
    "        print(\"rectangle : init()\")\n",
    "    def getarea(self,a,b):\n",
    "        print(\"rectangle : getarea()\")\n",
    "        return a*b\n",
    "        \n",
    "        "
   ]
  },
  {
   "cell_type": "code",
   "execution_count": 50,
   "id": "106c1e61-2a38-419d-85e2-8495d7e894ac",
   "metadata": {},
   "outputs": [
    {
     "name": "stdout",
     "output_type": "stream",
     "text": [
      "square : init()\n"
     ]
    }
   ],
   "source": [
    "o=square()"
   ]
  },
  {
   "cell_type": "code",
   "execution_count": 52,
   "id": "90915ca3-91a2-4a67-a49c-51cc2909e980",
   "metadata": {},
   "outputs": [
    {
     "name": "stdout",
     "output_type": "stream",
     "text": [
      "square : getarea()\n"
     ]
    },
    {
     "data": {
      "text/plain": [
       "100"
      ]
     },
     "execution_count": 52,
     "metadata": {},
     "output_type": "execute_result"
    }
   ],
   "source": [
    "o.getarea(10)"
   ]
  },
  {
   "cell_type": "code",
   "execution_count": 54,
   "id": "ce8cc2ec-541e-4507-8be1-eb206e04b1da",
   "metadata": {},
   "outputs": [
    {
     "name": "stdout",
     "output_type": "stream",
     "text": [
      "circle : init()\n"
     ]
    }
   ],
   "source": [
    "o=circle()"
   ]
  },
  {
   "cell_type": "code",
   "execution_count": 58,
   "id": "92e3ef74-f83b-483d-969c-be31725bd63c",
   "metadata": {},
   "outputs": [
    {
     "name": "stdout",
     "output_type": "stream",
     "text": [
      "circle : getarea()\n"
     ]
    },
    {
     "data": {
      "text/plain": [
       "2827.7999999999997"
      ]
     },
     "execution_count": 58,
     "metadata": {},
     "output_type": "execute_result"
    }
   ],
   "source": [
    "o.getarea(30)"
   ]
  },
  {
   "cell_type": "code",
   "execution_count": 7,
   "id": "1f3494fd-2feb-4686-966c-8c6d3054bc1b",
   "metadata": {},
   "outputs": [],
   "source": [
    "from abc import ABC,abstractmethod\n",
    "\n",
    "class ABC ():\n",
    "    def __init__(self):\n",
    "        pass\n",
    "    @abstractmethod\n",
    "    def registration(self):\n",
    "        pass\n",
    "\n",
    "    @abstractmethod\n",
    "    def login(self):\n",
    "        pass\n",
    "\n",
    "class childclass(ABC):\n",
    "    def __init__(self):\n",
    "        print(\"child class: __init__ method\")\n",
    "    def registration (self):\n",
    "        print(\"child class : registration method\")\n",
    "    def login(self):\n",
    "        print(\"child class : login method\")"
   ]
  },
  {
   "cell_type": "code",
   "execution_count": 9,
   "id": "029d2077-60df-4886-ac74-6e505453200c",
   "metadata": {},
   "outputs": [
    {
     "name": "stdout",
     "output_type": "stream",
     "text": [
      "child class: __init__ method\n"
     ]
    }
   ],
   "source": [
    "o=childclass()"
   ]
  },
  {
   "cell_type": "code",
   "execution_count": 11,
   "id": "bc7545ef-c963-4729-a1fa-67b65370c1e1",
   "metadata": {},
   "outputs": [
    {
     "name": "stdout",
     "output_type": "stream",
     "text": [
      "child class : registration method\n"
     ]
    }
   ],
   "source": [
    "o.registration()"
   ]
  },
  {
   "cell_type": "code",
   "execution_count": 13,
   "id": "cb7a38c1-f871-4a8d-939c-a9e5704ffcd1",
   "metadata": {},
   "outputs": [
    {
     "name": "stdout",
     "output_type": "stream",
     "text": [
      "child class : login method\n"
     ]
    }
   ],
   "source": [
    "o.login()"
   ]
  },
  {
   "cell_type": "code",
   "execution_count": null,
   "id": "6c85303e-f6ab-4734-9c60-016021b8458e",
   "metadata": {},
   "outputs": [],
   "source": []
  }
 ],
 "metadata": {
  "kernelspec": {
   "display_name": "Python 3 (ipykernel)",
   "language": "python",
   "name": "python3"
  },
  "language_info": {
   "codemirror_mode": {
    "name": "ipython",
    "version": 3
   },
   "file_extension": ".py",
   "mimetype": "text/x-python",
   "name": "python",
   "nbconvert_exporter": "python",
   "pygments_lexer": "ipython3",
   "version": "3.12.7"
  }
 },
 "nbformat": 4,
 "nbformat_minor": 5
}
