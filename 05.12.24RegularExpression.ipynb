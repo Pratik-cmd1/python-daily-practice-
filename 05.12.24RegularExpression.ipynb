{
 "cells": [
  {
   "cell_type": "code",
   "execution_count": 3,
   "id": "aff5fc6c-0284-4b25-b029-1af59af8bbd1",
   "metadata": {},
   "outputs": [
    {
     "data": {
      "text/plain": [
       "['data', 'daaata']"
      ]
     },
     "execution_count": 3,
     "metadata": {},
     "output_type": "execute_result"
    }
   ],
   "source": [
    "import re\n",
    "# \"+\": 1 or more number of occurrence \n",
    "text=\"data dta daaata dattataaa dattta dt d daaaaaaaaaa\"\n",
    "pattern=\"da+ta\"\n",
    "re.findall(pattern,text)"
   ]
  },
  {
   "cell_type": "code",
   "execution_count": 7,
   "id": "ea8b177e-80b0-4a86-90c8-dc70ed64ae64",
   "metadata": {},
   "outputs": [
    {
     "data": {
      "text/plain": [
       "['data', 'dta', 'daaata', 'datta', 'dattta']"
      ]
     },
     "execution_count": 7,
     "metadata": {},
     "output_type": "execute_result"
    }
   ],
   "source": [
    "# \"*\": 0 or more number of occurrence \n",
    "text=\"data dta daaata dattataaa dattta dt d daaaaaaaaaa\"\n",
    "pattern=\"da*t+a\"\n",
    "a=re.findall(pattern,text)\n",
    "if "
   ]
  },
  {
   "cell_type": "code",
   "execution_count": 9,
   "id": "9018d06a-2a42-4928-adb4-f6baac21afab",
   "metadata": {},
   "outputs": [
    {
     "data": {
      "text/plain": [
       "['data', 'dta']"
      ]
     },
     "execution_count": 9,
     "metadata": {},
     "output_type": "execute_result"
    }
   ],
   "source": [
    "# \"?\": 1 or zero number of occurrence \n",
    "text=\"data dta daaata dattataaa dattta dt d daaaaaaaaaa\"\n",
    "pattern=\"da?ta\"\n",
    "re.findall(pattern,text)"
   ]
  },
  {
   "cell_type": "code",
   "execution_count": 15,
   "id": "5e1610ab-5fd0-41cb-84ab-88ac484dbd30",
   "metadata": {},
   "outputs": [
    {
     "data": {
      "text/plain": [
       "['daaata', 'dattta']"
      ]
     },
     "execution_count": 15,
     "metadata": {},
     "output_type": "execute_result"
    }
   ],
   "source": [
    "# \".\": any single character \n",
    "text=\"data dta daaata dattataaa dattta dt d daaaaaaaaaa\"\n",
    "pattern=\"d...ta\"\n",
    "re.findall(pattern,text)"
   ]
  },
  {
   "cell_type": "code",
   "execution_count": null,
   "id": "a7a8d476-60e6-4de8-9ed2-2b2584324be0",
   "metadata": {},
   "outputs": [],
   "source": [
    "# \"+\": 1 or more number of occurrence \n",
    "text=\"data dta daaata dattataaa dattta dt d daaaaaaaaaa\"\n",
    "pattern=\"da+ta\"\n",
    "re.findall(pattern,text)"
   ]
  },
  {
   "cell_type": "code",
   "execution_count": 7,
   "id": "e04976b3-c141-47c9-8ccd-d0053d087bb8",
   "metadata": {},
   "outputs": [],
   "source": [
    "employees_details = \"\"\"Name : Shrenik\n",
    "                       DOB  : 28/12/1999\n",
    "                       Designation : Data Analyst\n",
    "                       Aadhar card number : 3814 3414 4982\n",
    "                       pan card number : AXIPL9552B\n",
    "                       mailid = shrenik123@gmail.com\n",
    "\"\"\""
   ]
  },
  {
   "cell_type": "code",
   "execution_count": 9,
   "id": "c7366734-97c2-4182-8986-84a8dfff4ca8",
   "metadata": {},
   "outputs": [
    {
     "data": {
      "text/plain": [
       "['28/12/1999']"
      ]
     },
     "execution_count": 9,
     "metadata": {},
     "output_type": "execute_result"
    }
   ],
   "source": [
    "DOB=\"[0-9]{2}[/][0-9]{2}[/][0-9]{4}\"\n",
    "re.findall(DOB,employees_details)"
   ]
  },
  {
   "cell_type": "code",
   "execution_count": 11,
   "id": "0f10b9d4-602e-4a45-91dc-e4e62e52e634",
   "metadata": {},
   "outputs": [
    {
     "data": {
      "text/plain": [
       "['3814 3414 4982']"
      ]
     },
     "execution_count": 11,
     "metadata": {},
     "output_type": "execute_result"
    }
   ],
   "source": [
    "Adhar=r\"[0-9]{4}\\s[0-9]{4}\\s[0-9]{4}\"\n",
    "re.findall(Adhar,employees_details)"
   ]
  },
  {
   "cell_type": "code",
   "execution_count": 41,
   "id": "90a0a6e4-a446-4174-b6d5-893a0bbd0e63",
   "metadata": {},
   "outputs": [
    {
     "data": {
      "text/plain": [
       "['AXIPL9552B']"
      ]
     },
     "execution_count": 41,
     "metadata": {},
     "output_type": "execute_result"
    }
   ],
   "source": [
    "Pan=\"[A-Z]{5}[0-9]{4}[A-Z]{1}\"\n",
    "re.findall(Pan,employees_details)"
   ]
  },
  {
   "cell_type": "code",
   "execution_count": 43,
   "id": "987b492b-a933-44b1-a8ed-a5cfeaa04913",
   "metadata": {},
   "outputs": [
    {
     "data": {
      "text/plain": [
       "['shrenik123@gmail.com']"
      ]
     },
     "execution_count": 43,
     "metadata": {},
     "output_type": "execute_result"
    }
   ],
   "source": [
    "Mailid=\"[a-z0-9_.#%*]{2,20}[@][a-z]{2,5}[.][a-z]{2,4}\"\n",
    "re.findall(Mailid,employees_details)"
   ]
  },
  {
   "cell_type": "code",
   "execution_count": null,
   "id": "370184eb-eed9-4248-b9d2-61e7b91b191d",
   "metadata": {},
   "outputs": [],
   "source": []
  }
 ],
 "metadata": {
  "kernelspec": {
   "display_name": "Python 3 (ipykernel)",
   "language": "python",
   "name": "python3"
  },
  "language_info": {
   "codemirror_mode": {
    "name": "ipython",
    "version": 3
   },
   "file_extension": ".py",
   "mimetype": "text/x-python",
   "name": "python",
   "nbconvert_exporter": "python",
   "pygments_lexer": "ipython3",
   "version": "3.12.7"
  }
 },
 "nbformat": 4,
 "nbformat_minor": 5
}
