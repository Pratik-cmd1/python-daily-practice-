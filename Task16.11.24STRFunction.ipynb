{
 "cells": [
  {
   "cell_type": "code",
   "execution_count": 119,
   "id": "96f29074-ce54-47c4-a46e-ececd4daeb38",
   "metadata": {},
   "outputs": [],
   "source": [
    "function1=\"hello everyone my name is pratik welcome to my profile\"\n",
    "function2=\"Thank you\""
   ]
  },
  {
   "cell_type": "code",
   "execution_count": 21,
   "id": "839e34ae-3a88-4633-af5f-62384a48c095",
   "metadata": {},
   "outputs": [
    {
     "name": "stdout",
     "output_type": "stream",
     "text": [
      "54\n"
     ]
    }
   ],
   "source": [
    "# len(string)\n",
    "print(len(function1))"
   ]
  },
  {
   "cell_type": "code",
   "execution_count": 29,
   "id": "83ded366-3fca-4940-a3da-222d3739e942",
   "metadata": {},
   "outputs": [
    {
     "name": "stdout",
     "output_type": "stream",
     "text": [
      "v\n"
     ]
    }
   ],
   "source": [
    "# string[index]\n",
    "print(function1[7])"
   ]
  },
  {
   "cell_type": "code",
   "execution_count": 41,
   "id": "fcf24fd1-824e-44ce-ae24-d5f8313c9708",
   "metadata": {},
   "outputs": [
    {
     "name": "stdout",
     "output_type": "stream",
     "text": [
      "everyone\n"
     ]
    }
   ],
   "source": [
    "#string[start:end]\n",
    "print(function1[6:14])"
   ]
  },
  {
   "cell_type": "code",
   "execution_count": 49,
   "id": "f7617ca7-9e1d-4fa7-b7b7-e072debe818a",
   "metadata": {},
   "outputs": [
    {
     "name": "stdout",
     "output_type": "stream",
     "text": [
      "Hello everyone my name is pratik welcome to my profile Thank you\n"
     ]
    }
   ],
   "source": [
    "# string + string\n",
    "print(function1+\" \"+function2)"
   ]
  },
  {
   "cell_type": "code",
   "execution_count": 75,
   "id": "87c950d3-cea3-42e3-9f56-a28374ab09db",
   "metadata": {},
   "outputs": [
    {
     "name": "stdout",
     "output_type": "stream",
     "text": [
      "HELLO EVERYONE MY NAME IS PRATIK WELCOME TO MY PROFILE\n"
     ]
    }
   ],
   "source": [
    "#string.upper()\n",
    "print(function1.upper())"
   ]
  },
  {
   "cell_type": "code",
   "execution_count": 81,
   "id": "05d15431-ac71-4f59-aaf0-71f613193412",
   "metadata": {},
   "outputs": [
    {
     "name": "stdout",
     "output_type": "stream",
     "text": [
      "hello everyone my name is pratik welcome to my profile\n"
     ]
    }
   ],
   "source": [
    "#string.lower\n",
    "print(function1.lower())"
   ]
  },
  {
   "cell_type": "code",
   "execution_count": 97,
   "id": "05d87468-ed06-4b22-9556-c11ff2a6470e",
   "metadata": {},
   "outputs": [
    {
     "name": "stdout",
     "output_type": "stream",
     "text": [
      "Hello everyone my name is pratik welcome to my profile\n"
     ]
    }
   ],
   "source": [
    "#string.capitalize\n",
    "print(function1.capitalize())"
   ]
  },
  {
   "cell_type": "code",
   "execution_count": 99,
   "id": "7ed7110f-29ce-4b7a-abd5-3fbd7cd9319d",
   "metadata": {},
   "outputs": [
    {
     "name": "stdout",
     "output_type": "stream",
     "text": [
      "Hello Everyone My Name Is Pratik Welcome To My Profile\n"
     ]
    }
   ],
   "source": [
    "#string.title()\n",
    "print(function1.title())"
   ]
  },
  {
   "cell_type": "code",
   "execution_count": 101,
   "id": "3d00fd79-83ba-4b66-b28e-cf0d24e8cce3",
   "metadata": {},
   "outputs": [
    {
     "name": "stdout",
     "output_type": "stream",
     "text": [
      "hello everyone my name is pratik welcome to my profile\n"
     ]
    }
   ],
   "source": [
    "#string.strip()\n",
    "print(function1.strip())"
   ]
  },
  {
   "cell_type": "code",
   "execution_count": 103,
   "id": "1e86b3c1-27a4-4628-bc66-6284b7910ef7",
   "metadata": {},
   "outputs": [
    {
     "name": "stdout",
     "output_type": "stream",
     "text": [
      "Good morning everyone my name is pratik welcome to my profile\n"
     ]
    }
   ],
   "source": [
    "#string.replace(old,new)\n",
    "print(function1.replace(\"hello\",\"Good morning\"))"
   ]
  },
  {
   "cell_type": "code",
   "execution_count": 109,
   "id": "765e5731-a86e-475e-a215-fbb34b94505d",
   "metadata": {},
   "outputs": [
    {
     "name": "stdout",
     "output_type": "stream",
     "text": [
      "['hello', 'everyone', 'my', 'name', 'is', 'pratik', 'welcome', 'to', 'my', 'profile']\n"
     ]
    }
   ],
   "source": [
    "#string.split(delimiter)\n",
    "print(function1.split(\" \"))"
   ]
  },
  {
   "cell_type": "code",
   "execution_count": 113,
   "id": "1ed7accc-7908-4433-a993-8afeb9595336",
   "metadata": {},
   "outputs": [
    {
     "name": "stdout",
     "output_type": "stream",
     "text": [
      "applehello everyone my name is pratik welcome to my profilebananahello everyone my name is pratik welcome to my profilecherry\n"
     ]
    }
   ],
   "source": [
    "#string.join(list)\n",
    "items = [\"apple\", \"banana\", \"cherry\"]\n",
    "print(function1.join(items))"
   ]
  },
  {
   "cell_type": "code",
   "execution_count": 129,
   "id": "fb26f028-0d1e-4654-ab2b-7d582691efbd",
   "metadata": {},
   "outputs": [
    {
     "name": "stdout",
     "output_type": "stream",
     "text": [
      "6\n"
     ]
    }
   ],
   "source": [
    "#string.find(substring)     # if not found then give output -1 \n",
    "print(function1.find(\"everyone\"))"
   ]
  },
  {
   "cell_type": "code",
   "execution_count": 127,
   "id": "657021dd-835a-4f25-8a8e-21e4cfdafbef",
   "metadata": {},
   "outputs": [
    {
     "name": "stdout",
     "output_type": "stream",
     "text": [
      "26\n"
     ]
    }
   ],
   "source": [
    "#string.index(substring)  # if not found then give error \n",
    "print(function1.index(\"pratik\"))\n"
   ]
  },
  {
   "cell_type": "code",
   "execution_count": 131,
   "id": "cc6b8826-af56-459a-b0da-8d9e1ea103ee",
   "metadata": {},
   "outputs": [
    {
     "name": "stdout",
     "output_type": "stream",
     "text": [
      "True\n"
     ]
    }
   ],
   "source": [
    "#string.startswith(prefix)\n",
    "print(function1.startswith(\"hello\"))"
   ]
  },
  {
   "cell_type": "code",
   "execution_count": 133,
   "id": "0d632572-8c76-4cbd-8283-64739e8213fe",
   "metadata": {},
   "outputs": [
    {
     "name": "stdout",
     "output_type": "stream",
     "text": [
      "False\n"
     ]
    }
   ],
   "source": [
    "#string.endwith(suffix)\n",
    "print(function1.endswith(\"hello\"))"
   ]
  },
  {
   "cell_type": "code",
   "execution_count": null,
   "id": "b4747c4b-7696-4202-b02b-6c7913a2d88a",
   "metadata": {},
   "outputs": [],
   "source": []
  }
 ],
 "metadata": {
  "kernelspec": {
   "display_name": "Python 3 (ipykernel)",
   "language": "python",
   "name": "python3"
  },
  "language_info": {
   "codemirror_mode": {
    "name": "ipython",
    "version": 3
   },
   "file_extension": ".py",
   "mimetype": "text/x-python",
   "name": "python",
   "nbconvert_exporter": "python",
   "pygments_lexer": "ipython3",
   "version": "3.12.7"
  }
 },
 "nbformat": 4,
 "nbformat_minor": 5
}
