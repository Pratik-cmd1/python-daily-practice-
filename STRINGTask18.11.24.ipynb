{
 "cells": [
  {
   "cell_type": "markdown",
   "id": "94ffaed7-5da5-4a71-96d0-638add8a9d91",
   "metadata": {},
   "source": [
    "# String Programming question:\n",
    "Write a program to reverse a string without using built-in functions.\n",
    "\n",
    "Write a Python program to check if a string is a palindrome.\n",
    "\n",
    "How do you count the occurrences of each character in a string?\n",
    "\n",
    "Write a Python program to remove all vowels from a given string.\n",
    "\n",
    "How do you replace all spaces in a string with underscores?\n",
    "\n",
    "Write a Python function to check if a substring exists in a string.\n",
    "\n",
    "Write a program to count the number of words in a string.\n",
    "\n",
    "How do you capitalize the first letter of every word in a string?\n",
    "\n",
    "Write a Python program to remove all duplicate characters from a string.\n",
    "\n",
    "Write a program to reverse the order of words in a string.\n",
    "\n",
    "How do you check if two strings are anagrams of each other?"
   ]
  },
  {
   "cell_type": "code",
   "execution_count": 2,
   "id": "46aabebb-9811-4462-84ee-8d33b15f2002",
   "metadata": {},
   "outputs": [
    {
     "name": "stdin",
     "output_type": "stream",
     "text": [
      "Enter string : pratik rajput\n"
     ]
    },
    {
     "name": "stdout",
     "output_type": "stream",
     "text": [
      "with built in function length of string :13\n",
      "without built in function length of string : 13\n"
     ]
    }
   ],
   "source": [
    "# Write a program to reverse a string without using built-in functions.\n",
    "\n",
    "n=input(\"Enter string :\")\n",
    "print(f\"with built in function length of string :{len(n)}\")\n",
    "count=0\n",
    "for i in n:\n",
    "    count=count+1\n",
    "print(f\"without built in function length of string : {count}\")"
   ]
  },
  {
   "cell_type": "code",
   "execution_count": 4,
   "id": "546a684e-3c63-4f13-8438-be5c7fcefc89",
   "metadata": {},
   "outputs": [
    {
     "name": "stdin",
     "output_type": "stream",
     "text": [
      "Enter string : madam\n"
     ]
    },
    {
     "name": "stdout",
     "output_type": "stream",
     "text": [
      "string is Palindrome :madam\n"
     ]
    }
   ],
   "source": [
    "# Write a Python program to check if a string is a palindrome.\n",
    "n=input(\"Enter string :\")\n",
    "if n==n[::-1]:\n",
    "    print(f\"string is Palindrome :{n}\")\n",
    "else:\n",
    "    print(f\"string is not palindrome :{n}\")\n"
   ]
  },
  {
   "cell_type": "code",
   "execution_count": 12,
   "id": "c3a4f596-7640-4302-a9da-625b158386f1",
   "metadata": {},
   "outputs": [
    {
     "name": "stdin",
     "output_type": "stream",
     "text": [
      "Enter string:  pratik rajput\n"
     ]
    },
    {
     "name": "stdout",
     "output_type": "stream",
     "text": [
      "{'p': 2, 'r': 2, 'a': 2, 't': 2, 'i': 1, 'k': 1, ' ': 1, 'j': 1, 'u': 1}\n"
     ]
    }
   ],
   "source": [
    "# How do you count the occurrences of each character in a string?\n",
    "n = input(\"Enter string: \")\n",
    "count = {}\n",
    "for i in n:\n",
    "    if i in count:\n",
    "        count[i] += 1\n",
    "    else:\n",
    "        count[i] = 1\n",
    "print(count)\n",
    "    \n",
    "    \n"
   ]
  },
  {
   "cell_type": "code",
   "execution_count": 18,
   "id": "d109218b-be60-45b8-afb5-8d11ee02b3e6",
   "metadata": {},
   "outputs": [
    {
     "name": "stdin",
     "output_type": "stream",
     "text": [
      "Enter string : pratik rajput\n"
     ]
    },
    {
     "name": "stdout",
     "output_type": "stream",
     "text": [
      "prtk rjpt\n"
     ]
    }
   ],
   "source": [
    "# Write a Python program to remove all vowels from a given string.\n",
    "n=input(\"Enter string :\")\n",
    "n=n.lower()\n",
    "n=n.replace(\"a\",\"\")\n",
    "n=n.replace(\"e\",\"\")\n",
    "n=n.replace(\"i\",\"\")\n",
    "n=n.replace(\"o\",\"\")\n",
    "n=n.replace(\"u\",\"\")\n",
    "print(n)\n"
   ]
  },
  {
   "cell_type": "code",
   "execution_count": 20,
   "id": "18d4d1a5-5315-43a9-bf0c-612d208db8a4",
   "metadata": {},
   "outputs": [
    {
     "name": "stdin",
     "output_type": "stream",
     "text": [
      "Enter string : pr atik ra jput\n"
     ]
    },
    {
     "name": "stdout",
     "output_type": "stream",
     "text": [
      "pr_atik_ra_jput\n"
     ]
    }
   ],
   "source": [
    "# How do you replace all spaces in a string with underscores?\n",
    "n=input(\"Enter string :\")\n",
    "n=n.replace(\" \",\"_\")\n",
    "print(n)"
   ]
  },
  {
   "cell_type": "code",
   "execution_count": 38,
   "id": "f57670a9-402b-4615-b360-45c12b891632",
   "metadata": {},
   "outputs": [
    {
     "name": "stdin",
     "output_type": "stream",
     "text": [
      "Enter string : python is a programming language \n"
     ]
    },
    {
     "name": "stdout",
     "output_type": "stream",
     "text": [
      "substring exists at 12 index position\n"
     ]
    }
   ],
   "source": [
    "# Write a Python function to check if a substring exists in a string.\n",
    "# ===== for that python function : FIND() OR INDEX()\n",
    "n=input(\"Enter string :\")\n",
    "a=n.find(\"programming\")\n",
    "if a>=0:\n",
    "    print(f\"substring exists at {a} index position\")\n",
    "else:\n",
    "    print(f\"substring not exists in a string\")\n",
    "# substring_exists(main_string, substring):\n",
    "#This directly prints whether the substring exists (True) or not (False)."
   ]
  },
  {
   "cell_type": "code",
   "execution_count": 42,
   "id": "f6759349-a52b-445e-9c7c-b6113094b642",
   "metadata": {},
   "outputs": [
    {
     "name": "stdin",
     "output_type": "stream",
     "text": [
      "Enter string :  hello everyone myself pratik\n"
     ]
    },
    {
     "name": "stdout",
     "output_type": "stream",
     "text": [
      "4\n"
     ]
    }
   ],
   "source": [
    "# Write a program to count the number of words in a string.\n",
    "n=input(\"Enter string : \")\n",
    "for i in n:\n",
    "    a=n.count(\" \")\n",
    "a+=1\n",
    "print(a)"
   ]
  },
  {
   "cell_type": "code",
   "execution_count": 44,
   "id": "5fd27025-8897-4e99-aad4-a93748dd6a49",
   "metadata": {},
   "outputs": [
    {
     "name": "stdin",
     "output_type": "stream",
     "text": [
      "Enter string: pratik rajput\n"
     ]
    },
    {
     "data": {
      "text/plain": [
       "'Pratik Rajput'"
      ]
     },
     "execution_count": 44,
     "metadata": {},
     "output_type": "execute_result"
    }
   ],
   "source": [
    "# How do you capitalize the first letter of every word in a string?\n",
    "# === with the help if title() function you capitalize the first letter of every word in a string\n",
    "n=input(\"Enter string:\")\n",
    "n.title()"
   ]
  },
  {
   "cell_type": "code",
   "execution_count": 56,
   "id": "bfb6ef6e-c77c-40fa-80c4-122abcc39aea",
   "metadata": {},
   "outputs": [
    {
     "name": "stdin",
     "output_type": "stream",
     "text": [
      "Enter string: pratik rajput\n"
     ]
    },
    {
     "name": "stdout",
     "output_type": "stream",
     "text": [
      "pratik ju\n"
     ]
    }
   ],
   "source": [
    "# Write a Python program to remove all duplicate characters from a string.\n",
    "# dict.fromkeys(input_string) removes duplicates while preserving the order.\n",
    "# ''.join() combines the unique characters into a string.\n",
    "n=input(\"Enter string:\")\n",
    "result = \"\"\n",
    "for i in n:\n",
    "    if i not in result: \n",
    "        result += i\n",
    "    else:\n",
    "        result\n",
    "print(result)\n"
   ]
  },
  {
   "cell_type": "code",
   "execution_count": 90,
   "id": "964db922-e2e0-45a4-b101-91a3fe71903b",
   "metadata": {},
   "outputs": [
    {
     "name": "stdin",
     "output_type": "stream",
     "text": [
      "Enter string:  abc xyz jkl\n"
     ]
    },
    {
     "name": "stdout",
     "output_type": "stream",
     "text": [
      "jkl xyz abc\n"
     ]
    }
   ],
   "source": [
    "# Write a program to reverse the order of words in a string.\n",
    "n=input(\"Enter string: \")\n",
    "words = n.split()\n",
    "\n",
    "\n",
    "rev = words[::-1]\n",
    "s = \" \".join(rev)\n",
    "print(s)\n",
    "\n",
    "# s =\"\"\n",
    "# for i in range(len(words)):\n",
    "#     s= words[i] + \" \" +s\n",
    "# print(s)\n",
    "\n",
    "\n",
    "# a = ' '.join(reversed(words))\n",
    "# print(a)"
   ]
  },
  {
   "cell_type": "code",
   "execution_count": 66,
   "id": "c0951f9f-274b-4c26-9394-643f0fbfb593",
   "metadata": {},
   "outputs": [
    {
     "name": "stdin",
     "output_type": "stream",
     "text": [
      "first string eat\n",
      "second string tea\n"
     ]
    },
    {
     "name": "stdout",
     "output_type": "stream",
     "text": [
      "its anagram\n"
     ]
    }
   ],
   "source": [
    "#How do you check if two strings are anagrams of each other?\n",
    "n=input(\"first string\")\n",
    "n1 =input(\"second string\")\n",
    "if sorted(n) == sorted(n1):\n",
    "    print(\"its anagram\")\n",
    "else:\n",
    "    print(\"its not anagram\")\n",
    "    \n"
   ]
  },
  {
   "cell_type": "code",
   "execution_count": null,
   "id": "4c6cef8b-2589-45c8-89bc-cdd958c305bf",
   "metadata": {},
   "outputs": [],
   "source": []
  }
 ],
 "metadata": {
  "kernelspec": {
   "display_name": "Python 3 (ipykernel)",
   "language": "python",
   "name": "python3"
  },
  "language_info": {
   "codemirror_mode": {
    "name": "ipython",
    "version": 3
   },
   "file_extension": ".py",
   "mimetype": "text/x-python",
   "name": "python",
   "nbconvert_exporter": "python",
   "pygments_lexer": "ipython3",
   "version": "3.12.7"
  }
 },
 "nbformat": 4,
 "nbformat_minor": 5
}
