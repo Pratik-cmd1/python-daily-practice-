{
 "cells": [
  {
   "cell_type": "markdown",
   "id": "6989d955-7141-4da3-906d-27e2185daf36",
   "metadata": {},
   "source": [
    "# LOOP"
   ]
  },
  {
   "cell_type": "raw",
   "id": "f1ef0b2f-ff17-44b5-9c0e-6ce0559daebd",
   "metadata": {},
   "source": [
    "  1. What is the difference between a for loop and a while loop?  \n",
    "\n",
    "  2. How do you create an infinite loop in Python? Give an example.\n",
    "\n",
    "  3. calculate the sum of elements in a list?    \n",
    "       list1 = [10,2,4,60,10, 5, 12, 45]\n",
    "\n",
    "  4. Write a Python program to count the number of vowels from given string       s = \"Have a great day\"\n",
    "\n",
    "  5. accept number from user, check whether it is prime or not ?\n",
    "\n",
    "  6. print all prime numbers between 1-100\n",
    "\n",
    "  7. [Use ASCII Values]     \n",
    " A     \n",
    " B B\n",
    " C C C\n",
    " D D D D\n",
    " E E E E E \n",
    "\n",
    " 8. what is difference between break and continue statement with example\n",
    "\n",
    "  9. what is the use of pass statement"
   ]
  },
  {
   "cell_type": "markdown",
   "id": "206e1527-d9f9-47ea-bf33-e71c0888cc0b",
   "metadata": {},
   "source": [
    "###  1. What is the difference between a for loop and a while loop?  "
   ]
  },
  {
   "cell_type": "raw",
   "id": "31243096-afa9-4f64-83ef-c6ef4592034c",
   "metadata": {},
   "source": [
    "1. for loop\n",
    "A for loop is generally used when you know the number of iterations or are iterating over a sequence \n",
    "(like a list, tuple, dictionary, string, or range).\n",
    "Syntax: for element in sequence:\n",
    "    # Code to execute\n",
    "Example:\n",
    "for i in range(5):\n",
    "    print(i)\n",
    "This prints numbers from 0 to 4.\n",
    "\n",
    "2. while loop\n",
    "A while loop is used when the number of iterations is not known in advance, \n",
    "and you want to loop until a specific condition becomes False.\n",
    "Syntax:while condition:\n",
    "    # Code to execute\n",
    "Example:\n",
    "count = 0\n",
    "while count < 5:\n",
    "    print(count)\n",
    "    count += 1\n",
    "This also prints numbers from 0 to 4, but it runs until the condition count < 5 is no longer true.\n",
    "\n",
    "Usage: for loop is preferred when the number of iterations is known;\n",
    "       while loop is better for cases where the end condition is dynamic and might vary based on logic inside the loop."
   ]
  },
  {
   "cell_type": "markdown",
   "id": "e5c8fbd1-110b-421d-8949-996f311b6f51",
   "metadata": {},
   "source": [
    "## 2. How do you create an infinite loop in Python? Give an example."
   ]
  },
  {
   "cell_type": "raw",
   "id": "604945bb-b9dd-4d64-9cdc-1fb8c957bd59",
   "metadata": {},
   "source": [
    "To create an infinite loop in Python, you can use a while loop with a condition that always evaluates to True\n",
    "while True:\n",
    "    print(\"This will run forever\")\n",
    "This loop will continue indefinitely until it's interrupted."
   ]
  },
  {
   "cell_type": "markdown",
   "id": "c998a8f7-e090-41cb-90b1-c2aba2716818",
   "metadata": {},
   "source": [
    "## 3. calculate the sum of elements in a list? list1 = [10,2,4,60,10, 5, 12, 45]\n"
   ]
  },
  {
   "cell_type": "code",
   "execution_count": 1,
   "id": "4e0306ce-562d-4b3f-be4e-1762ab0d4684",
   "metadata": {},
   "outputs": [
    {
     "name": "stdout",
     "output_type": "stream",
     "text": [
      "sum of elements is :  45\n"
     ]
    }
   ],
   "source": [
    "list1 = [10,2,4,60,10, 5, 12, 45]\n",
    "sum1=0\n",
    "for i in list1:\n",
    "    sum1+=i\n",
    "print(\"sum of elements is : \",i)"
   ]
  },
  {
   "cell_type": "markdown",
   "id": "230c1358-911c-40c0-bfe4-2bce60b94dc4",
   "metadata": {},
   "source": [
    "## 4. Write a Python program to count the number of vowels from given string       s = \"Have a great day\""
   ]
  },
  {
   "cell_type": "code",
   "execution_count": 7,
   "id": "d6d46331-3077-4d25-8ef2-21ac77ac04b9",
   "metadata": {},
   "outputs": [
    {
     "name": "stdin",
     "output_type": "stream",
     "text": [
      "Enter string :  pratik gaikwad\n"
     ]
    },
    {
     "name": "stdout",
     "output_type": "stream",
     "text": [
      "a i a i a \n",
      "number of vowels :5\n"
     ]
    }
   ],
   "source": [
    "n=input(\"Enter string : \")\n",
    "a=0\n",
    "for i in n:\n",
    "    if(i==\"a\"or i==\"e\" or i==\"i\" or i==\"o\" or i==\"u\"or i==\"A\"or i==\"E\" or i==\"I\" or i==\"O\" or i==\"U\"):\n",
    "        a=a+1\n",
    "        print(i,end=\" \")\n",
    "print(f\"\\nnumber of vowels :{a}\")\n",
    "        "
   ]
  },
  {
   "cell_type": "markdown",
   "id": "bd1a98f7-224a-4a35-a488-056329d01cab",
   "metadata": {},
   "source": [
    "## 5. accept number from user, check whether it is prime or not ?"
   ]
  },
  {
   "cell_type": "code",
   "execution_count": 17,
   "id": "9c71f4c5-a629-446b-9476-2d8e75b16cfe",
   "metadata": {},
   "outputs": [
    {
     "name": "stdin",
     "output_type": "stream",
     "text": [
      "Enter Number :  7\n"
     ]
    },
    {
     "name": "stdout",
     "output_type": "stream",
     "text": [
      "number is prime\n"
     ]
    }
   ],
   "source": [
    "n=int(input(\"Enter Number : \"))\n",
    "for i in range (2,n):\n",
    "    if n%i==0:\n",
    "        print(\"number is not prime\")\n",
    "        break\n",
    "else :\n",
    "        print(\"number is prime\")\n"
   ]
  },
  {
   "cell_type": "markdown",
   "id": "6032630b-31c1-4d29-bcfa-625145d86693",
   "metadata": {},
   "source": [
    "## 6. print all prime numbers between 1-100"
   ]
  },
  {
   "cell_type": "code",
   "execution_count": 5,
   "id": "f79cfc03-e9e5-4eb1-ab59-0b6826e06912",
   "metadata": {},
   "outputs": [
    {
     "name": "stdout",
     "output_type": "stream",
     "text": [
      "2  \n",
      "3  \n",
      "4  \n",
      "5  \n",
      "6  \n",
      "7  \n",
      "8  \n",
      "9  \n",
      "10  \n",
      "11  \n",
      "12  \n",
      "13  \n",
      "14  \n",
      "15  \n",
      "16  \n",
      "17  \n",
      "18  \n",
      "19  \n",
      "20  \n",
      "21  \n",
      "22  \n",
      "23  \n",
      "24  \n",
      "25  \n",
      "26  \n",
      "27  \n",
      "28  \n",
      "29  \n",
      "30  \n",
      "31  \n",
      "32  \n",
      "33  \n",
      "34  \n",
      "35  \n",
      "36  \n",
      "37  \n",
      "38  \n",
      "39  \n",
      "40  \n",
      "41  \n",
      "42  \n",
      "43  \n",
      "44  \n",
      "45  \n",
      "46  \n",
      "47  \n",
      "48  \n",
      "49  \n",
      "50  \n",
      "51  \n",
      "52  \n",
      "53  \n",
      "54  \n",
      "55  \n",
      "56  \n",
      "57  \n",
      "58  \n",
      "59  \n",
      "60  \n",
      "61  \n",
      "62  \n",
      "63  \n",
      "64  \n",
      "65  \n",
      "66  \n",
      "67  \n",
      "68  \n",
      "69  \n",
      "70  \n",
      "71  \n",
      "72  \n",
      "73  \n",
      "74  \n",
      "75  \n",
      "76  \n",
      "77  \n",
      "78  \n",
      "79  \n",
      "80  \n",
      "81  \n",
      "82  \n",
      "83  \n",
      "84  \n",
      "85  \n",
      "86  \n",
      "87  \n",
      "88  \n",
      "89  \n",
      "90  \n",
      "91  \n",
      "92  \n",
      "93  \n",
      "94  \n",
      "95  \n",
      "96  \n",
      "97  \n",
      "98  \n",
      "99  \n",
      "100  \n"
     ]
    }
   ],
   "source": [
    "n=101\n",
    "for i in range (2,n):\n",
    "    if(n%i!=0):\n",
    "        print(i,\" \")\n",
    "    else:\n",
    "        pass\n",
    "# for i in range(2, 101):  \n",
    "#     num1 = True\n",
    "#     for j in range(2, i):\n",
    "#         if i % j == 0:\n",
    "#             num1 = False\n",
    "#             break\n",
    "#     if num1:\n",
    "#         print(i,end=\" \")\n"
   ]
  },
  {
   "cell_type": "markdown",
   "id": "c230ae84-011a-4129-9aa7-a31f8f495468",
   "metadata": {},
   "source": [
    "## 7. [Use ASCII Values]     \n",
    " A  \n",
    " \n",
    " B  B\n",
    " \n",
    " C  C  C\n",
    " \n",
    " D  D  D  D\n",
    " \n",
    " E   E   E   E   E "
   ]
  },
  {
   "cell_type": "code",
   "execution_count": 58,
   "id": "19dd83d5-8805-480b-85c2-de14bb240c35",
   "metadata": {},
   "outputs": [
    {
     "name": "stdout",
     "output_type": "stream",
     "text": [
      "A \n",
      "B B \n",
      "C C C \n",
      "D D D D \n",
      "E E E E E \n"
     ]
    }
   ],
   "source": [
    "# ASCII value of 'A' is 65 upto \"Z\" is 90 and \"a\"=97 and \"z\"=122\n",
    "for i in range(5):  \n",
    "    char = chr(65 + i)  \n",
    "    print((char + \" \") * (i + 1)) \n"
   ]
  },
  {
   "cell_type": "markdown",
   "id": "bd4dc7e1-7571-477f-98b0-eeec43ba4101",
   "metadata": {},
   "source": [
    "## 8. what is difference between break and continue statement with example"
   ]
  },
  {
   "cell_type": "raw",
   "id": "309786d7-3ab3-467b-8583-4259eee60150",
   "metadata": {},
   "source": [
    "break Statement:\n",
    "Purpose: Exits the loop entirely when encountered.\n",
    "Usage Example:\n",
    "for i in range(5):\n",
    "    if i == 3:\n",
    "        break  # Exits the loop when i is 3\n",
    "    print(i)\n",
    "Output:\n",
    "0\n",
    "1\n",
    "2\n",
    "\n",
    "2. continue Statement:\n",
    "Purpose: Skips the current iteration and moves to the next one.\n",
    "Usage Example:\n",
    "for i in range(5):\n",
    "    if i == 3:\n",
    "        continue  # Skips the rest of the code for i = 3\n",
    "    print(i)\n",
    "Output:\n",
    "0\n",
    "1\n",
    "2\n",
    "4\n",
    "for i in range (4):\n",
    "     print(\"Printing\")\n",
    "     if(i==2):\n",
    "         continue\n",
    "     print(i)"
   ]
  },
  {
   "cell_type": "markdown",
   "id": "0b0cc63b-076b-4fcd-8741-8748dc160a3f",
   "metadata": {},
   "source": [
    "## 9. what is the use of pass statement"
   ]
  },
  {
   "cell_type": "raw",
   "id": "f8d8f51d-ea67-47b8-af23-891293170345",
   "metadata": {},
   "source": [
    "The pass statement in Python is a placeholder that does nothing when executed. \n",
    "It's useful when a statement is syntactically required but no action is needed, allowing you to create an empty block of code.\n",
    "\n",
    "for i in range(5):\n",
    "    if i == 3:\n",
    "        pass  # Do nothing when i is 3\n",
    "    else:\n",
    "        print(i)\n",
    "output:\n",
    "0\n",
    "1\n",
    "2\n",
    "4\n"
   ]
  },
  {
   "cell_type": "code",
   "execution_count": null,
   "id": "ce8282fc-6ab3-40ca-b8dd-6ff5d4bd5a63",
   "metadata": {},
   "outputs": [],
   "source": []
  }
 ],
 "metadata": {
  "kernelspec": {
   "display_name": "Python 3 (ipykernel)",
   "language": "python",
   "name": "python3"
  },
  "language_info": {
   "codemirror_mode": {
    "name": "ipython",
    "version": 3
   },
   "file_extension": ".py",
   "mimetype": "text/x-python",
   "name": "python",
   "nbconvert_exporter": "python",
   "pygments_lexer": "ipython3",
   "version": "3.12.7"
  }
 },
 "nbformat": 4,
 "nbformat_minor": 5
}
