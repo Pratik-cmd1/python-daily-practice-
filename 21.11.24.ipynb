{
 "cells": [
  {
   "cell_type": "code",
   "execution_count": 29,
   "id": "802df2bf-4122-4b0d-a3f8-fa20bf67d394",
   "metadata": {},
   "outputs": [
    {
     "name": "stdout",
     "output_type": "stream",
     "text": [
      "boy Handsome a is Pranav\n"
     ]
    }
   ],
   "source": [
    "s=\"Pranav is a Handsome boy\"\n",
    "c=s.split()\n",
    "b=c[::-1]\n",
    "d=\" \".join(b)\n",
    "print(d)"
   ]
  },
  {
   "cell_type": "code",
   "execution_count": 31,
   "id": "ccda2e00-b848-4359-aa54-bd0d7a681162",
   "metadata": {},
   "outputs": [
    {
     "data": {
      "text/plain": [
       "'boy Handsome a is Pranav'"
      ]
     },
     "execution_count": 31,
     "metadata": {},
     "output_type": "execute_result"
    }
   ],
   "source": [
    "s=\"Pranav is a Handsome boy\"\n",
    "\" \".join(s.split()[::-1])"
   ]
  },
  {
   "cell_type": "code",
   "execution_count": 61,
   "id": "4d83f038-48f2-46b2-8692-45e92987285a",
   "metadata": {},
   "outputs": [
    {
     "data": {
      "text/plain": [
       "'vanarP si a emosdnaH yob'"
      ]
     },
     "execution_count": 61,
     "metadata": {},
     "output_type": "execute_result"
    }
   ],
   "source": [
    "\" \".join(i[::-1] for i in s.split())"
   ]
  },
  {
   "cell_type": "raw",
   "id": "97d31dfc-b6b8-4625-a70d-7fbde635ac8f",
   "metadata": {},
   "source": [
    "# 1]What is a function in Python? Why are functions used?\n",
    "# 2]Differentiate between built-in and user-defined functions.\n",
    "# 3]What is the syntax to define a function in Python?\n",
    "# 4]Explain the use of the return statement in a function.\n",
    "# 5]What happens if a function does not include a return statement?\n",
    "# 6]Can a Python function return multiple values? If yes, how?\n",
    "# 7]What is a local variable? Provide an example.\n",
    "# 8]What is a global variable? Provide an example.\n",
    "# 9]What are positional arguments? Provide an example.\n",
    "# 10]What are keyword arguments? Provide an example.\n",
    "# 11]What are default arguments in a function? Provide an example.\n",
    "# 12]What are variable-length arguments? Differentiate between *args and **kwargs.\n",
    "\n"
   ]
  },
  {
   "cell_type": "markdown",
   "id": "69489ada-bd1c-4b7e-b746-90df2bac4fd6",
   "metadata": {},
   "source": [
    "### 1] What is a function in Python? Why are functions used?\n",
    "Function in Python\n",
    "A reusable block of code for specific tasks. Used for modularity, reusability, and readability."
   ]
  },
  {
   "cell_type": "markdown",
   "id": "d86b5cd2-16b0-4a17-9446-3247d79b7e06",
   "metadata": {},
   "source": [
    "### 2] Differentiate between built-in and user-defined functions.\n",
    "Built-in vs. User-defined Functions\n",
    "\n",
    "Built-in: Predefined by Python (e.g., len(), print()).\n",
    "\n",
    "User-defined: Created by the programmer using def.\n"
   ]
  },
  {
   "cell_type": "markdown",
   "id": "13367bf4-e4ad-47bb-a80d-f2ee82faed61",
   "metadata": {},
   "source": [
    "### 3] What is the syntax to define a function in Python?\n",
    "def function_name(parameters):\n",
    "\n",
    "    # Code block\n",
    "    \n",
    "    return value\n"
   ]
  },
  {
   "cell_type": "markdown",
   "id": "16db43f1-28a7-4318-9bb0-a266dd8a72b7",
   "metadata": {},
   "source": [
    "### 4]Explain the use of the return statement in a function.\n",
    "Used to send a value back to the caller. Ends the function execution."
   ]
  },
  {
   "cell_type": "markdown",
   "id": "aea51605-ed6b-4ce7-b099-0ad7f5630d83",
   "metadata": {},
   "source": [
    "### 5]What happens if a function does not include a return statement?\n",
    "If omitted, the function returns None by default."
   ]
  },
  {
   "cell_type": "markdown",
   "id": "7a065efd-4722-4472-bfc0-81d9326618b9",
   "metadata": {},
   "source": [
    "### 6]Can a Python function return multiple values? If yes, how?\n",
    "def func():\n",
    "\n",
    "    return 1, 2, 3  # Returns a tuple (1, 2, 3)\n"
   ]
  },
  {
   "cell_type": "markdown",
   "id": "3a342254-b9b7-4d00-8a2b-73e07a504851",
   "metadata": {},
   "source": [
    "### 7]What is a local variable? Provide an example.\n",
    "Defined inside a function, accessible only within it.\n",
    "\n",
    "def example():\n",
    "   \n",
    "    x = 5  # Local variable\n"
   ]
  },
  {
   "cell_type": "markdown",
   "id": "d50275a4-0e79-4b53-8a36-35b8c36e7f7a",
   "metadata": {},
   "source": [
    "### 8]What is a global variable? Provide an example.\n",
    "Defined outside functions, accessible throughout the program.\n",
    "\n",
    "x = 5  # Global variable\n",
    "\n",
    "def example():\n",
    "    \n",
    "    print(x)\n"
   ]
  },
  {
   "cell_type": "markdown",
   "id": "379c93c7-9b15-458c-bf80-0bb3e145f905",
   "metadata": {},
   "source": [
    "### 9]What are positional arguments? Provide an example.\n",
    "Values passed in the order of parameters.\n",
    "    \n",
    "def greet(name, age):\n",
    "\n",
    "    print(name, age)\n",
    "\n",
    "greet('Alice', 25)\n"
   ]
  },
  {
   "cell_type": "markdown",
   "id": "aecaf074-e4d5-495a-9e2f-f87b86846ded",
   "metadata": {},
   "source": [
    "### 10]What are keyword arguments? Provide an example.\n",
    "Arguments passed by name.\n",
    "    \n",
    "def greet(name, age):\n",
    "\n",
    "    print(name, age)\n",
    "\n",
    "greet(age=25, name='Alice')\n"
   ]
  },
  {
   "cell_type": "markdown",
   "id": "9397e7cd-cc80-4325-9dee-744fae401f93",
   "metadata": {},
   "source": [
    "### 11]What are default arguments in a function? Provide an example.\n",
    "Parameters with default values.\n",
    "    \n",
    "def greet(name='Guest'):\n",
    "    \n",
    "    print(name)\n",
    "    \n",
    "greet()  # Prints \"Guest\"\n"
   ]
  },
  {
   "cell_type": "markdown",
   "id": "93062ff8-af53-4b20-b530-e60f7925e9a3",
   "metadata": {},
   "source": [
    "### 12]What are variable-length arguments? Differentiate between *args and **kwargs.\n",
    "*args: For non-keyworded variable arguments.\n",
    "\n",
    "**kwargs: For keyworded variable arguments.\n",
    "    \n",
    "Example:\n",
    "\n",
    "def example(*args, **kwargs):\n",
    "    \n",
    "    print(args, kwargs)\n",
    "    \n",
    "example(1, 2, a=3, b=4)\n",
    "\n",
    "Output: (1, 2) {'a': 3, 'b': 4}\n"
   ]
  }
 ],
 "metadata": {
  "kernelspec": {
   "display_name": "Python 3 (ipykernel)",
   "language": "python",
   "name": "python3"
  },
  "language_info": {
   "codemirror_mode": {
    "name": "ipython",
    "version": 3
   },
   "file_extension": ".py",
   "mimetype": "text/x-python",
   "name": "python",
   "nbconvert_exporter": "python",
   "pygments_lexer": "ipython3",
   "version": "3.12.7"
  }
 },
 "nbformat": 4,
 "nbformat_minor": 5
}
