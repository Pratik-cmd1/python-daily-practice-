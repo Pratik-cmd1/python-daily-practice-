{
 "cells": [
  {
   "cell_type": "code",
   "execution_count": 31,
   "id": "a5cd3ac9-449c-4338-84d2-514c87226511",
   "metadata": {},
   "outputs": [
    {
     "name": "stdout",
     "output_type": "stream",
     "text": [
      "{'pratik': 2, 'gaikwad': 1}\n"
     ]
    }
   ],
   "source": [
    "a=\"pratik gaikwad pratik \"\n",
    "b=a.split()\n",
    "c={}\n",
    "for i in b:\n",
    "    if i not in c:\n",
    "        c.update({i:b.count(i)})\n",
    "    count+=1\n",
    "    \n",
    "print(c)"
   ]
  },
  {
   "cell_type": "code",
   "execution_count": 43,
   "id": "23554a22-18c3-475e-819d-dac3b23aee50",
   "metadata": {},
   "outputs": [
    {
     "data": {
      "text/plain": [
       "{10: 'pratik', 20: 'ujwal', 30: 'pranav'}"
      ]
     },
     "execution_count": 43,
     "metadata": {},
     "output_type": "execute_result"
    }
   ],
   "source": [
    "d={\"pratik\":10,\"ujwal\":20,\"pranav\":30}\n",
    "k=d.keys()\n",
    "v=d.values()\n",
    "d1={}\n",
    "dict(zip(v,k))\n",
    "# for i in k:\n",
    "#     for j in v:\n",
    "#         if i not in d1:\n",
    "#             d1.update({k:v})\n",
    "        "
   ]
  },
  {
   "cell_type": "markdown",
   "id": "6a086e36-138f-44cf-ae46-593981f21586",
   "metadata": {},
   "source": [
    "# string function"
   ]
  },
  {
   "cell_type": "code",
   "execution_count": 48,
   "id": "182e4dc2-6b66-401b-bc2a-d58edf364f80",
   "metadata": {},
   "outputs": [
    {
     "data": {
      "text/plain": [
       "['pranav', 'is', 'a', 'handsome', 'boy']"
      ]
     },
     "execution_count": 48,
     "metadata": {},
     "output_type": "execute_result"
    }
   ],
   "source": [
    "\n",
    "s=\"pranav is a handsome boy\"\n",
    "s.split()"
   ]
  },
  {
   "cell_type": "code",
   "execution_count": 52,
   "id": "d844b728-7d69-4536-bf70-6f2feea8b269",
   "metadata": {},
   "outputs": [
    {
     "name": "stdout",
     "output_type": "stream",
     "text": [
      "pranav is a handsome boy\n"
     ]
    }
   ],
   "source": [
    "d=s.lower()\n",
    "print(d)"
   ]
  },
  {
   "cell_type": "code",
   "execution_count": 54,
   "id": "77560cb0-fa30-4ddb-9342-073177b64ded",
   "metadata": {},
   "outputs": [
    {
     "name": "stdout",
     "output_type": "stream",
     "text": [
      "PRANAV IS A HANDSOME BOY\n"
     ]
    }
   ],
   "source": [
    "e=s.upper()\n",
    "print(e)"
   ]
  },
  {
   "cell_type": "code",
   "execution_count": 56,
   "id": "edc1e0b9-b482-42a7-8da9-282b2f4f463e",
   "metadata": {},
   "outputs": [
    {
     "name": "stdout",
     "output_type": "stream",
     "text": [
      "Pranav is a handsome boy\n"
     ]
    }
   ],
   "source": [
    "f=s.capitalize()\n",
    "print(f)"
   ]
  },
  {
   "cell_type": "code",
   "execution_count": 115,
   "id": "ec747407-a314-4d80-987a-a9b742d8987f",
   "metadata": {},
   "outputs": [
    {
     "name": "stdout",
     "output_type": "stream",
     "text": [
      "Pranav Is A Handsome Boy\n"
     ]
    }
   ],
   "source": [
    "g=s.title()\n",
    "print(g)"
   ]
  },
  {
   "cell_type": "markdown",
   "id": "bd2fd5cc-4ef7-45e2-a402-ede0c65c330e",
   "metadata": {},
   "source": [
    "# list function"
   ]
  },
  {
   "cell_type": "code",
   "execution_count": 139,
   "id": "24818afe-71dd-49aa-9bb3-4262e9aa04f0",
   "metadata": {},
   "outputs": [
    {
     "name": "stdout",
     "output_type": "stream",
     "text": [
      "['pratik', 'ujwal', 'hritik', 'badshah', 'nayan']\n"
     ]
    }
   ],
   "source": [
    "l=[\"pratik\",\"ujwal\",\"hritik\",\"badshah\"]\n",
    "l.append(\"nayan\")\n",
    "print(l)"
   ]
  },
  {
   "cell_type": "code",
   "execution_count": 141,
   "id": "f373379a-b21c-4735-9f3e-7449ee180e5a",
   "metadata": {},
   "outputs": [
    {
     "name": "stdout",
     "output_type": "stream",
     "text": [
      "[]\n"
     ]
    }
   ],
   "source": [
    "l.clear()\n",
    "print(l)"
   ]
  },
  {
   "cell_type": "code",
   "execution_count": 152,
   "id": "e951aa0a-255c-4836-b1e2-debeca96917b",
   "metadata": {},
   "outputs": [
    {
     "name": "stdout",
     "output_type": "stream",
     "text": [
      "['n', 'a', 'h', 's', 'i', 'n', 'n', 'i', 's', 'h', 'a', 'n', 't']\n"
     ]
    }
   ],
   "source": [
    "l.extend(\"nishant\")\n",
    "print(l)"
   ]
  },
  {
   "cell_type": "code",
   "execution_count": 154,
   "id": "2dfd7603-ee45-4f95-8d39-ed1fb492d478",
   "metadata": {},
   "outputs": [
    {
     "name": "stdout",
     "output_type": "stream",
     "text": [
      "t\n"
     ]
    }
   ],
   "source": [
    "l1=l.pop()\n",
    "print(l1)"
   ]
  },
  {
   "cell_type": "code",
   "execution_count": 170,
   "id": "0b80c339-8717-4c43-9fad-83566ce1594b",
   "metadata": {},
   "outputs": [
    {
     "data": {
      "text/plain": [
       "2"
      ]
     },
     "execution_count": 170,
     "metadata": {},
     "output_type": "execute_result"
    }
   ],
   "source": [
    "l.count(\"a\")"
   ]
  },
  {
   "cell_type": "markdown",
   "id": "f026cd8d-cf4b-4144-bc88-a9f2829ef63e",
   "metadata": {},
   "source": [
    "# dictionary function"
   ]
  },
  {
   "cell_type": "code",
   "execution_count": 175,
   "id": "a73e6d1e-8281-4bb0-8033-931eb4faceeb",
   "metadata": {},
   "outputs": [],
   "source": [
    "d={1:11,2:22,3:33,4:44}"
   ]
  },
  {
   "cell_type": "code",
   "execution_count": 177,
   "id": "0065953e-28c6-4088-bb51-9ef3dbfb81ce",
   "metadata": {},
   "outputs": [
    {
     "data": {
      "text/plain": [
       "dict_keys([1, 2, 3, 4])"
      ]
     },
     "execution_count": 177,
     "metadata": {},
     "output_type": "execute_result"
    }
   ],
   "source": [
    "d.keys()"
   ]
  },
  {
   "cell_type": "code",
   "execution_count": 179,
   "id": "351af821-09b7-45ca-a6f7-16f6bfec3635",
   "metadata": {},
   "outputs": [
    {
     "data": {
      "text/plain": [
       "dict_values([11, 22, 33, 44])"
      ]
     },
     "execution_count": 179,
     "metadata": {},
     "output_type": "execute_result"
    }
   ],
   "source": [
    "d.values()"
   ]
  },
  {
   "cell_type": "code",
   "execution_count": 183,
   "id": "2f9c3eba-0b2d-41b1-b165-c39c05cdd41b",
   "metadata": {},
   "outputs": [
    {
     "data": {
      "text/plain": [
       "dict_items([(1, 11), (2, 22), (3, 33), (4, 44)])"
      ]
     },
     "execution_count": 183,
     "metadata": {},
     "output_type": "execute_result"
    }
   ],
   "source": [
    "d.items()"
   ]
  },
  {
   "cell_type": "code",
   "execution_count": 187,
   "id": "8f85528e-3b84-4aa0-acda-3d9e74190426",
   "metadata": {},
   "outputs": [
    {
     "data": {
      "text/plain": [
       "11"
      ]
     },
     "execution_count": 187,
     "metadata": {},
     "output_type": "execute_result"
    }
   ],
   "source": [
    "d.get(1)"
   ]
  },
  {
   "cell_type": "code",
   "execution_count": 197,
   "id": "5b159676-e358-47c7-ba04-958ba1504c9f",
   "metadata": {},
   "outputs": [
    {
     "name": "stdout",
     "output_type": "stream",
     "text": [
      "{1: 11, 2: 22, 3: 33, 4: 44, '5': '5', 5: 55}\n"
     ]
    }
   ],
   "source": [
    "d.update({5:55})\n",
    "print(d)"
   ]
  },
  {
   "cell_type": "markdown",
   "id": "627dd089-15c1-4ba5-89e2-dae94e4cecc4",
   "metadata": {},
   "source": [
    "# set function"
   ]
  },
  {
   "cell_type": "code",
   "execution_count": 133,
   "id": "72993f06-d0f4-4019-bc07-bf75ff976c63",
   "metadata": {},
   "outputs": [
    {
     "name": "stdout",
     "output_type": "stream",
     "text": [
      "{1, 2, 3, 4, 5}\n",
      "{1, 2}\n",
      "{3, 4, 5}\n",
      "set()\n",
      "{3, 4, 5}\n",
      "True\n",
      "True\n",
      "True\n"
     ]
    }
   ],
   "source": [
    "s1={1,2,3,4,5}\n",
    "s2={1,2}\n",
    "s3={3,4}\n",
    "s4=s1.union(s2)\n",
    "s5=s1.intersection(s2)\n",
    "s6=s1.difference(s2)\n",
    "s7=s2.difference(s1)\n",
    "s8=s1.symmetric_difference(s2)\n",
    "s9=s2.issubset(s1)\n",
    "s10=s1.issuperset(s2)\n",
    "s11=s2.isdisjoint(s3)\n",
    "print(s4)\n",
    "print(s5)\n",
    "print(s6)\n",
    "print(s7)\n",
    "print(s8)\n",
    "print(s9)\n",
    "print(s10)\n",
    "print(s11)"
   ]
  },
  {
   "cell_type": "code",
   "execution_count": null,
   "id": "fc791c27-2501-4c73-9079-cb0334044765",
   "metadata": {},
   "outputs": [],
   "source": []
  },
  {
   "cell_type": "code",
   "execution_count": null,
   "id": "a82c8d40-c1a4-45af-b5b6-605787e5c076",
   "metadata": {},
   "outputs": [],
   "source": []
  },
  {
   "cell_type": "code",
   "execution_count": null,
   "id": "b853ec86-52c3-4800-ae54-41129d9110c6",
   "metadata": {},
   "outputs": [],
   "source": []
  },
  {
   "cell_type": "code",
   "execution_count": null,
   "id": "a5fec86f-ed4d-4ac7-83e1-d93bfe082570",
   "metadata": {},
   "outputs": [],
   "source": []
  }
 ],
 "metadata": {
  "kernelspec": {
   "display_name": "Python 3 (ipykernel)",
   "language": "python",
   "name": "python3"
  },
  "language_info": {
   "codemirror_mode": {
    "name": "ipython",
    "version": 3
   },
   "file_extension": ".py",
   "mimetype": "text/x-python",
   "name": "python",
   "nbconvert_exporter": "python",
   "pygments_lexer": "ipython3",
   "version": "3.12.7"
  }
 },
 "nbformat": 4,
 "nbformat_minor": 5
}
