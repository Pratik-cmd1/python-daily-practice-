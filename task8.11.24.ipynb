{
 "cells": [
  {
   "cell_type": "markdown",
   "id": "6845603e-cd76-407d-8dc8-3b5b2f4aa7cd",
   "metadata": {},
   "source": [
    "# 1. Programs on conditional statements;"
   ]
  },
  {
   "cell_type": "markdown",
   "id": "6f0beba4-46cb-4b8f-95c2-18ac36fbe361",
   "metadata": {},
   "source": [
    "### Q 1. Check if a Number is Positive, Negative, or Zero  (n = -12345.6789)"
   ]
  },
  {
   "cell_type": "code",
   "execution_count": 31,
   "id": "79d49d2e-278c-4dc5-b6fa-8fe840ce4554",
   "metadata": {},
   "outputs": [
    {
     "name": "stdout",
     "output_type": "stream",
     "text": [
      "-12345.6789 :number is negative\n"
     ]
    }
   ],
   "source": [
    "n=-12345.6789\n",
    "if n>0:\n",
    "    print(f\"{n} :number is positive\")\n",
    "elif n<0:\n",
    "     print(f\"{n} :number is negative\")\n",
    "else :\n",
    "    print(f\"{n} :number is zero\")"
   ]
  },
  {
   "cell_type": "markdown",
   "id": "1b5c0a69-c4f0-44fc-b550-12146a01bdbe",
   "metadata": {},
   "source": [
    "### Q2.  Check if a Number is Even or Odd (n = 555555)"
   ]
  },
  {
   "cell_type": "code",
   "execution_count": 39,
   "id": "7620052e-1176-49f7-837d-05c42805eed0",
   "metadata": {},
   "outputs": [
    {
     "name": "stdout",
     "output_type": "stream",
     "text": [
      "555555: this number is odd\n"
     ]
    }
   ],
   "source": [
    "n=555555\n",
    "if n%2==0:\n",
    "    print(f\"{n}: this number is even\")\n",
    "else:\n",
    "    print(f\"{n}: this number is odd\")"
   ]
  },
  {
   "cell_type": "markdown",
   "id": "e3128647-3e1a-4086-81fd-b8df7822c3df",
   "metadata": {},
   "source": [
    "### Q3.  Find the Largest of Three Numbers (n1 = 12.45, n2 = 34.21, n3 = -98.76)"
   ]
  },
  {
   "cell_type": "code",
   "execution_count": 51,
   "id": "6dfc3957-1790-4f04-be64-5f61212f240b",
   "metadata": {},
   "outputs": [
    {
     "name": "stdout",
     "output_type": "stream",
     "text": [
      "34.21: this number is largest then 12.45 and -98.76\n"
     ]
    }
   ],
   "source": [
    "n1=12.45\n",
    "n2=34.21\n",
    "n3=-98.76\n",
    "if n1>n2 and n1>n3:\n",
    "    print(f\"{n1}: this number is largest then {n2} and {n3}\")\n",
    "elif n2>n1 and n2>n3:\n",
    "     print(f\"{n2}: this number is largest then {n1} and {n3}\")\n",
    "else:\n",
    "     print(f\"{n3}: this number is largest then {n1} and {n2}\")"
   ]
  },
  {
   "cell_type": "markdown",
   "id": "341aa869-7d47-43f8-aa63-19bdd01a446a",
   "metadata": {},
   "source": [
    "### Q4.  Write a Python program that evaluates a student's grade based on marks. (marks = 98)\n"
   ]
  },
  {
   "cell_type": "code",
   "execution_count": 73,
   "id": "869c7a18-b2b7-4890-abc8-34ae7755880b",
   "metadata": {},
   "outputs": [
    {
     "name": "stdout",
     "output_type": "stream",
     "text": [
      "marks 98: Grade \"A\" \n"
     ]
    }
   ],
   "source": [
    "marks=98\n",
    "if marks>=90:\n",
    "    print(f'''marks {marks}: Grade \"A\" ''')\n",
    "elif marks>=80:\n",
    "    print(f'''marks {marks}: Grade \"B\" ''')\n",
    "elif marks>=70:\n",
    "    print(f'''marks {marks}: Grade \"C\" ''')\n",
    "elif marks>=60:\n",
    "    print(f'''marks {marks}: Grade \"D\" ''')\n",
    "elif marks>=50:\n",
    "    print(f'''marks {marks}: Grade \"E\" ''')\n",
    "elif marks>=35:\n",
    "    print(f'''marks {marks}: Grade \"F\" ''')\n",
    "else :\n",
    "    print(f'''marks {marks}: \"Fail\" ''')"
   ]
  },
  {
   "cell_type": "markdown",
   "id": "3edd90f9-0ff5-423f-b7a0-dd4e9c96d71c",
   "metadata": {},
   "source": [
    "### Q5.  Check if a Number is Divisible by Another Number (n1 = 5040, n2 = 7)\n"
   ]
  },
  {
   "cell_type": "code",
   "execution_count": 81,
   "id": "fc66ba24-f4fd-49d1-b091-0a60d29585a3",
   "metadata": {},
   "outputs": [
    {
     "name": "stdout",
     "output_type": "stream",
     "text": [
      "5040 : this number is divisible by 7\n"
     ]
    }
   ],
   "source": [
    "n1=5040\n",
    "n2=7\n",
    "if n1%7==0:\n",
    "    print(f\"{n1} : this number is divisible by {n2}\")\n",
    "else :\n",
    "    print(f\"{n1} : this number is not divisible by {n2}\")\n",
    "    "
   ]
  },
  {
   "cell_type": "markdown",
   "id": "bdeac69e-a7ed-465b-a354-4869de368f3e",
   "metadata": {},
   "source": [
    "### Q6.  Check if a Year is Leap Year (year = 2024)\n"
   ]
  },
  {
   "cell_type": "code",
   "execution_count": 95,
   "id": "0f020d61-86bd-4a94-b8a6-1356e68843b3",
   "metadata": {},
   "outputs": [
    {
     "name": "stdout",
     "output_type": "stream",
     "text": [
      "leap\n"
     ]
    }
   ],
   "source": [
    "year =2024\n",
    "if (year%4==0 and year%100!=0) or (year%400==0) :\n",
    "    print(\"leap\")\n",
    "else:\n",
    "    print(\"not\")"
   ]
  },
  {
   "cell_type": "markdown",
   "id": "b14d9b3d-2f44-4987-9a54-6287623985c8",
   "metadata": {},
   "source": [
    "# 2. Type casting case study : survey data analysis"
   ]
  },
  {
   "cell_type": "raw",
   "id": "07da1b88-52a9-4332-9e8b-0abe3ff6ee89",
   "metadata": {},
   "source": [
    "Data:\n",
    "age = \"30\"\n",
    "satisfaction_score = \"7.5\"\n",
    "recommend = \"yes\"\n",
    "\n",
    "Tasks:\n",
    "• Converts the age to an integer.\n",
    "• Converts the satisfaction score to a float.\n",
    "• Converts the recommendation flag to a boolean.\n",
    "• Prints the converted values.\n",
    "\n",
    "Expected Output:\n",
    "***** Survey Data Analysis *****\n",
    "age = 30\n",
    "satisfaction_score = 7.5\n",
    "recommend = True\n",
    "*********************************"
   ]
  },
  {
   "cell_type": "code",
   "execution_count": 113,
   "id": "128e1e2c-6fd2-44eb-9d75-21c0dd324f4c",
   "metadata": {},
   "outputs": [
    {
     "name": "stdout",
     "output_type": "stream",
     "text": [
      "**** Survey Data Analysis ****\n",
      "age =30\n",
      "satisfaction_score =7.5\n",
      "recommend =True\n",
      "******************************\n"
     ]
    }
   ],
   "source": [
    "age=\"30\"\n",
    "satisfaction_score = \"7.5\"\n",
    "recommend = \"yes\"\n",
    "\n",
    "# Converts the age to an integer\n",
    "age=int(age)\n",
    "\n",
    "# Converts the satisfaction score to a float.\n",
    "satisfaction_score =float(satisfaction_score)\n",
    "\n",
    "# Converts the recommendation flag to a boolean.\n",
    "recommend = bool(recommend)\n",
    "\n",
    "# Prints the converted values.\n",
    "print(f\"**** Survey Data Analysis ****\\nage ={age}\\nsatisfaction_score ={satisfaction_score}\\nrecommend ={recommend}\\n******************************\")"
   ]
  },
  {
   "cell_type": "markdown",
   "id": "26d4ffab-7795-4e9d-8cc1-237e732319af",
   "metadata": {},
   "source": [
    "# 3. Difference between mutable and immutable with example"
   ]
  },
  {
   "cell_type": "markdown",
   "id": "e2937211-c337-47f8-85fc-891e9f946663",
   "metadata": {},
   "source": [
    "#### Mutable\n",
    "Mutable objects can be changed after they are created. For example, in Python, lists are mutable because you can add, remove, or modify items without creating a new list.\n",
    "\n",
    "#### immutable\n",
    "Immutable objects cannot be changed after they are created. For example, strings and tuples are immutable."
   ]
  },
  {
   "cell_type": "markdown",
   "id": "92ad7bc5-80ee-45f3-a449-822f8bbb9796",
   "metadata": {},
   "source": [
    "# 4. comparison between all datatypes (str, list, tuple, set, dict)\n"
   ]
  },
  {
   "cell_type": "markdown",
   "id": "9708cc21-d301-4a9a-b226-96838515bd36",
   "metadata": {},
   "source": [
    "### Key Difference Between List, Tuple, Set, and Dictionary in Python\n",
    "#### Mutability:\n",
    "string : Immutable (non-modifiable)\n",
    "\n",
    "List: Mutable (modifiable).\n",
    "\n",
    "Tuple: Immutable (non-modifiable).\n",
    "\n",
    "Set: Mutable, but elements inside must be immutable.\n",
    "\n",
    "Dictionary: Mutable; keys are immutable, but values can change.\n",
    "\n",
    "#### Order:\n",
    "string : Maintains order of elements.\n",
    "\n",
    "List: Maintains order of elements.\n",
    "\n",
    "Tuple: Maintains order of elements.\n",
    "\n",
    "Set: No guaranteed order.\n",
    "\n",
    "Dictionary: As of Python 3.7+, insertion order is preserved.\n",
    "\n",
    "#### Uniqueness:\n",
    "string : Allows duplicates.\n",
    "\n",
    "List: Allows duplicates.\n",
    "\n",
    "Tuple: Allows duplicates.\n",
    "\n",
    "Set: Only unique elements.\n",
    "\n",
    "Dictionary: Unique keys, values can be duplicated."
   ]
  },
  {
   "cell_type": "markdown",
   "id": "f6c033ec-db11-4831-931f-189f81101117",
   "metadata": {},
   "source": [
    "# 5 Solve the following \n",
    "FirstName = \"Ujwal\"\n",
    "LastName = \"Shrivastav\"\n",
    "City = \"Pune\"\n",
    "\n",
    "Expected Output :\n",
    "  Hello,  Ujwal   Shrivastav  from  Pune  Welcome to our store.\n",
    "\n"
   ]
  },
  {
   "cell_type": "code",
   "execution_count": 117,
   "id": "d2e87db4-f4b7-4c04-9a41-6c707bd7b166",
   "metadata": {},
   "outputs": [
    {
     "name": "stdout",
     "output_type": "stream",
     "text": [
      "Hello,Ujwal Shrivastav from Pune Welcome to our store\n"
     ]
    }
   ],
   "source": [
    "FirstName = \"Ujwal\" \n",
    "LastName = \"Shrivastav\" \n",
    "City = \"Pune\"\n",
    "print(f\"Hello,{FirstName} {LastName} from {City} Welcome to our store\")"
   ]
  },
  {
   "cell_type": "markdown",
   "id": "55352f9a-52b4-43a7-9815-d7440d8a137d",
   "metadata": {},
   "source": [
    "# 6 Solve the follfollowing \n",
    "data = (100, 200, 300) \n",
    "assign each element of the tuple to three variables: x, y, and z in one line. Then, print the values of these variables  "
   ]
  },
  {
   "cell_type": "code",
   "execution_count": 127,
   "id": "383c0ae1-4e4b-4dbb-9835-1d64fff6b63f",
   "metadata": {},
   "outputs": [
    {
     "name": "stdout",
     "output_type": "stream",
     "text": [
      " value of \"x\" is : 100\n",
      " value of \"y\" is : 200\n",
      " value of z is : 300  \n"
     ]
    }
   ],
   "source": [
    "data =(100,200,300)\n",
    "x,y,z=data[0],data[1],data[2]\n",
    "print (f''' value of \"x\" is : {x}\\n value of \"y\" is : {y}\\n value of z is : {z}  ''')"
   ]
  },
  {
   "cell_type": "markdown",
   "id": "2fa67115-efba-4ec4-b442-da76aa82e358",
   "metadata": {},
   "source": [
    " # 7 a = 123, b= 456 swap above variables with and without 3rd variable\n"
   ]
  },
  {
   "cell_type": "code",
   "execution_count": 174,
   "id": "36de6c24-949c-464e-b260-3fd9f09fb310",
   "metadata": {},
   "outputs": [
    {
     "name": "stdout",
     "output_type": "stream",
     "text": [
      " before swapping value of \"a\" is 123 and \"b\" is 456\n",
      "\n",
      " after swapping using third variable\n",
      " value of \"a\" is : 456\n",
      " value of \"b\" is 123 \n",
      "\n",
      " after swapping without using third variable\n",
      " value of \"a\" is : 456\n",
      " value of \"b\" is 123 \n"
     ]
    }
   ],
   "source": [
    "a=123\n",
    "b=456\n",
    "print (f''' before swapping value of \"a\" is {a} and \"b\" is {b}''')\n",
    "c=a\n",
    "a=b\n",
    "b=c\n",
    "print(f'''\\n after swapping using third variable\\n value of \"a\" is : {a}\\n value of \"b\" is {b} ''')\n",
    "a=123\n",
    "b=456\n",
    "a,b=b,a\n",
    "print(f'''\\n after swapping without using third variable\\n value of \"a\" is : {a}\\n value of \"b\" is {b} ''')\n",
    "\n"
   ]
  },
  {
   "cell_type": "markdown",
   "id": "e056c2c7-f7cd-46af-bc6a-a8055fec2e78",
   "metadata": {},
   "source": [
    "# 8] Identify correct variable declaration of following :\n",
    "\n",
    " 1. age = 25\n",
    "2. user-name = \"Ujwal\"\n",
    "3. 25age = 25\n",
    "4. name = \"Pranav\"\n",
    "5. first_name = \"Pratik\"\n",
    "6. pi_value = 3.14\n",
    "7. _hidden = True\n",
    "8. 123number = 50\n",
    "9. is_sunny = False\n",
    "10. class = \"Math\"\n",
    "11. user_score = 80\n",
    "12. True = 5\n",
    "13. total_price = 199.99\n",
    "14. my-variable = 100\n",
    "15. result = 500\n",
    "16. int = 5\n",
    "17. score = 90\n",
    "18. def = 10\n",
    "19. number_of_items = 50\n",
    "20. @value = 10"
   ]
  },
  {
   "cell_type": "code",
   "execution_count": 167,
   "id": "cdef59a6-a216-4846-8418-d5e064bf1248",
   "metadata": {},
   "outputs": [
    {
     "name": "stdout",
     "output_type": "stream",
     "text": [
      "25 Pranav Pratik 3.14 True False 80 199.99 500 5 90 50\n"
     ]
    }
   ],
   "source": [
    "age = 25                   # valid variable \n",
    "# user-name = \"Ujwal\"      invalid variable\n",
    "# 25age = 25               invalid variable\n",
    "name = \"Pranav\"\n",
    "first_name = \"Pratik\"     # valid variable\n",
    "pi_value = 3.14           # valid variable\n",
    "_hidden = True            # valid variable\n",
    "# 123number = 50          invalid variable\n",
    "is_sunny = False          # valid variable\n",
    "#class = \"Math\"           invalid variable\n",
    "user_score = 80           # valid variable\n",
    "# True = 5                invalid variable\n",
    "total_price = 199.99    # valid variable\n",
    "# my-variable = 100       invalid variable\n",
    "result = 500            # valid variable\n",
    "int = 5                 # valid variable\n",
    "score = 90              # valid variable \n",
    "#def = 10                invalid variable\n",
    "number_of_items = 50    # valid variable\n",
    "# @value = 10             invalid variable\n",
    "print(age , name, first_name, pi_value, _hidden, is_sunny, user_score, total_price, result ,int ,score, number_of_items)"
   ]
  },
  {
   "cell_type": "code",
   "execution_count": null,
   "id": "9ced7f1f-dfe2-40a4-bf4d-d1e117c57513",
   "metadata": {},
   "outputs": [],
   "source": []
  }
 ],
 "metadata": {
  "kernelspec": {
   "display_name": "Python 3 (ipykernel)",
   "language": "python",
   "name": "python3"
  },
  "language_info": {
   "codemirror_mode": {
    "name": "ipython",
    "version": 3
   },
   "file_extension": ".py",
   "mimetype": "text/x-python",
   "name": "python",
   "nbconvert_exporter": "python",
   "pygments_lexer": "ipython3",
   "version": "3.12.7"
  }
 },
 "nbformat": 4,
 "nbformat_minor": 5
}
