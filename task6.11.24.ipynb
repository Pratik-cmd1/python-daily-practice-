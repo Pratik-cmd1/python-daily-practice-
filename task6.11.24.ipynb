{
 "cells": [
  {
   "cell_type": "markdown",
   "id": "5f8a7dcd-3f91-4f49-bdc7-2c2493197949",
   "metadata": {},
   "source": [
    "# TASK 6/11/2024 "
   ]
  },
  {
   "cell_type": "markdown",
   "id": "b7ca78e5-a26b-4060-bc27-18495dde1ad6",
   "metadata": {},
   "source": [
    "### Q1]. Expected output \n",
    "##### --User Information--\n",
    "##### Name  : your_Name\n",
    "##### Age  : your_Age\n",
    "##### Country:your_Country \n",
    "##### ----------------------"
   ]
  },
  {
   "cell_type": "code",
   "execution_count": 4,
   "id": "d07275b6-9536-4d13-83e6-a980449dcaeb",
   "metadata": {},
   "outputs": [
    {
     "name": "stdout",
     "output_type": "stream",
     "text": [
      "--User Information--\n",
      "Name  : pratik gaikwad\n",
      "Age  : 23\n",
      "Country: India\n",
      "--------------------\n"
     ]
    }
   ],
   "source": [
    "print(\"--User Information--\")\n",
    "name = \"pratik gaikwad\"\n",
    "age = 23\n",
    "Country = \"India\"\n",
    "print(\"Name  :\",name)\n",
    "print(\"Age  :\",age)\n",
    "print(\"Country:\",Country)\n",
    "print(\"--------------------\")"
   ]
  },
  {
   "cell_type": "markdown",
   "id": "116a7af1-2f2d-426d-be12-4e0ad9d48ea6",
   "metadata": {},
   "source": [
    "### Q2. Assign grade \"A\" to three students: Neha, Priya, Riya"
   ]
  },
  {
   "cell_type": "code",
   "execution_count": 26,
   "id": "b916043f-9539-4668-8a29-3bff22096d4f",
   "metadata": {},
   "outputs": [
    {
     "name": "stdout",
     "output_type": "stream",
     "text": [
      "grade \"A\"\n"
     ]
    }
   ],
   "source": [
    "Neha = Priya = Riya = '''grade \"A\"'''\n",
    "print(Neha)"
   ]
  },
  {
   "cell_type": "markdown",
   "id": "5072bddf-e609-4914-bdb2-ca402c550675",
   "metadata": {},
   "source": [
    "### Q3. Assign grade \"A\" to  Pratik, grade \"B\" to  Pranav, and grade \"C\" to  Priti\n"
   ]
  },
  {
   "cell_type": "code",
   "execution_count": 30,
   "id": "104d77d8-be82-405c-a765-0d1796c74327",
   "metadata": {},
   "outputs": [
    {
     "data": {
      "text/plain": [
       "'grade \"A\"'"
      ]
     },
     "execution_count": 30,
     "metadata": {},
     "output_type": "execute_result"
    }
   ],
   "source": [
    "Pratik = '''grade \"A\"'''\n",
    "Pranav = '''grade \"B\"'''\n",
    "Priti = '''grade \"C\"'''\n",
    "\n",
    "Pratik"
   ]
  },
  {
   "cell_type": "markdown",
   "id": "ebafc9da-1a39-4826-bd02-7d0cd689203d",
   "metadata": {},
   "source": [
    "### Q4. Assign grade \"A\" to Ujwal, Sakeeb, Nayan and Nishant, but assign grade \"B\" to Hritik.\n"
   ]
  },
  {
   "cell_type": "code",
   "execution_count": 32,
   "id": "9c795ec0-33e0-449f-ae12-618c32ceb24c",
   "metadata": {},
   "outputs": [
    {
     "data": {
      "text/plain": [
       "'grade \"A\"'"
      ]
     },
     "execution_count": 32,
     "metadata": {},
     "output_type": "execute_result"
    }
   ],
   "source": [
    "Ujwal=Sakeeb=Nayan=Nishant='''grade \"A\"'''\n",
    "Hritik='''grade \"B\"'''\n",
    "\n",
    "Ujwal"
   ]
  },
  {
   "cell_type": "markdown",
   "id": "8d64b582-88f0-4c0a-bbac-1e2d0e8ca67f",
   "metadata": {},
   "source": [
    "### Q5. input data:\n",
    "City Pune : Temperature = 25 c, Humidity = 60%\n",
    "City Mumbai: Temperature = 30 c, Humidity = 50%\n",
    "\n",
    "Expected Output:\n",
    "City Pune : Temperature =  30 c, Humidity = 50%\n",
    "City Mumbai: Temperature = 25 c, Humidity = 60%\n"
   ]
  },
  {
   "cell_type": "code",
   "execution_count": 1,
   "id": "85a1c056-6144-4d35-8573-735d61961573",
   "metadata": {},
   "outputs": [
    {
     "name": "stdout",
     "output_type": "stream",
     "text": [
      "City Pune :Temperature = 30 c,Humidity = 50%\n",
      "City Mumbai :Temperature = 25 c,Humidity = 60%\n"
     ]
    }
   ],
   "source": [
    "City_PuneT,City_PuneH = \"25 c\",\"60%\"\n",
    "City_MumbaiT,City_MumbaiH = \"30 c\", \"50%\"\n",
    "\n",
    "City_PuneT,City_MumbaiT=City_MumbaiT,City_PuneT\n",
    "City_PuneH,City_MumbaiH=City_MumbaiH,City_PuneH\n",
    "\n",
    "print(f\"City Pune :Temperature = {City_PuneT},Humidity = {City_PuneH}\")\n",
    "print(f\"City Mumbai :Temperature = {City_MumbaiT},Humidity = {City_MumbaiH}\")\n"
   ]
  },
  {
   "cell_type": "markdown",
   "id": "7839e735-ab77-42c6-a84e-4ff7b90b4f1f",
   "metadata": {},
   "source": [
    "### Q6. What is variable? how do you define/ declare Identifiers in python"
   ]
  },
  {
   "cell_type": "raw",
   "id": "000e3296-f88d-4908-8bdb-9edac757b2a1",
   "metadata": {},
   "source": [
    "A variable in Python is a name that holds a value or reference to an object. You don’t need to declare types; just assign a value (e.g., x = 5).\n",
    "\n",
    "Identifiers\n",
    "Identifiers are names for variables, functions, etc. They must:\n",
    "Start with a letter or underscore (_), followed by letters, numbers, or underscores.\n",
    "Be case-sensitive (e.g., Name and name are different).\n",
    "Not use reserved keywords (e.g., if, for)."
   ]
  },
  {
   "cell_type": "markdown",
   "id": "b2f85ed1-b215-4140-9aef-52f42b954cfa",
   "metadata": {},
   "source": [
    "### Q7. What are literals? mention types of literals with examples"
   ]
  },
  {
   "cell_type": "raw",
   "id": "acedae37-2c66-4cca-accd-c2de5727df09",
   "metadata": {},
   "source": [
    "Literals are fixed values assigned to variables directly in Python code. They represent constant values.\n",
    "\n",
    "Types of Literals in Python:\n",
    "Numeric Literals: Numbers in various forms.\n",
    "Integer: 10\n",
    "Float: 3.14\n",
    "Complex: 2 + 3j\n",
    "\n",
    "String Literals: Text enclosed in quotes.\n",
    "Single-line: \"Hello\" or 'World'\n",
    "Multi-line: \"\"\"This is a multi-line string\"\"\"\n",
    "\n",
    "Boolean Literals: Represent truth values.\n",
    "True, False\n",
    "\n",
    "Special Literal: Represents the absence of a value.\n",
    "None\n",
    "\n",
    "Literal Collections: Literal representations of collections.\n",
    "List: [1, 2, 3]\n",
    "Tuple: (4, 5, 6)\n",
    "Dictionary: {\"key\": \"value\"}\n",
    "Set: {7, 8, 9}"
   ]
  },
  {
   "cell_type": "markdown",
   "id": "bbfe01e6-7d53-46e4-afaa-2d26ba96fa6b",
   "metadata": {},
   "source": [
    "### Q8.print the value of the variable along with its data type\n",
    "      a = 9876543210.123456789"
   ]
  },
  {
   "cell_type": "code",
   "execution_count": 59,
   "id": "7616795d-d386-432d-8b58-a171a4f8559a",
   "metadata": {},
   "outputs": [
    {
     "name": "stdout",
     "output_type": "stream",
     "text": [
      "9876543210.123457 <class 'float'>\n"
     ]
    }
   ],
   "source": [
    "a = 9876543210.123456789\n",
    "print(a,type(a))"
   ]
  },
  {
   "cell_type": "code",
   "execution_count": null,
   "id": "7626c123-1a11-4231-8155-d1fc247b9187",
   "metadata": {},
   "outputs": [],
   "source": []
  }
 ],
 "metadata": {
  "kernelspec": {
   "display_name": "Python 3 (ipykernel)",
   "language": "python",
   "name": "python3"
  },
  "language_info": {
   "codemirror_mode": {
    "name": "ipython",
    "version": 3
   },
   "file_extension": ".py",
   "mimetype": "text/x-python",
   "name": "python",
   "nbconvert_exporter": "python",
   "pygments_lexer": "ipython3",
   "version": "3.12.7"
  }
 },
 "nbformat": 4,
 "nbformat_minor": 5
}
