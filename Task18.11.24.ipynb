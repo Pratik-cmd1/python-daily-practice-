{
 "cells": [
  {
   "cell_type": "code",
   "execution_count": 5,
   "id": "97b1fe9a-f7ee-4dc6-9891-424956a66bde",
   "metadata": {},
   "outputs": [
    {
     "name": "stdin",
     "output_type": "stream",
     "text": [
      "Enter string : pratik\n"
     ]
    },
    {
     "name": "stdout",
     "output_type": "stream",
     "text": [
      "with built in function length of string :6\n",
      "without built in function length of string : 6\n"
     ]
    }
   ],
   "source": [
    "#accept string for user and find out with and without built in function\n",
    "n=input(\"Enter string :\")\n",
    "print(f\"with built in function length of string :{len(n)}\")\n",
    "count=0\n",
    "for i in n:\n",
    "    count=count+1\n",
    "print(f\"without built in function length of string : {count}\")"
   ]
  },
  {
   "cell_type": "code",
   "execution_count": 7,
   "id": "c0266738-080b-4207-854c-946cca6e5d75",
   "metadata": {},
   "outputs": [
    {
     "name": "stdin",
     "output_type": "stream",
     "text": [
      "Enter string : pratik\n"
     ]
    },
    {
     "name": "stdout",
     "output_type": "stream",
     "text": [
      "kitarp\n"
     ]
    }
   ],
   "source": [
    "n=input(\"Enter string :\")\n",
    "print(n[::-1])"
   ]
  },
  {
   "cell_type": "code",
   "execution_count": 9,
   "id": "7f1cb177-42f0-42b1-b20e-752e7199f422",
   "metadata": {},
   "outputs": [
    {
     "name": "stdin",
     "output_type": "stream",
     "text": [
      "Enter string : nayan\n"
     ]
    },
    {
     "name": "stdout",
     "output_type": "stream",
     "text": [
      "string is Palindrome :nayan\n"
     ]
    }
   ],
   "source": [
    "n=input(\"Enter string :\")\n",
    "if n==n[::-1]:\n",
    "    print(f\"string is Palindrome :{n}\")\n",
    "else:\n",
    "    print(f\"string is not palindrome :{n}\")\n",
    "\n"
   ]
  },
  {
   "cell_type": "code",
   "execution_count": 33,
   "id": "c6a30ba9-8bfe-4362-ab9c-bb78fab48ba1",
   "metadata": {},
   "outputs": [
    {
     "name": "stdin",
     "output_type": "stream",
     "text": [
      "Enter string : sdfghnjkiuytfrd\n"
     ]
    },
    {
     "name": "stdout",
     "output_type": "stream",
     "text": [
      "sdfghnjkytfrd\n"
     ]
    }
   ],
   "source": [
    "n=input(\"Enter string :\")\n",
    "n=n.lower()\n",
    "n=n.replace(\"a\",\"\")\n",
    "n=n.replace(\"e\",\"\")\n",
    "n=n.replace(\"i\",\"\")\n",
    "n=n.replace(\"o\",\"\")\n",
    "n=n.replace(\"u\",\"\")\n",
    "print(n)\n"
   ]
  },
  {
   "cell_type": "code",
   "execution_count": 35,
   "id": "fcf1b825-7323-4c1d-add4-b637ba93ffd8",
   "metadata": {},
   "outputs": [
    {
     "name": "stdin",
     "output_type": "stream",
     "text": [
      "Enter string : eeeeedd\n"
     ]
    },
    {
     "name": "stdout",
     "output_type": "stream",
     "text": [
      "5\n"
     ]
    }
   ],
   "source": [
    "n=input(\"Enter string :\")\n",
    "n=n.count(\"e\")\n",
    "print(n)"
   ]
  },
  {
   "cell_type": "code",
   "execution_count": 45,
   "id": "7ea2cad3-fcc9-47fd-94c9-1ed4e765e1cf",
   "metadata": {},
   "outputs": [
    {
     "name": "stdin",
     "output_type": "stream",
     "text": [
      "Enter string : 1233\n"
     ]
    },
    {
     "name": "stdout",
     "output_type": "stream",
     "text": [
      "3321\n"
     ]
    }
   ],
   "source": [
    "n=int(input(\"Enter string :\"))\n",
    "a=(str(n)[::-1])\n",
    "print(a)\n"
   ]
  },
  {
   "cell_type": "code",
   "execution_count": 47,
   "id": "e9e6977c-55b4-449d-8f9a-72a10005f2a3",
   "metadata": {},
   "outputs": [
    {
     "name": "stdout",
     "output_type": "stream",
     "text": [
      "[1, 9, 16, 49, 100, 144, 36, 81]\n"
     ]
    }
   ],
   "source": [
    "list1=[1,3,4,7,10,12,6,9]\n",
    "list2=[]\n",
    "for i in list1:\n",
    "    list2.append(i**2)\n",
    "print(list2)"
   ]
  },
  {
   "cell_type": "code",
   "execution_count": 49,
   "id": "c383bcbe-6e22-4a68-af55-8437a2e9d1f0",
   "metadata": {},
   "outputs": [
    {
     "name": "stdout",
     "output_type": "stream",
     "text": [
      "52\n"
     ]
    }
   ],
   "source": [
    "# addition of list element's\n",
    "list1=[1,3,4,7,10,12,6,9]\n",
    "count=0\n",
    "for i in list1:\n",
    "    count=count+i\n",
    "print(count)\n"
   ]
  },
  {
   "cell_type": "code",
   "execution_count": 61,
   "id": "d875313d-38e3-442d-a97e-9b75e6eed120",
   "metadata": {},
   "outputs": [
    {
     "name": "stdout",
     "output_type": "stream",
     "text": [
      "[10, 12.5, 'Pune', 'Mumbai']\n"
     ]
    }
   ],
   "source": [
    "# \"pune\" replace with mumbai\n",
    "list1=[10,12.5,\"Pune\",True]\n",
    "list1[3]=\"Mumbai\"\n",
    "print(list1)\n",
    "\n"
   ]
  },
  {
   "cell_type": "code",
   "execution_count": null,
   "id": "8e7c6a70-3dc2-42b5-af30-6c0f9eb7985a",
   "metadata": {},
   "outputs": [],
   "source": []
  }
 ],
 "metadata": {
  "kernelspec": {
   "display_name": "Python 3 (ipykernel)",
   "language": "python",
   "name": "python3"
  },
  "language_info": {
   "codemirror_mode": {
    "name": "ipython",
    "version": 3
   },
   "file_extension": ".py",
   "mimetype": "text/x-python",
   "name": "python",
   "nbconvert_exporter": "python",
   "pygments_lexer": "ipython3",
   "version": "3.12.7"
  }
 },
 "nbformat": 4,
 "nbformat_minor": 5
}
