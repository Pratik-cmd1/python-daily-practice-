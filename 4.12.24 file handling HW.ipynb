{
 "cells": [
  {
   "cell_type": "markdown",
   "id": "05ca43ff-375c-4750-8dfe-d299cc95203f",
   "metadata": {},
   "source": [
    "# File Handling\n",
    "\n",
    "1. Write a Python program to read an entire text file\n",
    "\n",
    "2. Write a Python program to read the first n lines of a file\n",
    "\n",
    "3. Write a Python program to append text to a file and display the text\n",
    "\n",
    "4. Write a Python program to read the last n lines of a file\n",
    "\n",
    "5. Write a Python program to read a file line by line and store it into a list\n",
    "\n",
    "6. Write a Python program to count the number of lines in a text file\n",
    "\n",
    "7. Write a Python program to count the frequency of words in a file"
   ]
  },
  {
   "cell_type": "code",
   "execution_count": 26,
   "id": "7327f649-3f24-4030-bb4c-545a147a2c00",
   "metadata": {},
   "outputs": [
    {
     "name": "stdout",
     "output_type": "stream",
     "text": [
      "India, officially the Republic of India,[j][20] is a country in South Asia. \n",
      "It is the seventh-largest country in the world by area and the most populous country. \n",
      "Bounded by the Indian Ocean on the south, the Arabian Sea on the southwest, \n",
      "and the Bay of Bengal on the southeast, it shares land borders with Pakistan to the west;[k] China, Nepal, \n",
      "and Bhutan to the north; and Bangladesh and Myanmar to the east. In the Indian Ocean, \n",
      "India is in the vicinity of Sri Lanka and the Maldives; \n",
      "its Andaman and Nicobar Islands share a maritime border with Thailand, Myanmar, and Indonesia.\n"
     ]
    }
   ],
   "source": [
    "# 1] Write a Python program to read an entire text file\n",
    "with open(\"task2_onfilehandling.txt\")as file:\n",
    "    print(file.read())\n"
   ]
  },
  {
   "cell_type": "code",
   "execution_count": 28,
   "id": "2fda75b7-ade0-48a5-b99a-26d9d8b69656",
   "metadata": {},
   "outputs": [
    {
     "name": "stdout",
     "output_type": "stream",
     "text": [
      "India, officially the Republic of India,[j][20] is a country in South Asia. \n",
      "\n",
      "It is the seventh-largest country in the world by area and the most populous country. \n",
      "\n",
      "Bounded by the Indian Ocean on the south, the Arabian Sea on the southwest, \n",
      "\n",
      "and the Bay of Bengal on the southeast, it shares land borders with Pakistan to the west;[k] China, Nepal, \n",
      "\n"
     ]
    }
   ],
   "source": [
    "# 2] Write a Python program to read the first n lines of a file\n",
    "with open(\"task2_onfilehandling.txt\",\"r\") as file:\n",
    "    for i in range(4):\n",
    "        line = file.readline()\n",
    "        if not line:\n",
    "            break\n",
    "        print(line)"
   ]
  },
  {
   "cell_type": "code",
   "execution_count": 34,
   "id": "0e5870f8-5ca0-4a1a-9101-a353f2138aa0",
   "metadata": {},
   "outputs": [
    {
     "name": "stdout",
     "output_type": "stream",
     "text": [
      "India, officially the Republic of India,[j][20] is a country in South Asia. \n",
      "It is the seventh-largest country in the world by area and the most populous country. \n",
      "Bounded by the Indian Ocean on the south, the Arabian Sea on the southwest, \n",
      "and the Bay of Bengal on the southeast, it shares land borders with Pakistan to the west;[k] China, Nepal, \n",
      "and Bhutan to the north; and Bangladesh and Myanmar to the east. In the Indian Ocean, \n",
      "India is in the vicinity of Sri Lanka and the Maldives; \n",
      "its Andaman and Nicobar Islands share a maritime border with Thailand, Myanmar, and Indonesia.\n",
      "appended data added \n"
     ]
    }
   ],
   "source": [
    "# 3] Write a Python program to append text to a file and display the text\n",
    "with open(\"task2_onfilehandling.txt\",\"a\") as file:\n",
    "    file.write(\"\\nappended data added \")\n",
    "with open(\"task2_onfilehandling.txt\") as file:\n",
    "    print(file.read())\n",
    "    "
   ]
  },
  {
   "cell_type": "code",
   "execution_count": null,
   "id": "bfa4080b-f879-40ad-808c-6c51c474d0ae",
   "metadata": {},
   "outputs": [],
   "source": [
    "# 4]Write a Python program to read the last n lines of a file\n"
   ]
  },
  {
   "cell_type": "code",
   "execution_count": 36,
   "id": "16edf554-64d6-4a25-8c77-0ec7d2087e79",
   "metadata": {},
   "outputs": [
    {
     "name": "stdout",
     "output_type": "stream",
     "text": [
      "['India, officially the Republic of India,[j][20] is a country in South Asia. \\n', 'It is the seventh-largest country in the world by area and the most populous country. \\n', 'Bounded by the Indian Ocean on the south, the Arabian Sea on the southwest, \\n', 'and the Bay of Bengal on the southeast, it shares land borders with Pakistan to the west;[k] China, Nepal, \\n', 'and Bhutan to the north; and Bangladesh and Myanmar to the east. In the Indian Ocean, \\n', 'India is in the vicinity of Sri Lanka and the Maldives; \\n', 'its Andaman and Nicobar Islands share a maritime border with Thailand, Myanmar, and Indonesia.\\n', 'appended data added ']\n"
     ]
    }
   ],
   "source": [
    "# 5]Write a Python program to read a file line by line and store it into a list\n",
    "with open(\"task2_onfilehandling.txt\",\"r\")as file:\n",
    "    print(file.readlines())\n"
   ]
  },
  {
   "cell_type": "code",
   "execution_count": 38,
   "id": "94c8380b-562e-4148-a2b7-b7c21de6938c",
   "metadata": {},
   "outputs": [
    {
     "name": "stdout",
     "output_type": "stream",
     "text": [
      "8\n"
     ]
    }
   ],
   "source": [
    "# 6] Write a Python program to count the number of lines in a text file\n",
    "with open(\"task2_onfilehandling.txt\",\"r\")as file:\n",
    "    lines=file.readlines()\n",
    "    print(len(lines))"
   ]
  },
  {
   "cell_type": "code",
   "execution_count": null,
   "id": "5269bc88-80ab-435c-8b1f-5b008fda8a4b",
   "metadata": {},
   "outputs": [],
   "source": [
    "# pranav is a handsome boy \n",
    "# tejas is a naughty boy\n",
    "# sohil is a gangster boy\n",
    "# suhas is a chocolate boy"
   ]
  },
  {
   "cell_type": "code",
   "execution_count": 78,
   "id": "ea1dc4e1-8f3e-4213-933c-326f5ce6c099",
   "metadata": {},
   "outputs": [
    {
     "name": "stdout",
     "output_type": "stream",
     "text": [
      "{'pranav': 1, 'is': 4, 'a': 4, 'handsome': 1, 'boy': 4, 'tejas': 1, 'naughty': 1, 'sohil': 1, 'gangster': 1, 'suhas': 1, 'chocolate': 1}\n"
     ]
    }
   ],
   "source": [
    "# 7]Write a Python program to count the frequency of words in a file\n",
    "with open(\"task2_onfilehandling.txt\",\"r\")as file:\n",
    "    a=file.read()\n",
    "    b=a.split()\n",
    "    c ={}\n",
    "    for i in b:\n",
    "        d = b.count(i)\n",
    "        c.update({i:d})\n",
    "    print(c)"
   ]
  },
  {
   "cell_type": "code",
   "execution_count": 7,
   "id": "7ca7f1a8-9bf4-4346-a0e2-9eb9899ab4f9",
   "metadata": {},
   "outputs": [
    {
     "data": {
      "text/plain": [
       "['ab', 'cd', 'da', 'sd', 'kl', 'fj', 'lj', 'kf', 'hf', 'ui']"
      ]
     },
     "execution_count": 7,
     "metadata": {},
     "output_type": "execute_result"
    }
   ],
   "source": [
    "import re\n",
    "text=\"ab cd dasd klfjlj kfn 78 8999 hfui\"\n",
    "pattern=\"[a-z]{2}\"\n",
    "re.findall(pattern,text)"
   ]
  },
  {
   "cell_type": "code",
   "execution_count": 9,
   "id": "978d4933-430f-41f8-b059-b350d60e9ade",
   "metadata": {},
   "outputs": [
    {
     "name": "stderr",
     "output_type": "stream",
     "text": [
      "<>:3: SyntaxWarning: invalid escape sequence '\\d'\n",
      "<>:3: SyntaxWarning: invalid escape sequence '\\d'\n",
      "C:\\Users\\icon\\AppData\\Local\\Temp\\ipykernel_6284\\2155192666.py:3: SyntaxWarning: invalid escape sequence '\\d'\n",
      "  pattern=\"[\\d]\"\n"
     ]
    },
    {
     "data": {
      "text/plain": [
       "['7', '8', '8', '9', '9', '9']"
      ]
     },
     "execution_count": 9,
     "metadata": {},
     "output_type": "execute_result"
    }
   ],
   "source": [
    "import re\n",
    "text=\"ab cd dasd klfjlj kfn 78 8999 hfui\"\n",
    "pattern=\"[\\d]\"\n",
    "re.findall(pattern,text)"
   ]
  },
  {
   "cell_type": "code",
   "execution_count": null,
   "id": "1ec97445-ab98-407b-ae92-eaa517182b4e",
   "metadata": {},
   "outputs": [],
   "source": []
  }
 ],
 "metadata": {
  "kernelspec": {
   "display_name": "Python 3 (ipykernel)",
   "language": "python",
   "name": "python3"
  },
  "language_info": {
   "codemirror_mode": {
    "name": "ipython",
    "version": 3
   },
   "file_extension": ".py",
   "mimetype": "text/x-python",
   "name": "python",
   "nbconvert_exporter": "python",
   "pygments_lexer": "ipython3",
   "version": "3.12.7"
  }
 },
 "nbformat": 4,
 "nbformat_minor": 5
}
