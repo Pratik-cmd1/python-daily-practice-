{
 "cells": [
  {
   "cell_type": "code",
   "execution_count": 5,
   "id": "5e9a5cc8-7896-423d-b245-122e326bee9c",
   "metadata": {},
   "outputs": [
    {
     "data": {
      "text/plain": [
       "20"
      ]
     },
     "execution_count": 5,
     "metadata": {},
     "output_type": "execute_result"
    }
   ],
   "source": [
    "# find maximum no from above list\n",
    "L1=[10,20,10,20,1,2,3,1,2,3]\n",
    "        \n",
    "    \n",
    "max(L1)"
   ]
  },
  {
   "cell_type": "code",
   "execution_count": 9,
   "id": "b4ebd6bf-ffef-4e94-83f7-0ec977125d85",
   "metadata": {},
   "outputs": [
    {
     "name": "stdout",
     "output_type": "stream",
     "text": [
      "10\n"
     ]
    }
   ],
   "source": [
    "L1=[1,2,3,4]\n",
    "count=0\n",
    "for i in L1:\n",
    "    count=count+i\n",
    "print(count)\n"
   ]
  },
  {
   "cell_type": "code",
   "execution_count": 13,
   "id": "b7b99da4-4f9a-4212-b119-5eb95969f6ea",
   "metadata": {},
   "outputs": [
    {
     "name": "stdout",
     "output_type": "stream",
     "text": [
      "3\n",
      "5\n",
      "1\n"
     ]
    }
   ],
   "source": [
    "L1=[10,2,4,3,5,1,10,20]\n",
    "for i in L1:\n",
    "    if i%2==0:\n",
    "        pass\n",
    "    else:\n",
    "        print(i)"
   ]
  },
  {
   "cell_type": "code",
   "execution_count": 23,
   "id": "43b97f5f-9f88-450a-b284-dbda327e4144",
   "metadata": {},
   "outputs": [
    {
     "name": "stdout",
     "output_type": "stream",
     "text": [
      "[1, 2, 3, 'a', 'b']\n"
     ]
    }
   ],
   "source": [
    "L=[[1,2,3],['a','b']]\n",
    "l=[j for i in L for j in i]\n",
    "print(l)"
   ]
  },
  {
   "cell_type": "code",
   "execution_count": null,
   "id": "3c8f913b-2ed7-4897-81ce-759f3f898813",
   "metadata": {},
   "outputs": [],
   "source": []
  }
 ],
 "metadata": {
  "kernelspec": {
   "display_name": "Python 3 (ipykernel)",
   "language": "python",
   "name": "python3"
  },
  "language_info": {
   "codemirror_mode": {
    "name": "ipython",
    "version": 3
   },
   "file_extension": ".py",
   "mimetype": "text/x-python",
   "name": "python",
   "nbconvert_exporter": "python",
   "pygments_lexer": "ipython3",
   "version": "3.12.7"
  }
 },
 "nbformat": 4,
 "nbformat_minor": 5
}
