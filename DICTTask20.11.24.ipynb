{
 "cells": [
  {
   "cell_type": "markdown",
   "id": "4255e14c-4dfd-4429-a359-e6ece0494bc7",
   "metadata": {},
   "source": [
    "# Dictionary programs "
   ]
  },
  {
   "cell_type": "code",
   "execution_count": null,
   "id": "b1a2be08-d321-40b8-a26d-a41631998953",
   "metadata": {},
   "outputs": [],
   "source": [
    "1.Python program to sort Python Dictionaries by Keys\n",
    "2. Python program to sort Python Dictionaries by Values\n",
    "3. Counting the frequencies in a list using a dictionary in Python\n",
    "4. Create a list of tuples from the given list having a number and its cube in each tuple\n",
    "5.  Can a dictionary have duplicate keys?\n",
    "6.  How do you delete a key-value pair from a dictionary?"
   ]
  },
  {
   "cell_type": "code",
   "execution_count": 64,
   "id": "389b5c6d-d8a8-456e-8f9a-b6763cc0265c",
   "metadata": {},
   "outputs": [
    {
     "name": "stdout",
     "output_type": "stream",
     "text": [
      "{1: 'delhi', 2: 'mumbai', 3: 'hyderabad', 4: 'chennai', 5: 'pune'}\n"
     ]
    }
   ],
   "source": [
    "#1.Python program to sort Python Dictionaries by Keys\n",
    "dict1={5:\"pune\",2:\"mumbai\",4:\"chennai\",3:\"hyderabad\",1:\"delhi\"}\n",
    "d = {}\n",
    "for i in sorted(dict1.keys()):\n",
    "    d.update({i:dict1[i]})\n",
    "print(d)"
   ]
  },
  {
   "cell_type": "code",
   "execution_count": 68,
   "id": "dac4cd54-fddb-4705-937b-276d4ab6f8f8",
   "metadata": {},
   "outputs": [
    {
     "name": "stdout",
     "output_type": "stream",
     "text": [
      "{4: 'chennai', 1: 'delhi', 3: 'hyderabad', 2: 'mumbai', 5: 'pune'}\n"
     ]
    }
   ],
   "source": [
    "#2. Python program to sort Python Dictionaries by Values\n",
    "d1={}\n",
    "for i in sorted(dict1.values()):\n",
    "    for j in dict1:\n",
    "        if i == dict1[j]:\n",
    "            d1.update({j:i})\n",
    "print(d1)\n"
   ]
  },
  {
   "cell_type": "code",
   "execution_count": 86,
   "id": "62461835-6e94-4ab5-968c-df506aeb34bf",
   "metadata": {},
   "outputs": [
    {
     "name": "stdout",
     "output_type": "stream",
     "text": [
      "{1: 3, 2: 1, 3: 3, 4: 3}\n"
     ]
    }
   ],
   "source": [
    "# 3. Counting the frequencies in a list using a dictionary in Python\n",
    "l = [1,2,1,3,1,3,4,3,4,4]\n",
    "d={}\n",
    "for i in l:\n",
    "    c = l.count(i)\n",
    "    if i not in d:\n",
    "        d.update({i:c})\n",
    "print(d)\n",
    "    "
   ]
  },
  {
   "cell_type": "code",
   "execution_count": 80,
   "id": "816ef46c-f9b9-40ea-b2e3-8041fa2f2493",
   "metadata": {},
   "outputs": [
    {
     "name": "stdout",
     "output_type": "stream",
     "text": [
      "[(1, 1), (2, 8), (3, 27), (4, 64), (5, 125)]\n"
     ]
    }
   ],
   "source": [
    "# 4. Create a list of tuples from the given list having a number and its cube in each tuple\n",
    "numbers = [1, 2, 3, 4, 5]\n",
    "cubes_list =[]\n",
    "for num in numbers:\n",
    "    cubes_list.append((num,num**3))\n",
    "print(cubes_list)\n"
   ]
  },
  {
   "cell_type": "markdown",
   "id": "5389b35e-8bf8-4f31-bdaf-83cc35c5c2de",
   "metadata": {},
   "source": [
    "# 5.  Can a dictionary have duplicate keys?\n",
    "### ANSWER :NO"
   ]
  },
  {
   "cell_type": "markdown",
   "id": "b35b4ce7-3583-495a-9ce8-76dff55ee7d3",
   "metadata": {},
   "source": [
    "# 6.  How do you delete a key-value pair from a dictionary?\n",
    "### ANSWER: by using pop() and popitem()"
   ]
  }
 ],
 "metadata": {
  "kernelspec": {
   "display_name": "Python 3 (ipykernel)",
   "language": "python",
   "name": "python3"
  },
  "language_info": {
   "codemirror_mode": {
    "name": "ipython",
    "version": 3
   },
   "file_extension": ".py",
   "mimetype": "text/x-python",
   "name": "python",
   "nbconvert_exporter": "python",
   "pygments_lexer": "ipython3",
   "version": "3.12.7"
  }
 },
 "nbformat": 4,
 "nbformat_minor": 5
}
