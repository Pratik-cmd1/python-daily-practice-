{
 "cells": [
  {
   "cell_type": "code",
   "execution_count": 21,
   "id": "a458d2ba-81fb-4a39-9061-c4e3fc44182a",
   "metadata": {},
   "outputs": [
    {
     "name": "stdout",
     "output_type": "stream",
     "text": [
      "120\n"
     ]
    }
   ],
   "source": [
    "#factorial of number without using recursion \n",
    "n=5\n",
    "fact=1\n",
    "for i in range(1,n+1):\n",
    "    fact=fact*i\n",
    "print(fact)"
   ]
  },
  {
   "cell_type": "code",
   "execution_count": 23,
   "id": "2f8d87f8-22a9-4461-a539-b72fa28fcd98",
   "metadata": {},
   "outputs": [],
   "source": [
    "#factorial of number using recursion \n",
    "def fact(n):\n",
    "    if(n==1)or(n==0):\n",
    "        return 1\n",
    "    else:\n",
    "        return n*fact(n-1)"
   ]
  },
  {
   "cell_type": "code",
   "execution_count": 25,
   "id": "0270fd42-8132-4784-9c1c-96839c94ccc6",
   "metadata": {},
   "outputs": [
    {
     "data": {
      "text/plain": [
       "120"
      ]
     },
     "execution_count": 25,
     "metadata": {},
     "output_type": "execute_result"
    }
   ],
   "source": [
    "fact(5)"
   ]
  },
  {
   "cell_type": "code",
   "execution_count": 39,
   "id": "6432d57f-b5da-4429-995b-9dffd57bee7b",
   "metadata": {},
   "outputs": [
    {
     "name": "stdout",
     "output_type": "stream",
     "text": [
      "0\n",
      "1\n",
      "1\n",
      "2\n",
      "3\n",
      "5\n",
      "8\n",
      "13\n",
      "21\n",
      "34\n",
      "55\n",
      "89\n"
     ]
    }
   ],
   "source": [
    "#fibonacci serie without using recursion\n",
    "n=12\n",
    "num=0\n",
    "num1=1\n",
    "for i in range(n):\n",
    "    print(num)\n",
    "    num,num1=num1,num+num1\n"
   ]
  },
  {
   "cell_type": "code",
   "execution_count": 1,
   "id": "c151e605-1618-4330-b4d8-87abddf2e9ff",
   "metadata": {},
   "outputs": [
    {
     "data": {
      "text/plain": [
       "3"
      ]
     },
     "execution_count": 1,
     "metadata": {},
     "output_type": "execute_result"
    }
   ],
   "source": [
    "x=lambda a,b:a+b\n",
    "x(1,2)"
   ]
  },
  {
   "cell_type": "code",
   "execution_count": 5,
   "id": "548f8e9f-8d0d-44d1-93ef-6228269ef2ba",
   "metadata": {},
   "outputs": [
    {
     "data": {
      "text/plain": [
       "10"
      ]
     },
     "execution_count": 5,
     "metadata": {},
     "output_type": "execute_result"
    }
   ],
   "source": [
    "x=lambda *args:sum(args)\n",
    "x(1,2,3,4)"
   ]
  },
  {
   "cell_type": "code",
   "execution_count": null,
   "id": "3681ee09-ff1d-4e10-90ae-d76ffa840b64",
   "metadata": {},
   "outputs": [],
   "source": []
  }
 ],
 "metadata": {
  "kernelspec": {
   "display_name": "Python 3 (ipykernel)",
   "language": "python",
   "name": "python3"
  },
  "language_info": {
   "codemirror_mode": {
    "name": "ipython",
    "version": 3
   },
   "file_extension": ".py",
   "mimetype": "text/x-python",
   "name": "python",
   "nbconvert_exporter": "python",
   "pygments_lexer": "ipython3",
   "version": "3.12.7"
  }
 },
 "nbformat": 4,
 "nbformat_minor": 5
}
