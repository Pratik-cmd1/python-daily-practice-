{
 "cells": [
  {
   "cell_type": "markdown",
   "id": "c5324743-b73c-4e2d-8615-6a1226c07f61",
   "metadata": {},
   "source": [
    "# List Programming Questions:\n",
    "1. Write a program to remove duplicates from a list.\n",
    "2. How do you find the second largest number in list?\n",
    "3. Write a program to flatten a nested list.\n",
    "4. What is the difference between list.append() and list.extend()?\n",
    "5.  Write a Python program to count the occurrences of each element in a list\n",
    "6. Write a program to find the sum of all elements in a list using both a loop and the sum() function.\n",
    "7. Check if a given element exists in a list or not, and return its index if it does.\n",
    "8. Remove all occurrences of a specific element from a list without using the remove() method"
   ]
  },
  {
   "cell_type": "code",
   "execution_count": 1,
   "id": "34447585-f80e-4dbf-9739-65178b9450e9",
   "metadata": {},
   "outputs": [
    {
     "name": "stdout",
     "output_type": "stream",
     "text": [
      "[33, 10, (2+3j), 12.5, 'pune']\n"
     ]
    }
   ],
   "source": [
    "#1. Write a program to remove duplicates from a list.\n",
    "l1=[10,12.5,10,10,33,12.5,\"pune\",2+3j,33]\n",
    "l2=set(l1)\n",
    "print(list(l2))"
   ]
  },
  {
   "cell_type": "code",
   "execution_count": 7,
   "id": "0a634c30-a29e-4340-87ba-decf71cadcd7",
   "metadata": {},
   "outputs": [
    {
     "name": "stdout",
     "output_type": "stream",
     "text": [
      "88\n"
     ]
    }
   ],
   "source": [
    "# 2. How do you find the second largest number in list? \n",
    "\n",
    "# l1=[10,21,32,65,12,34,88,91,85,85,10,21,21]\n",
    "# l2=set(l1)\n",
    "# l3=list(l2)\n",
    "# print(l3)\n",
    "# l3.sort(reverse = True)\n",
    "# print(l3)\n",
    "# print(l3[1])\n",
    "\n",
    "l1=[10,21,32,65,12,34,88,91,85,85,10,21,21]\n",
    "l2=[]\n",
    "for i in l1:\n",
    "    if i not in l2:\n",
    "        l2.append(i)\n",
    "l2.sort()\n",
    "print(l2[-2])"
   ]
  },
  {
   "cell_type": "code",
   "execution_count": 15,
   "id": "c11a2aee-5ea3-4077-90a8-cd93471f1781",
   "metadata": {},
   "outputs": [
    {
     "name": "stdout",
     "output_type": "stream",
     "text": [
      "[1, 2, 3, 4, 5, 6, 8, 6, 3, 4, 4, 2]\n"
     ]
    }
   ],
   "source": [
    "l = [1,2,3,[4,5],6,8,[6,3],[4,4,2]]\n",
    "l1 =[]\n",
    "for i in l:\n",
    "    if type(i) == list:\n",
    "        for j in i:\n",
    "            l1.append(j)\n",
    "    else:\n",
    "        l1.append(i)\n",
    "\n",
    "print(l1)"
   ]
  },
  {
   "cell_type": "code",
   "execution_count": null,
   "id": "e5792120-0ada-4bef-aca9-0b1b430db1a1",
   "metadata": {},
   "outputs": [],
   "source": [
    "#4. What is the difference between list.append() and list.extend()?\n",
    "# list.append():use to add only one element at the end of list\n",
    "# list.extend() : use to add multiple elements at the end of list\n"
   ]
  },
  {
   "cell_type": "code",
   "execution_count": 37,
   "id": "4a9a6667-a3ac-4399-9229-929587fbd64d",
   "metadata": {},
   "outputs": [
    {
     "name": "stdout",
     "output_type": "stream",
     "text": [
      "{'pune': 3, 'mumbai': 2, 'buldana': 2}\n"
     ]
    }
   ],
   "source": [
    "# 5.  Write a Python program to count the occurrences of each element in a list \n",
    "n= ['pune', 'mumbai', 'mumbai', 'pune', 'buldana', 'buldana','pune']\n",
    "# count_dict = {}\n",
    "# for item in n:\n",
    "#     if item in count_dict:\n",
    "#         count_dict[item] += 1  \n",
    "#     else:\n",
    "#         count_dict[item] = 1  \n",
    "# for element, count in count_dict.items():\n",
    "#     print(f\"{element}: {count}\")\n",
    "\n",
    "count = {}\n",
    "for i in n:\n",
    "    if i in count:\n",
    "        count[i] += 1\n",
    "    else:\n",
    "        count[i] = 1\n",
    "print(str(count))\n",
    "\n"
   ]
  },
  {
   "cell_type": "code",
   "execution_count": 5,
   "id": "56f77648-189d-49dd-a2b7-828fa3ad7ae7",
   "metadata": {},
   "outputs": [
    {
     "name": "stdout",
     "output_type": "stream",
     "text": [
      "Sum using loop: 301\n",
      "Sum using sum() function: 301\n"
     ]
    }
   ],
   "source": [
    "# 6. Write a program to find the sum of all elements in a list using both a loop and the sum() function.\n",
    "l1 = [10, 21, 38, 76, 55, 34, 45 , 22]\n",
    "n = 0\n",
    "for i in l1:\n",
    "    n += i\n",
    "print(f\"Sum using loop: {n}\")\n",
    "m = sum(l1)\n",
    "print(f\"Sum using sum() function: {m}\")"
   ]
  },
  {
   "cell_type": "code",
   "execution_count": 3,
   "id": "c48e03bb-3c05-483d-9b0e-4d9eac246102",
   "metadata": {},
   "outputs": [
    {
     "name": "stdout",
     "output_type": "stream",
     "text": [
      "Element 'is' found at index: 4\n"
     ]
    }
   ],
   "source": [
    "# 7. Check if a given element exists in a list or not, and return its index if it does. \n",
    "n = ['hello', 'everyone', 'my', 'name','is','pratik']\n",
    "n1 = 'is'\n",
    "if n1 in n:\n",
    "    a = n.index(n1)\n",
    "    print(f\"Element '{n1}' found at index: {a}\")\n",
    "else:\n",
    "    print(f\"Element '{n1}' not found in the list.\")\n"
   ]
  },
  {
   "cell_type": "code",
   "execution_count": 25,
   "id": "aff1ff80-912c-4319-8eae-d4adebb6b49e",
   "metadata": {},
   "outputs": [
    {
     "name": "stdin",
     "output_type": "stream",
     "text": [
      "enter the element:  9\n"
     ]
    },
    {
     "name": "stdout",
     "output_type": "stream",
     "text": [
      "[1, 2, 3, 5, 4, 6, 7, 8, 4, 2, 1, 5, 1, 8, 1]\n"
     ]
    }
   ],
   "source": [
    "# 8. Remove all occurrences of a specific element from a list without using the remove() method\n",
    "li = [1,2,3,5,4,6,7,8,9,4,2,1,5,1,8,1,9]\n",
    "l2=[]\n",
    "n = int(input(\"enter the element: \"))\n",
    "for i in li:\n",
    "    if i == n:\n",
    "        continue\n",
    "    else:\n",
    "        l2.append(i)     \n",
    "print(l2)"
   ]
  },
  {
   "cell_type": "code",
   "execution_count": null,
   "id": "b0c4b720-2ea7-46a9-b679-a11c268785fc",
   "metadata": {},
   "outputs": [],
   "source": []
  }
 ],
 "metadata": {
  "kernelspec": {
   "display_name": "Python 3 (ipykernel)",
   "language": "python",
   "name": "python3"
  },
  "language_info": {
   "codemirror_mode": {
    "name": "ipython",
    "version": 3
   },
   "file_extension": ".py",
   "mimetype": "text/x-python",
   "name": "python",
   "nbconvert_exporter": "python",
   "pygments_lexer": "ipython3",
   "version": "3.12.7"
  }
 },
 "nbformat": 4,
 "nbformat_minor": 5
}
