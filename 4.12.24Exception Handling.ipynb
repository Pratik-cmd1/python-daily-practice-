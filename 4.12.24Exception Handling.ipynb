{
 "cells": [
  {
   "cell_type": "markdown",
   "id": "57168d38-436d-47d6-b6ee-7a2f9b33b0ee",
   "metadata": {},
   "source": [
    "                                                                                                   PRATIK GAIKWAD"
   ]
  },
  {
   "cell_type": "markdown",
   "id": "3ce0f7f9-50d5-4c7c-ba62-39fbf0b470bd",
   "metadata": {},
   "source": [
    "## What is an Exception in Python?\n",
    "An exception is an event that disrupts the normal flow of a program during execution, \n",
    "often caused by errors like dividing by zero, accessing invalid indexes, or incorrect input."
   ]
  },
  {
   "cell_type": "markdown",
   "id": "feefed1d-bddb-4a85-be26-330f252fc475",
   "metadata": {},
   "source": [
    "## How to Handle Exceptions in Python?\n",
    "Use try and except:\n",
    "\n",
    "Place the code that might cause an exception inside a try block.\n",
    "\n",
    "Handle the exception in the except block."
   ]
  },
  {
   "cell_type": "markdown",
   "id": "7191700a-f4a2-4593-95eb-9dfead26baed",
   "metadata": {},
   "source": [
    "#### syntax"
   ]
  },
  {
   "cell_type": "raw",
   "id": "baa27d3e-9d30-4846-bf78-067e51292e6b",
   "metadata": {},
   "source": [
    "try:\n",
    "    block of code\n",
    "except<error_name>:\n",
    "    error\n",
    "except(optional)<error_name>:\n",
    "    error2\n",
    "else(optional):\n",
    "    state (calculations)\n",
    "finally(optional):\n",
    "    always runs if error occurs or not"
   ]
  },
  {
   "cell_type": "markdown",
   "id": "efa99a2f-5dd4-49f0-8c13-fc9cf23a7f52",
   "metadata": {},
   "source": [
    "### Why Handle Exceptions?\n",
    "\n",
    "To prevent program crashes.\n",
    "    \n",
    "To provide meaningful error messages.\n",
    "\n",
    "To ensure graceful termination of the program."
   ]
  },
  {
   "cell_type": "raw",
   "id": "f731f86b-64f9-4f2c-915b-92eca6d3c2ad",
   "metadata": {},
   "source": [
    "\n",
    "SyntaxError\t        : Raised when Python encounters invalid syntax.\n",
    "IndentationError\t: Raised when there are incorrect indentations in the code.\n",
    "TypeError\t        : Raised when an operation is applied to an object of an inappropriate type.\n",
    "ValueError\t        : Raised when a function receives an argument of the correct type but an inappropriate value.\n",
    "NameError\t        : Raised when a variable or function name is not found.\n",
    "KeyError\t        : Raised when trying to access a dictionary key that does not exist.\n",
    "IndexError\t        : Raised when trying to access an index outside the range of a list or tuple.\n",
    "ZeroDivisionError\t: Raised when attempting to divide a number by zero.\n",
    "FileNotFoundError\t: Raised when attempting to open a file that does not exist.\n",
    "ImportError\t        : Raised when an import statement fails to find the specified module.\n",
    "AttributeError\t    : Raised when an invalid attribute is referenced on an object.\n",
    "OverflowError\t    : Raised when a calculation exceeds the limits for a numeric type.\n",
    "IOError\t            : Raised when an input/output operation (e.g., file handling) fails.\n",
    "RuntimeError\t    : Raised when an error occurs that doesn’t fall into any other category.\n",
    "MemoryError\t        : Raised when a program runs out of memory.\n",
    "StopIteration\t    : Raised when the next() function is called on an iterator that has no more items.\n",
    "AssertionError\t    : Raised when an assert statement fails.\n",
    "RecursionError\t    : Raised when the maximum recursion depth is exceeded during a recursive function call."
   ]
  },
  {
   "cell_type": "markdown",
   "id": "f300e067-d5ea-4c38-a0f6-9babd69c3508",
   "metadata": {},
   "source": [
    "#### try and except block"
   ]
  },
  {
   "cell_type": "code",
   "execution_count": 74,
   "id": "61f71d42-5d49-4a28-bb21-d93394469658",
   "metadata": {},
   "outputs": [
    {
     "name": "stdout",
     "output_type": "stream",
     "text": [
      "Cannot divide by zero!\n"
     ]
    }
   ],
   "source": [
    "try:\n",
    "    a = 10 / 0\n",
    "except ZeroDivisionError:\n",
    "    print(\"Cannot divide by zero!\")"
   ]
  },
  {
   "cell_type": "markdown",
   "id": "c123135a-5be9-445d-8595-bf5853060d6d",
   "metadata": {},
   "source": [
    "#### Multiple except Blocks:\n",
    "\n",
    "Handle different exceptions with specific except blocks."
   ]
  },
  {
   "cell_type": "code",
   "execution_count": 77,
   "id": "e57decd8-222e-49f9-ab58-891949c90c91",
   "metadata": {},
   "outputs": [
    {
     "name": "stdin",
     "output_type": "stream",
     "text": [
      "Enter a number:  0\n"
     ]
    },
    {
     "name": "stdout",
     "output_type": "stream",
     "text": [
      "Division by zero is not allowed.\n"
     ]
    }
   ],
   "source": [
    "try:\n",
    "  n = int(input(\"Enter a number: \"))\n",
    "  a = 10 / n\n",
    "  print(\"The result is:\", a)\n",
    "except ZeroDivisionError:\n",
    "  print(\"Division by zero is not allowed.\")\n",
    "except ValueError:\n",
    "  print(\"Invalid input. Please enter a valid number.\")"
   ]
  },
  {
   "cell_type": "markdown",
   "id": "caa18fbf-dba9-4d07-91c6-99fb2fd56c61",
   "metadata": {},
   "source": [
    "#### Catch All Exceptions:\n",
    "\n",
    "Use a general except block to catch any exception."
   ]
  },
  {
   "cell_type": "code",
   "execution_count": 49,
   "id": "d52d786e-50d9-401d-b0c3-0e99c7ba5616",
   "metadata": {},
   "outputs": [
    {
     "name": "stdout",
     "output_type": "stream",
     "text": [
      "checkinput: invalid literal for int() with base 10: 'abc'\n"
     ]
    }
   ],
   "source": [
    "try:\n",
    "    num = int(\"abc\")\n",
    "except Exception as e:\n",
    "    print(f\"checkinput: {e}\")"
   ]
  },
  {
   "cell_type": "markdown",
   "id": "cbb6dd8a-d78e-4b61-a083-2e548c51f007",
   "metadata": {},
   "source": [
    "#### else Clause:\n",
    "optional to write \n",
    "\n",
    "Executes code if no exception occurs."
   ]
  },
  {
   "cell_type": "code",
   "execution_count": 38,
   "id": "2ec90ed0-fb9e-4b37-8d5f-9456f395abef",
   "metadata": {},
   "outputs": [
    {
     "name": "stdout",
     "output_type": "stream",
     "text": [
      "5.0\n",
      "No errors occurred.\n"
     ]
    }
   ],
   "source": [
    "try:\n",
    "    print(10 / 2)\n",
    "except ZeroDivisionError:\n",
    "    print(\"Error!\")\n",
    "else:\n",
    "    print(\"No errors occurred.\")"
   ]
  },
  {
   "cell_type": "markdown",
   "id": "012f2dda-4f75-4d97-9a1a-8a107598780e",
   "metadata": {},
   "source": [
    "#### finally Clause:\n",
    "\n",
    "optional to write\n",
    "\n",
    "Executes code whether an exception occurs or not.\n"
   ]
  },
  {
   "cell_type": "code",
   "execution_count": 42,
   "id": "c5582a0e-2f65-4cbf-b11f-67b6ba72ba9e",
   "metadata": {},
   "outputs": [
    {
     "name": "stdout",
     "output_type": "stream",
     "text": [
      "Error!\n",
      "Execution complete.\n"
     ]
    }
   ],
   "source": [
    "try:\n",
    "    print(10 / 0)\n",
    "except ZeroDivisionError:\n",
    "    print(\"Error!\")\n",
    "finally:\n",
    "    print(\"Execution complete.\")\n"
   ]
  },
  {
   "cell_type": "markdown",
   "id": "2a241555-6ffd-4d3d-b823-a8641d4cc00b",
   "metadata": {},
   "source": [
    "##### use all in one "
   ]
  },
  {
   "cell_type": "code",
   "execution_count": 13,
   "id": "7312689a-c93e-4f99-9b3f-d70934e6369d",
   "metadata": {},
   "outputs": [
    {
     "name": "stdin",
     "output_type": "stream",
     "text": [
      "enter number :  pratik\n"
     ]
    },
    {
     "name": "stdout",
     "output_type": "stream",
     "text": [
      "Invalid input\n",
      "have a nice day.....!\n"
     ]
    }
   ],
   "source": [
    "a=input(\"enter number : \")\n",
    "try:\n",
    "    for i in range(1,11):\n",
    "        print(int(a)*i)\n",
    "except:\n",
    "    print(\"Invalid input\")\n",
    "else:\n",
    "    print(\"program run successfully\")\n",
    "finally:\n",
    "    print(\"have a nice day.....!\")"
   ]
  },
  {
   "cell_type": "markdown",
   "id": "431bf2bb-9153-4a32-98e1-f066a30fed0c",
   "metadata": {},
   "source": [
    "# User-Defined Exception Handling in Python\n",
    "User-defined exceptions allow you to create custom exceptions that are specific to your program's requirements. \n",
    "This is done by defining a new exception class that inherits from Python's built-in Exception class (or any subclass of it)."
   ]
  },
  {
   "cell_type": "markdown",
   "id": "9daeba4d-2219-4357-ad47-b5026f4365ff",
   "metadata": {},
   "source": [
    "#### raise keyword\n",
    "Trigger Exceptions: Used to manually raise built-in or user-defined exceptions.\n",
    "\n",
    "Specify Exception: Must follow with an exception class or instance (e.g., raise ValueError).\n",
    "\n",
    "Custom Messages: Allows adding a descriptive error message.\n"
   ]
  },
  {
   "cell_type": "markdown",
   "id": "4c0294f4-64ae-439f-b578-0e8dce17d339",
   "metadata": {},
   "source": [
    "#### Why Use raise?\n",
    "Validation: To enforce constraints (e.g., input validation).\n",
    "\n",
    "Custom Logic: Signal custom error conditions in your program.\n",
    "    \n",
    "Re-Raising Exceptions: Pass the exception to a higher level for further handling"
   ]
  },
  {
   "cell_type": "code",
   "execution_count": 85,
   "id": "748575a5-0e70-4d3e-b356-e4f35f135cbe",
   "metadata": {},
   "outputs": [
    {
     "ename": "ValueError",
     "evalue": "x cannot be negative!",
     "output_type": "error",
     "traceback": [
      "\u001b[1;31m---------------------------------------------------------------------------\u001b[0m",
      "\u001b[1;31mValueError\u001b[0m                                Traceback (most recent call last)",
      "Cell \u001b[1;32mIn[85], line 4\u001b[0m\n\u001b[0;32m      2\u001b[0m x \u001b[38;5;241m=\u001b[39m \u001b[38;5;241m-\u001b[39m\u001b[38;5;241m1\u001b[39m\n\u001b[0;32m      3\u001b[0m \u001b[38;5;28;01mif\u001b[39;00m x \u001b[38;5;241m<\u001b[39m \u001b[38;5;241m0\u001b[39m:\n\u001b[1;32m----> 4\u001b[0m     \u001b[38;5;28;01mraise\u001b[39;00m \u001b[38;5;167;01mValueError\u001b[39;00m(\u001b[38;5;124m\"\u001b[39m\u001b[38;5;124mx cannot be negative!\u001b[39m\u001b[38;5;124m\"\u001b[39m)\n",
      "\u001b[1;31mValueError\u001b[0m: x cannot be negative!"
     ]
    }
   ],
   "source": [
    "# Raising a Built-in Exception:\n",
    "x = -1\n",
    "if x < 0:\n",
    "    raise ValueError(\"x cannot be negative!\")\n"
   ]
  },
  {
   "cell_type": "code",
   "execution_count": 96,
   "id": "aaf83e11-77f4-4170-a947-64f22d7204a0",
   "metadata": {},
   "outputs": [
    {
     "name": "stdout",
     "output_type": "stream",
     "text": [
      "Caught division by zero!\n"
     ]
    },
    {
     "ename": "ZeroDivisionError",
     "evalue": "division by zero",
     "output_type": "error",
     "traceback": [
      "\u001b[1;31m---------------------------------------------------------------------------\u001b[0m",
      "\u001b[1;31mZeroDivisionError\u001b[0m                         Traceback (most recent call last)",
      "Cell \u001b[1;32mIn[96], line 3\u001b[0m\n\u001b[0;32m      1\u001b[0m \u001b[38;5;66;03m# Raising Exceptions in try-except Block:\u001b[39;00m\n\u001b[0;32m      2\u001b[0m \u001b[38;5;28;01mtry\u001b[39;00m:\n\u001b[1;32m----> 3\u001b[0m     x \u001b[38;5;241m=\u001b[39m \u001b[38;5;241m10\u001b[39m \u001b[38;5;241m/\u001b[39m \u001b[38;5;241m0\u001b[39m\n\u001b[0;32m      4\u001b[0m \u001b[38;5;28;01mexcept\u001b[39;00m \u001b[38;5;167;01mZeroDivisionError\u001b[39;00m:\n\u001b[0;32m      5\u001b[0m     \u001b[38;5;28mprint\u001b[39m(\u001b[38;5;124m\"\u001b[39m\u001b[38;5;124mCaught division by zero!\u001b[39m\u001b[38;5;124m\"\u001b[39m)\n",
      "\u001b[1;31mZeroDivisionError\u001b[0m: division by zero"
     ]
    }
   ],
   "source": [
    "# Raising Exceptions in try-except Block:\n",
    "try:\n",
    "    x = 10 / 0\n",
    "except ZeroDivisionError:\n",
    "    print(\"Caught division by zero!\")\n",
    "    raise "
   ]
  },
  {
   "cell_type": "markdown",
   "id": "6037f715-8e75-413f-b1d4-bcdd03f9e69c",
   "metadata": {},
   "source": [
    "### Advantages of User-Defined Exceptions\n",
    "Custom Error Messages: Makes debugging easier with specific messages.\n",
    "\n",
    "Domain-Specific Errors: Helps enforce specific rules in your application.\n",
    "\n",
    "Improved Readability: Clearly indicates the type of error for better understanding."
   ]
  },
  {
   "cell_type": "markdown",
   "id": "d3ee10a4-8ad1-4a86-a5a0-c9073e236cda",
   "metadata": {},
   "source": [
    "### Steps to Create and Handle a User-Defined Exception\n",
    "Define the __Exception__ Class:\n",
    "\n",
    "Inherit from the Exception class.\n",
    "Optionally, override the __init__ or __str__  method to customize the behavior or error message.\n",
    "\n",
    "Raise the Custom Exception:\n",
    "\n",
    "Use the raise keyword to trigger the exception where required.\n",
    "Handle the Exception:\n",
    "\n",
    "Use a try-except block to catch and manage the exception."
   ]
  },
  {
   "cell_type": "markdown",
   "id": "d1d914aa-00b7-41a6-9166-dba95dc82c42",
   "metadata": {},
   "source": [
    "#### Example 1: Simple Custom Exception"
   ]
  },
  {
   "cell_type": "code",
   "execution_count": 103,
   "id": "429b6dfa-057f-440b-9a10-92b865dbecf0",
   "metadata": {},
   "outputs": [
    {
     "name": "stdout",
     "output_type": "stream",
     "text": [
      "Caught custom exception: This is a user-defined exception!\n"
     ]
    }
   ],
   "source": [
    "# Step 1: Define the exception class\n",
    "class MyCustomError(Exception):\n",
    "    pass\n",
    "\n",
    "# Step 2: Raise the exception\n",
    "try:\n",
    "    raise MyCustomError(\"This is a user-defined exception!\")\n",
    "except MyCustomError as e:\n",
    "    # Step 3: Handle the exception\n",
    "    print(f\"Caught custom exception: {e}\")\n"
   ]
  },
  {
   "cell_type": "markdown",
   "id": "6e1c84a2-42a5-4312-a4fb-e4878a601ab9",
   "metadata": {},
   "source": [
    "#### Example 2: Custom Exception with Additional Logic"
   ]
  },
  {
   "cell_type": "code",
   "execution_count": null,
   "id": "f10097ea-223e-43f2-88a6-9ed64ce5e2ba",
   "metadata": {},
   "outputs": [],
   "source": [
    "# Define a custom exception for invalid age\n",
    "class InvalidAgeError(Exception):\n",
    "    def __init__(self, age):\n",
    "        super().__init__(f\"Invalid age: {age}. Age must be between 18 and 60.\")\n",
    "\n",
    "# Function to validate age\n",
    "def validate_age(age):\n",
    "    if age < 18 or age > 60:\n",
    "        raise InvalidAgeError(age)\n",
    "\n",
    "# Using the custom exception\n",
    "try:\n",
    "    validate_age(15)  # Invalid age\n",
    "except InvalidAgeError as e:\n",
    "    print(e)\n"
   ]
  }
 ],
 "metadata": {
  "kernelspec": {
   "display_name": "Python 3 (ipykernel)",
   "language": "python",
   "name": "python3"
  },
  "language_info": {
   "codemirror_mode": {
    "name": "ipython",
    "version": 3
   },
   "file_extension": ".py",
   "mimetype": "text/x-python",
   "name": "python",
   "nbconvert_exporter": "python",
   "pygments_lexer": "ipython3",
   "version": "3.12.7"
  }
 },
 "nbformat": 4,
 "nbformat_minor": 5
}
