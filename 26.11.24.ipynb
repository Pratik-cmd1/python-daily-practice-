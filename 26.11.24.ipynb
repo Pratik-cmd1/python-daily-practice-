{
 "cells": [
  {
   "cell_type": "code",
   "execution_count": 1,
   "id": "1a6509ac-577d-4574-9f38-1bc19bfd13b2",
   "metadata": {},
   "outputs": [
    {
     "name": "stdout",
     "output_type": "stream",
     "text": [
      "welcome to city class\n"
     ]
    },
    {
     "data": {
      "text/plain": [
       "<__main__.city at 0x20ec596cef0>"
      ]
     },
     "execution_count": 1,
     "metadata": {},
     "output_type": "execute_result"
    }
   ],
   "source": [
    "class city():\n",
    "    print(\"welcome to city class\")\n",
    "pune=city()\n",
    "pune"
   ]
  },
  {
   "cell_type": "code",
   "execution_count": 5,
   "id": "bd233b59-3283-4a95-b8b5-5bd588f6da7d",
   "metadata": {},
   "outputs": [
    {
     "data": {
      "text/plain": [
       "<__main__.city at 0x20ec6c5b770>"
      ]
     },
     "execution_count": 5,
     "metadata": {},
     "output_type": "execute_result"
    }
   ],
   "source": [
    "buldana=city()\n",
    "buldana"
   ]
  },
  {
   "cell_type": "code",
   "execution_count": 7,
   "id": "9345c4ca-be38-4d63-9250-f99e72d00286",
   "metadata": {},
   "outputs": [
    {
     "data": {
      "text/plain": [
       "<__main__.city at 0x20ec618c740>"
      ]
     },
     "execution_count": 7,
     "metadata": {},
     "output_type": "execute_result"
    }
   ],
   "source": [
    "mumbai=city()\n",
    "mumbai"
   ]
  },
  {
   "cell_type": "code",
   "execution_count": 9,
   "id": "c0be3b8a-8832-42a7-a7bf-e55a64aef00d",
   "metadata": {},
   "outputs": [],
   "source": [
    "class college():\n",
    "    roll_no=7\n",
    "    def __init__(self):\n",
    "        print(\"come's in init \")\n",
    "    def classroom1(self):\n",
    "        print(\"Welcome to classroom first\")\n",
    "    def classroom2(self):\n",
    "        print(\"Welcome to classroom Second\")"
   ]
  },
  {
   "cell_type": "code",
   "execution_count": 11,
   "id": "c025b228-d209-4576-9b1b-7c964f5e7b9e",
   "metadata": {},
   "outputs": [
    {
     "name": "stdout",
     "output_type": "stream",
     "text": [
      "come's in init \n"
     ]
    }
   ],
   "source": [
    "pranav=college()"
   ]
  },
  {
   "cell_type": "code",
   "execution_count": 13,
   "id": "cdf7b745-9972-4ebf-8838-6642fbbc3d38",
   "metadata": {},
   "outputs": [
    {
     "data": {
      "text/plain": [
       "7"
      ]
     },
     "execution_count": 13,
     "metadata": {},
     "output_type": "execute_result"
    }
   ],
   "source": [
    "# access atribute \n",
    "pranav.roll_no"
   ]
  },
  {
   "cell_type": "code",
   "execution_count": 15,
   "id": "55c4acf1-a5d4-48e8-8993-e2eee1cb2e1e",
   "metadata": {},
   "outputs": [
    {
     "name": "stdout",
     "output_type": "stream",
     "text": [
      "Welcome to classroom first\n"
     ]
    }
   ],
   "source": [
    "# access method \n",
    "pranav.classroom1()"
   ]
  },
  {
   "cell_type": "code",
   "execution_count": 17,
   "id": "5eb02be2-52d6-4d74-803e-795064391ce6",
   "metadata": {},
   "outputs": [
    {
     "name": "stdout",
     "output_type": "stream",
     "text": [
      "Welcome to classroom Second\n"
     ]
    }
   ],
   "source": [
    "# access method \n",
    "pranav.classroom2()"
   ]
  },
  {
   "cell_type": "code",
   "execution_count": 1,
   "id": "1345e4af-eeb0-4f9a-ac9e-4eda78e47a66",
   "metadata": {},
   "outputs": [],
   "source": [
    "class calculator ():\n",
    "    def __init__(self,a,b):\n",
    "        print(\"welcome to init\")\n",
    "        self.a=a\n",
    "        self.b=b\n",
    "    def addition (self):\n",
    "        print(\"welcome to addition\")\n",
    "        return self.a + self.b\n",
    "        \n",
    "    def subtraction (self):\n",
    "        print(\"welcome to subtraction\")\n",
    "        return self.a - self.b\n",
    "        \n",
    "    def multiplication (self):\n",
    "        print(\"welcome to multiplication\")\n",
    "        return self.a * self.b\n",
    "        \n",
    "    def division (self):\n",
    "        print(\"welcome to division\")\n",
    "        return self.a / self.b\n",
    "        \n",
    "        "
   ]
  },
  {
   "cell_type": "code",
   "execution_count": 3,
   "id": "a101908a-1b21-44f6-aa23-0aaf80669a41",
   "metadata": {},
   "outputs": [
    {
     "name": "stdout",
     "output_type": "stream",
     "text": [
      "welcome to init\n"
     ]
    }
   ],
   "source": [
    "p=calculator (2,3)"
   ]
  },
  {
   "cell_type": "code",
   "execution_count": 39,
   "id": "c6e908af-7ec5-43e6-8ca6-efb04bb7530b",
   "metadata": {},
   "outputs": [
    {
     "name": "stdout",
     "output_type": "stream",
     "text": [
      "welcome to addition\n"
     ]
    },
    {
     "data": {
      "text/plain": [
       "5"
      ]
     },
     "execution_count": 39,
     "metadata": {},
     "output_type": "execute_result"
    }
   ],
   "source": [
    "p.addition()"
   ]
  },
  {
   "cell_type": "code",
   "execution_count": 41,
   "id": "89323b6f-9e47-44b6-ac25-5c282f9cceba",
   "metadata": {},
   "outputs": [
    {
     "name": "stdout",
     "output_type": "stream",
     "text": [
      "welcome to subtraction\n"
     ]
    },
    {
     "data": {
      "text/plain": [
       "-1"
      ]
     },
     "execution_count": 41,
     "metadata": {},
     "output_type": "execute_result"
    }
   ],
   "source": [
    "p.subtraction()"
   ]
  },
  {
   "cell_type": "code",
   "execution_count": 43,
   "id": "8508f29f-84c8-4083-b914-82e960ce682c",
   "metadata": {},
   "outputs": [
    {
     "name": "stdout",
     "output_type": "stream",
     "text": [
      "welcome to multiplication\n"
     ]
    },
    {
     "data": {
      "text/plain": [
       "6"
      ]
     },
     "execution_count": 43,
     "metadata": {},
     "output_type": "execute_result"
    }
   ],
   "source": [
    "p.multiplication()"
   ]
  },
  {
   "cell_type": "code",
   "execution_count": 45,
   "id": "778c0c52-2885-41d3-a1aa-ab08b24036c2",
   "metadata": {},
   "outputs": [
    {
     "name": "stdout",
     "output_type": "stream",
     "text": [
      "welcome to division\n"
     ]
    },
    {
     "data": {
      "text/plain": [
       "0.6666666666666666"
      ]
     },
     "execution_count": 45,
     "metadata": {},
     "output_type": "execute_result"
    }
   ],
   "source": [
    "p.division ()"
   ]
  },
  {
   "cell_type": "code",
   "execution_count": null,
   "id": "69255a5a-742f-4d95-946d-20c8015f2741",
   "metadata": {},
   "outputs": [],
   "source": [
    "a=\"myself global access everywhere\"\n",
    "class ipl():\n",
    "    b=\"myself class access inside class \"\n",
    "    def __init__(self):\n",
    "        self.c=\"myself default access within a \"\n",
    "        \n",
    "        "
   ]
  }
 ],
 "metadata": {
  "kernelspec": {
   "display_name": "Python 3 (ipykernel)",
   "language": "python",
   "name": "python3"
  },
  "language_info": {
   "codemirror_mode": {
    "name": "ipython",
    "version": 3
   },
   "file_extension": ".py",
   "mimetype": "text/x-python",
   "name": "python",
   "nbconvert_exporter": "python",
   "pygments_lexer": "ipython3",
   "version": "3.12.7"
  }
 },
 "nbformat": 4,
 "nbformat_minor": 5
}
