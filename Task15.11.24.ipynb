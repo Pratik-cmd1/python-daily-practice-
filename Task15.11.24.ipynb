{
 "cells": [
  {
   "cell_type": "code",
   "execution_count": 21,
   "id": "23fabd28-340c-414d-aaed-3032ec7ab3cb",
   "metadata": {},
   "outputs": [
    {
     "name": "stdin",
     "output_type": "stream",
     "text": [
      "Enter string : pratik\n"
     ]
    },
    {
     "name": "stdout",
     "output_type": "stream",
     "text": [
      "6\n",
      "6\n"
     ]
    }
   ],
   "source": [
    "a=input(\"Enter string :\")\n",
    "count=0\n",
    "for i in a:\n",
    "    count=count+1\n",
    "print(count)\n",
    "print(len(a))"
   ]
  },
  {
   "cell_type": "code",
   "execution_count": 5,
   "id": "1f08a3e1-47b4-4ec5-ad49-26666d7c55ac",
   "metadata": {},
   "outputs": [
    {
     "name": "stdin",
     "output_type": "stream",
     "text": [
      "Enter string pratik\n"
     ]
    },
    {
     "name": "stdout",
     "output_type": "stream",
     "text": [
      "kitarp\n"
     ]
    }
   ],
   "source": [
    "a=input(\"Enter string\")\n",
    "print(a[::-1])"
   ]
  },
  {
   "cell_type": "code",
   "execution_count": 39,
   "id": "5290047b-f3cc-4fba-9df7-868ecae60ede",
   "metadata": {},
   "outputs": [
    {
     "name": "stdin",
     "output_type": "stream",
     "text": [
      "Enter string : madam\n"
     ]
    },
    {
     "name": "stdout",
     "output_type": "stream",
     "text": [
      "Palindrome\n"
     ]
    }
   ],
   "source": [
    "a=input(\"Enter string :\")\n",
    "if a==a[::-1]:\n",
    "    print(\"Palindrome\")\n",
    "else:\n",
    "    print(\"not Palindrome\")"
   ]
  },
  {
   "cell_type": "code",
   "execution_count": 11,
   "id": "259254de-2dc6-4fad-8099-3d705171cb8d",
   "metadata": {},
   "outputs": [
    {
     "name": "stdin",
     "output_type": "stream",
     "text": [
      "enter string :  programming\n"
     ]
    },
    {
     "name": "stdout",
     "output_type": "stream",
     "text": [
      "present in 12 index position\n"
     ]
    }
   ],
   "source": [
    "a=\"Python is a programming Language\"\n",
    "s=input(\"enter string : \")\n",
    "o=a.find(s)\n",
    "if (o==-1):\n",
    "    print(\"Not found\")\n",
    "else :\n",
    "    print(f\"present in {o} index position\")"
   ]
  },
  {
   "cell_type": "code",
   "execution_count": 27,
   "id": "0b5d813b-b6a7-4ff1-a90b-f86cbef45222",
   "metadata": {},
   "outputs": [
    {
     "name": "stdin",
     "output_type": "stream",
     "text": [
      "enter number : 371\n"
     ]
    },
    {
     "name": "stdout",
     "output_type": "stream",
     "text": [
      "371 : number is Armstrong \n"
     ]
    }
   ],
   "source": [
    "n=input(\"enter number :\")\n",
    "sum=0\n",
    "for i in n:\n",
    "    sum=sum+int(i)**len(n)\n",
    "if(sum==int(n)):\n",
    "    print(f\"{n} : number is Armstrong \")\n",
    "else:\n",
    "    print(f\"{n} : number is Not Armstrong\")\n"
   ]
  },
  {
   "cell_type": "code",
   "execution_count": 31,
   "id": "35bdeedc-3398-467f-85e2-1d76a417fef7",
   "metadata": {},
   "outputs": [
    {
     "name": "stdout",
     "output_type": "stream",
     "text": [
      "153\n"
     ]
    }
   ],
   "source": []
  },
  {
   "cell_type": "code",
   "execution_count": null,
   "id": "26326c0f-c9b7-4908-8772-6597962535f4",
   "metadata": {},
   "outputs": [],
   "source": []
  }
 ],
 "metadata": {
  "kernelspec": {
   "display_name": "Python 3 (ipykernel)",
   "language": "python",
   "name": "python3"
  },
  "language_info": {
   "codemirror_mode": {
    "name": "ipython",
    "version": 3
   },
   "file_extension": ".py",
   "mimetype": "text/x-python",
   "name": "python",
   "nbconvert_exporter": "python",
   "pygments_lexer": "ipython3",
   "version": "3.12.7"
  }
 },
 "nbformat": 4,
 "nbformat_minor": 5
}
