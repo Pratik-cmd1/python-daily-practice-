{
 "cells": [
  {
   "cell_type": "markdown",
   "id": "2a87947e-66ac-4262-aea7-11a502880140",
   "metadata": {},
   "source": [
    "# initialization "
   ]
  },
  {
   "cell_type": "code",
   "execution_count": 24,
   "id": "8e74dbfd-023f-47f8-acef-4a0584db2110",
   "metadata": {},
   "outputs": [
    {
     "name": "stdout",
     "output_type": "stream",
     "text": [
      "a=\n",
      "type<class 'str'>\n",
      " length 0\n",
      "b=[]\n",
      "type<class 'list'>\n",
      " length 0\n",
      "c=set()\n",
      "type<class 'set'>\n",
      " length 0\n",
      "d=()\n",
      "type<class 'tuple'>\n",
      " length 0\n",
      "e=frozenset()\n",
      "type<class 'frozenset'>\n",
      " length 0\n",
      "f={}\n",
      "type<class 'dict'>\n",
      " length 0\n"
     ]
    }
   ],
   "source": [
    "# string\n",
    "a=\"\"\n",
    "print(f\"a={a}\\ntype{type(a)}\\n length {len(a)}\")\n",
    "\n",
    "# list\n",
    "b=[]\n",
    "print(f\"b={b}\\ntype{type(b)}\\n length {len(b)}\")\n",
    "\n",
    "# set \n",
    "c=set()\n",
    "print(f\"c={c}\\ntype{type(c)}\\n length {len(c)}\")\n",
    "\n",
    "# tuple\n",
    "d=()\n",
    "print(f\"d={d}\\ntype{type(d)}\\n length {len(d)}\")\n",
    "\n",
    "# frozenset\n",
    "e=frozenset()\n",
    "print(f\"e={e}\\ntype{type(e)}\\n length {len(e)}\")\n",
    "\n",
    "# dictionary \n",
    "f={}\n",
    "print(f\"f={f}\\ntype{type(f)}\\n length {len(f)}\")\n",
    "\n"
   ]
  },
  {
   "cell_type": "markdown",
   "id": "777a2b2c-beb8-48e9-a6a4-02d016093096",
   "metadata": {},
   "source": [
    "# single element"
   ]
  },
  {
   "cell_type": "code",
   "execution_count": 31,
   "id": "3724b679-e8d9-4ac7-b27d-6ce55fb186db",
   "metadata": {},
   "outputs": [
    {
     "name": "stdout",
     "output_type": "stream",
     "text": [
      "a=p\n",
      "type<class 'str'>\n",
      " length 1\n",
      "b=[1]\n",
      "type<class 'list'>\n",
      " length 1\n",
      "c={1}\n",
      "type<class 'set'>\n",
      " length 1\n",
      "d=(2,)\n",
      "type<class 'tuple'>\n",
      " length 1\n",
      "e=frozenset({10})\n",
      "type<class 'frozenset'>\n",
      " length 1\n",
      "f={1: 1}\n",
      "type<class 'dict'>\n",
      " length 1\n"
     ]
    }
   ],
   "source": [
    "# string\n",
    "a=\"p\"\n",
    "print(f\"a={a}\\ntype{type(a)}\\n length {len(a)}\")\n",
    "\n",
    "# list\n",
    "b=[1]\n",
    "print(f\"b={b}\\ntype{type(b)}\\n length {len(b)}\")\n",
    "\n",
    "# set\n",
    "c={1}\n",
    "print(f\"c={c}\\ntype{type(c)}\\n length {len(c)}\")\n",
    "\n",
    "# tuple\n",
    "d=(2,)\n",
    "print(f\"d={d}\\ntype{type(d)}\\n length {len(d)}\")\n",
    "\n",
    "# frozenset\n",
    "e=frozenset({10})\n",
    "print(f\"e={e}\\ntype{type(e)}\\n length {len(e)}\")\n",
    "\n",
    "# dictionary\n",
    "f={1:1}\n",
    "print(f\"f={f}\\ntype{type(f)}\\n length {len(f)}\")\n"
   ]
  },
  {
   "cell_type": "markdown",
   "id": "ed7833b3-5813-4508-b3be-4d71eebe7623",
   "metadata": {},
   "source": [
    "# multiple elements "
   ]
  },
  {
   "cell_type": "code",
   "execution_count": 57,
   "id": "6c69f95c-cd04-4973-a381-a7516694ece8",
   "metadata": {},
   "outputs": [
    {
     "name": "stdout",
     "output_type": "stream",
     "text": [
      "a=pratik\n",
      "type<class 'str'>\n",
      " length 6\n",
      "b=[1, 2]\n",
      "type<class 'list'>\n",
      " length 2\n",
      "c={1, 2}\n",
      "type<class 'set'>\n",
      " length 2\n",
      "d=(2, 3, 4)\n",
      "type<class 'tuple'>\n",
      " length 3\n",
      "e=frozenset({10, 3, 5})\n",
      "type<class 'frozenset'>\n",
      " length 3\n",
      "f={1: 1, 'name': 'pratik'}\n",
      "type<class 'dict'>\n",
      " length 2\n"
     ]
    }
   ],
   "source": [
    "# string\n",
    "a=\"pratik\"\n",
    "print(f\"a={a}\\ntype{type(a)}\\n length {len(a)}\")\n",
    "\n",
    "# list\n",
    "b=[1,2]\n",
    "print(f\"b={b}\\ntype{type(b)}\\n length {len(b)}\")\n",
    "\n",
    "# set\n",
    "c={1,2}\n",
    "print(f\"c={c}\\ntype{type(c)}\\n length {len(c)}\")\n",
    "\n",
    "# tuple\n",
    "d=(2,3,4)\n",
    "print(f\"d={d}\\ntype{type(d)}\\n length {len(d)}\")\n",
    "\n",
    "# frozenset\n",
    "e=frozenset({10,5,3})\n",
    "print(f\"e={e}\\ntype{type(e)}\\n length {len(e)}\")\n",
    "\n",
    "# dictionary\n",
    "f={1:1,\"name\":\"pratik\"}\n",
    "print(f\"f={f}\\ntype{type(f)}\\n length {len(f)}\")"
   ]
  },
  {
   "cell_type": "markdown",
   "id": "ddce471c-3082-4c7c-bf67-564773965545",
   "metadata": {},
   "source": [
    "# conversion of datatype "
   ]
  },
  {
   "cell_type": "code",
   "execution_count": 49,
   "id": "0431da92-fe4e-45c2-a0cd-198fcb404bdc",
   "metadata": {},
   "outputs": [
    {
     "name": "stdout",
     "output_type": "stream",
     "text": [
      "a=10\n",
      "type<class 'int'>\n",
      "b=10.0\n",
      "type<class 'float'>\n"
     ]
    }
   ],
   "source": [
    "# int to float\n",
    "a=10\n",
    "print(f\"a={a}\\ntype{type(a)}\")\n",
    "b=float(a)\n",
    "print(f\"b={b}\\ntype{type(b)}\")\n"
   ]
  },
  {
   "cell_type": "code",
   "execution_count": 51,
   "id": "226c667d-c658-4c84-a4b5-492c46be2160",
   "metadata": {},
   "outputs": [
    {
     "name": "stdout",
     "output_type": "stream",
     "text": [
      "a=pratik\n",
      "type<class 'str'>\n",
      " length 6\n",
      "a=['p', 'r', 'a', 't', 'i', 'k']\n",
      "type<class 'list'>\n",
      " length 6\n"
     ]
    }
   ],
   "source": [
    "#  string to list\n",
    "a=\"pratik\"\n",
    "print(f\"a={a}\\ntype{type(a)}\\n length {len(a)}\")\n",
    "a=list(a)\n",
    "print(f\"a={a}\\ntype{type(a)}\\n length {len(a)}\")\n"
   ]
  },
  {
   "cell_type": "code",
   "execution_count": 53,
   "id": "8923646c-2fd6-47ba-bb93-9ff0cdab3018",
   "metadata": {},
   "outputs": [
    {
     "name": "stdout",
     "output_type": "stream",
     "text": [
      "a=(10, 20, 30, 40)\n",
      "type<class 'tuple'>\n",
      " length 4\n",
      "a=[10, 20, 30, 40]\n",
      "type<class 'list'>\n",
      " length 4\n"
     ]
    }
   ],
   "source": [
    "# tuple to list \n",
    "a=(10,20,30,40)\n",
    "print(f\"a={a}\\ntype{type(a)}\\n length {len(a)}\")\n",
    "a=list(a)\n",
    "print(f\"a={a}\\ntype{type(a)}\\n length {len(a)}\")"
   ]
  },
  {
   "cell_type": "code",
   "execution_count": 55,
   "id": "4fb52add-3d6d-49f1-8047-cff0cfd373ba",
   "metadata": {},
   "outputs": [
    {
     "name": "stdout",
     "output_type": "stream",
     "text": [
      "a=[10, 20, 30, 40, 50]\n",
      "type<class 'list'>\n",
      " length 5\n",
      "a={40, 10, 50, 20, 30}\n",
      "type<class 'set'>\n",
      " length 5\n"
     ]
    }
   ],
   "source": [
    "# list to set\n",
    "a=[10,20,30,40,50]\n",
    "print(f\"a={a}\\ntype{type(a)}\\n length {len(a)}\")\n",
    "a=set(a)\n",
    "print(f\"a={a}\\ntype{type(a)}\\n length {len(a)}\")"
   ]
  },
  {
   "cell_type": "code",
   "execution_count": null,
   "id": "f9a733c0-f075-4df6-90f9-c3b064e2bf53",
   "metadata": {},
   "outputs": [],
   "source": []
  }
 ],
 "metadata": {
  "kernelspec": {
   "display_name": "Python 3 (ipykernel)",
   "language": "python",
   "name": "python3"
  },
  "language_info": {
   "codemirror_mode": {
    "name": "ipython",
    "version": 3
   },
   "file_extension": ".py",
   "mimetype": "text/x-python",
   "name": "python",
   "nbconvert_exporter": "python",
   "pygments_lexer": "ipython3",
   "version": "3.12.7"
  }
 },
 "nbformat": 4,
 "nbformat_minor": 5
}
