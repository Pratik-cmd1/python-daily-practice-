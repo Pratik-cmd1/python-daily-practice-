{
 "cells": [
  {
   "cell_type": "markdown",
   "id": "740056ae-475d-4e49-a44b-2604606bb745",
   "metadata": {},
   "source": [
    "# 1 to 10 numbers"
   ]
  },
  {
   "cell_type": "code",
   "execution_count": 41,
   "id": "bc92b3e5-0bef-4d13-a1e4-50e85a926b1c",
   "metadata": {},
   "outputs": [
    {
     "name": "stdout",
     "output_type": "stream",
     "text": [
      "1 to 10 numbers using for \n",
      "1\n",
      "2\n",
      "3\n",
      "4\n",
      "5\n",
      "6\n",
      "7\n",
      "8\n",
      "9\n",
      "10\n",
      "1 to 10 numbers using while \n",
      "1\n",
      "2\n",
      "3\n",
      "4\n",
      "5\n",
      "6\n",
      "7\n",
      "8\n",
      "9\n",
      "10\n"
     ]
    }
   ],
   "source": [
    "print (\"1 to 10 numbers using for \")\n",
    "for i in range(1,11):\n",
    "    print(i)\n",
    "print (\"1 to 10 numbers using while \")\n",
    "a=1\n",
    "while a<11:\n",
    "    print(a)\n",
    "    a=a+1"
   ]
  },
  {
   "cell_type": "markdown",
   "id": "ad3ca9b7-af09-492e-81d7-0c66aca76e01",
   "metadata": {},
   "source": [
    "# addition of first n natural numbers"
   ]
  },
  {
   "cell_type": "code",
   "execution_count": 17,
   "id": "f6ce087f-4ff7-4553-b0cd-e53bbf4a3f16",
   "metadata": {},
   "outputs": [
    {
     "name": "stdout",
     "output_type": "stream",
     "text": [
      "addition of first n natural numbers using for \n"
     ]
    },
    {
     "name": "stdin",
     "output_type": "stream",
     "text": [
      "Enter n :  5\n"
     ]
    },
    {
     "name": "stdout",
     "output_type": "stream",
     "text": [
      "Addition of first 5 natural numbers = 15\n",
      "\n",
      "addition of first n natural numbers using while \n",
      "addition of first 5 natural numbers is: 15\n"
     ]
    }
   ],
   "source": [
    "print (\"addition of first n natural numbers using for \")\n",
    "n = int(input(\"Enter n : \"))\n",
    "\n",
    "add = 0\n",
    "\n",
    "for i in range(1,n+1):\n",
    "    add = add+i\n",
    "print(f\"Addition of first {n} natural numbers = {add}\\n\")\n",
    "\n",
    "print (\"addition of first n natural numbers using while \")\n",
    "m = 0\n",
    "i = 1\n",
    "while i <= n:\n",
    "    m += i\n",
    "    i += 1\n",
    "print(\"addition of first\", n, \"natural numbers is:\",m)\n",
    "\n"
   ]
  },
  {
   "cell_type": "markdown",
   "id": "cf43f19a-ceaa-40f8-a75f-1d437e4c630c",
   "metadata": {},
   "source": [
    "# Multiplication of first n natural numbers"
   ]
  },
  {
   "cell_type": "code",
   "execution_count": 27,
   "id": "481face6-6af6-4ac3-85b9-4a736ccf19e4",
   "metadata": {},
   "outputs": [
    {
     "name": "stdout",
     "output_type": "stream",
     "text": [
      "Multiplication of first n natural numbers using for \n"
     ]
    },
    {
     "name": "stdin",
     "output_type": "stream",
     "text": [
      "Enter n :  5\n"
     ]
    },
    {
     "name": "stdout",
     "output_type": "stream",
     "text": [
      "Multiplication of first 5 natural number = 120\n",
      "\n",
      "Multiplication of first n natural number using while \n",
      "Multiplication of first 5 natural number 120\n"
     ]
    }
   ],
   "source": [
    "print (\"Multiplication of first n natural numbers using for \")\n",
    "n = int(input(\"Enter n : \"))\n",
    "add = 1\n",
    "for i in range(1,n+1):\n",
    "    add = add*i\n",
    "print(f\"Multiplication of first {n} natural number = {add}\\n\")\n",
    "\n",
    "print (\"Multiplication of first n natural number using while \")\n",
    "m = 1\n",
    "i = 1\n",
    "while i <= n:\n",
    "    m *= i\n",
    "    i += 1\n",
    "print(f\"Multiplication of first {n} natural number\", m)\n",
    "\n"
   ]
  },
  {
   "cell_type": "markdown",
   "id": "47adcfe2-7be9-48c3-880d-fb4e5261fec9",
   "metadata": {},
   "source": [
    "# Factorial of a number"
   ]
  },
  {
   "cell_type": "code",
   "execution_count": 36,
   "id": "eb7c49fe-4c53-406b-b40d-47a345cb7ffb",
   "metadata": {},
   "outputs": [
    {
     "name": "stdin",
     "output_type": "stream",
     "text": [
      "Enter n :  5\n"
     ]
    },
    {
     "name": "stdout",
     "output_type": "stream",
     "text": [
      "5! = 120 using for\n",
      "5! = 120 using while\n"
     ]
    }
   ],
   "source": [
    "# using for loop\n",
    "n = int(input(\"Enter n : \"))\n",
    "m = 1\n",
    "for i in range(1,n+1):\n",
    "     m = m * i\n",
    "print(f\"{n}! = {m} using for\")\n",
    "\n",
    "# using while loop\n",
    "factorial = 1\n",
    "i = 1\n",
    "while i <= n:\n",
    "    factorial *= i\n",
    "    i += 1\n",
    "print(f\"{n}! = {factorial} using while\")"
   ]
  },
  {
   "cell_type": "code",
   "execution_count": null,
   "id": "fff7dea5-227e-4d23-abad-73f382acbda9",
   "metadata": {},
   "outputs": [],
   "source": []
  }
 ],
 "metadata": {
  "kernelspec": {
   "display_name": "Python 3 (ipykernel)",
   "language": "python",
   "name": "python3"
  },
  "language_info": {
   "codemirror_mode": {
    "name": "ipython",
    "version": 3
   },
   "file_extension": ".py",
   "mimetype": "text/x-python",
   "name": "python",
   "nbconvert_exporter": "python",
   "pygments_lexer": "ipython3",
   "version": "3.12.7"
  }
 },
 "nbformat": 4,
 "nbformat_minor": 5
}
