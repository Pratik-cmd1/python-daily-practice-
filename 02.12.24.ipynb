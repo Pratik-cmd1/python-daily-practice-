{
 "cells": [
  {
   "cell_type": "markdown",
   "id": "ad0c407f-2ed9-4ac3-96ad-6af188d02402",
   "metadata": {},
   "source": [
    "## file handling "
   ]
  },
  {
   "cell_type": "code",
   "execution_count": 2,
   "id": "3751954e-78ee-49a1-b5d0-ba3db93bd8f4",
   "metadata": {},
   "outputs": [],
   "source": [
    "# write content to a file ,write,\"w\"\n",
    "file=open(\"practiceoffilehandling.txt\",\"w\")\n",
    "file.write(\"welcome to practice of file handling\")\n",
    "file.close()"
   ]
  },
  {
   "cell_type": "code",
   "execution_count": 6,
   "id": "25906e1d-bb0a-430a-9d99-42036fb16c79",
   "metadata": {},
   "outputs": [],
   "source": [
    "text_data=\"\"\"name,age,city\n",
    "Alice,25,Newyork\n",
    "Bob,30,San Fracisco\n",
    "Charlie,28,Los Angles\"\"\""
   ]
  },
  {
   "cell_type": "code",
   "execution_count": 8,
   "id": "c81e718d-adad-4e8c-8d21-68a2b589b118",
   "metadata": {},
   "outputs": [],
   "source": [
    "# alternative for file.close\n",
    "with open(\"practiceoffilehandling.txt\",\"w\")as file:\n",
    "    file.write(text_data)\n",
    "    "
   ]
  },
  {
   "cell_type": "code",
   "execution_count": 12,
   "id": "b685dd19-4389-4a80-864c-98395491011e",
   "metadata": {},
   "outputs": [
    {
     "name": "stdout",
     "output_type": "stream",
     "text": [
      "name,age,city\n",
      "Alice,25,Newyork\n",
      "Bob,30,San Fracisco\n",
      "Charlie,28,Los Angles\n"
     ]
    }
   ],
   "source": [
    "with open(\"practiceoffilehandling.txt\",\"r\") as f:\n",
    "    data =f.read()\n",
    "    print(data)\n",
    "    "
   ]
  },
  {
   "cell_type": "code",
   "execution_count": 30,
   "id": "f4cf872a-f438-44b8-8bb8-cdb66f77bb04",
   "metadata": {},
   "outputs": [],
   "source": [
    "append_data=\"\"\"\\nIn python , the statement are usually written in a single line the last character of these line is newline.\"\"\""
   ]
  },
  {
   "cell_type": "code",
   "execution_count": 32,
   "id": "d302416b-de3c-44e8-9f3c-f20c479794b4",
   "metadata": {},
   "outputs": [],
   "source": [
    "with open(\"practiceoffilehandling.txt\",\"a\") as f:\n",
    "    data =f.write(append_data)"
   ]
  },
  {
   "cell_type": "code",
   "execution_count": null,
   "id": "f081ded2-7ec4-448f-9818-a6c18d2947e1",
   "metadata": {},
   "outputs": [],
   "source": [
    "with open(\"practiceoffilehandling.txt\",\"r\") as f:\n",
    "    data =f.read()\n",
    "    print(data)"
   ]
  },
  {
   "cell_type": "code",
   "execution_count": 36,
   "id": "e1279133-0267-4893-ba59-894c5dd74f7b",
   "metadata": {},
   "outputs": [
    {
     "name": "stdout",
     "output_type": "stream",
     "text": [
      "name,age,city\n",
      "\n"
     ]
    }
   ],
   "source": [
    "# access first line of file\n",
    "with open(\"practiceoffilehandling.txt\",\"r\") as f:\n",
    "    line1=f.readline()\n",
    "    print(line1)"
   ]
  },
  {
   "cell_type": "code",
   "execution_count": 40,
   "id": "e6c820f2-6267-4a54-9a79-57d469d2361c",
   "metadata": {},
   "outputs": [
    {
     "name": "stdout",
     "output_type": "stream",
     "text": [
      "394\n"
     ]
    }
   ],
   "source": [
    "# length of characters in file\n",
    "with open(\"practiceoffilehandling.txt\",\"r\") as f:\n",
    "    length=f.read()\n",
    "    print(len(length))"
   ]
  },
  {
   "cell_type": "code",
   "execution_count": 42,
   "id": "18685b93-bc91-4d48-b34e-0beabf01f833",
   "metadata": {},
   "outputs": [
    {
     "name": "stdout",
     "output_type": "stream",
     "text": [
      "['name,age,city\\n', 'Alice,25,Newyork\\n', 'Bob,30,San Fracisco\\n', 'Charlie,28,Los AnglesIn python , the statement are usually written in a single line the last character of these line is newline.In python , the statement are usually written in a single line the last character of these line is newline.\\n', 'In python , the statement are usually written in a single line the last character of these line is newline.']\n"
     ]
    }
   ],
   "source": [
    "with open(\"practiceoffilehandling.txt\",\"r\") as f:\n",
    "    data_list=f.readlines()\n",
    "    print(data_list)\n",
    "    "
   ]
  },
  {
   "cell_type": "markdown",
   "id": "b25466d7-e0f4-4bd0-86bb-bae25e427037",
   "metadata": {},
   "source": [
    "## pickle"
   ]
  },
  {
   "cell_type": "code",
   "execution_count": 50,
   "id": "57bd87f0-1adf-43ae-86d6-939b8a6056c6",
   "metadata": {},
   "outputs": [
    {
     "data": {
      "text/plain": [
       "{'Name': ['neha',\n",
       "  'riya',\n",
       "  'priya',\n",
       "  'tanuja',\n",
       "  'shreya',\n",
       "  'shubhngi',\n",
       "  'amruta',\n",
       "  'punam'],\n",
       " 'Location': ['pune',\n",
       "  'chennai',\n",
       "  'kolkata',\n",
       "  'mumbai',\n",
       "  'pune',\n",
       "  'nasik',\n",
       "  'chennai',\n",
       "  'chennai'],\n",
       " 'Salary': [10000, 20000, 30000, 40000, 50000, 60000, 70000, 80000],\n",
       " 'Designation': ['Data Analyst',\n",
       "  'Business Analyst',\n",
       "  'Data Engineer',\n",
       "  'Data Scientist',\n",
       "  'ML Engineer',\n",
       "  'Data Engineer',\n",
       "  'Data Analyst',\n",
       "  'Business Analyst']}"
      ]
     },
     "execution_count": 50,
     "metadata": {},
     "output_type": "execute_result"
    }
   ],
   "source": [
    "import pickle\n",
    "emp_data= {\"Name\": [\"neha\", \"riya\", \"priya\", \"tanuja\", \"shreya\", \"shubhngi\", \"amruta\", \"punam\"],\n",
    "\n",
    "\"Location\": [\"pune\", \"chennai\", \"kolkata\", \"mumbai\", \"pune\", \"nasik\", \"chennai\", \"chennai\"],\n",
    "\n",
    "\"Salary\" : [10000, 20000, 30000, 40000, 50000, 60000, 70000, 80000],\n",
    "\n",
    "\"Designation\": [\"Data Analyst\", \"Business Analyst\", \"Data Engineer\", \"Data Scientist\", \"ML Engineer\", \"Data Engineer\",\"Data Analyst\",\"Business Analyst\"],}\n",
    "emp_data"
   ]
  },
  {
   "cell_type": "code",
   "execution_count": null,
   "id": "b458dd25-df66-4ab5-a42a-27174d249b60",
   "metadata": {},
   "outputs": [],
   "source": [
    "with open(\"employee_details.pkl\",\"rb\") as file"
   ]
  },
  {
   "cell_type": "code",
   "execution_count": 54,
   "id": "2be3e5f9-be02-4f9a-a8c5-0bd46ec14d20",
   "metadata": {},
   "outputs": [],
   "source": [
    "with open(\"employee_details.pkl\",\"wb\")as file:\n",
    "    pickle.dump(emp_data,file)"
   ]
  },
  {
   "cell_type": "markdown",
   "id": "ee63103e-e5d1-4727-8887-943cba594b91",
   "metadata": {},
   "source": [
    "## unpickling"
   ]
  },
  {
   "cell_type": "code",
   "execution_count": null,
   "id": "3611548c-dbec-417d-856c-21af328e7f17",
   "metadata": {},
   "outputs": [],
   "source": [
    "import pandas as pd\n",
    "with open(\"employee_details.pkl\",\"rb\")as file:\n",
    "    data_df=pd.DataFrame(pickle.load())"
   ]
  }
 ],
 "metadata": {
  "kernelspec": {
   "display_name": "Python 3 (ipykernel)",
   "language": "python",
   "name": "python3"
  },
  "language_info": {
   "codemirror_mode": {
    "name": "ipython",
    "version": 3
   },
   "file_extension": ".py",
   "mimetype": "text/x-python",
   "name": "python",
   "nbconvert_exporter": "python",
   "pygments_lexer": "ipython3",
   "version": "3.12.7"
  }
 },
 "nbformat": 4,
 "nbformat_minor": 5
}
