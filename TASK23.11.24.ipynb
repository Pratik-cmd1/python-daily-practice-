{
 "cells": [
  {
   "cell_type": "raw",
   "id": "e25dad94-3cd3-4eed-ace4-ad112d5f6232",
   "metadata": {},
   "source": [
    "Questions on recursive functions, built in functions, lambda function\n",
    "\n",
    "Write a recursive function to calculate the factorial of a number.\n",
    "Create a recursive function to find the nth Fibonacci number.\n",
    "Write a recursive function to reverse a string.\n",
    "Write a lambda function to find the square of a number and use it with the map() function.\n",
    "Create a list of numbers and use a lambda function with the filter() method to extract even numbers"
   ]
  },
  {
   "cell_type": "code",
   "execution_count": 3,
   "id": "d542bbfc-4642-4a5b-9dbb-d730b1d9d79c",
   "metadata": {},
   "outputs": [
    {
     "data": {
      "text/plain": [
       "120"
      ]
     },
     "execution_count": 3,
     "metadata": {},
     "output_type": "execute_result"
    }
   ],
   "source": [
    "#Write a recursive function to calculate the factorial of a number.\n",
    "def factorial(n):\n",
    "    if (n==0) or (n==1):\n",
    "        return 1\n",
    "    else:\n",
    "        return n * factorial(n-1)\n",
    "\n",
    "factorial(5)"
   ]
  },
  {
   "cell_type": "code",
   "execution_count": 13,
   "id": "5dd7b8fd-6541-4778-91d5-928a9ec9769d",
   "metadata": {},
   "outputs": [
    {
     "name": "stdout",
     "output_type": "stream",
     "text": [
      "0 1 1 2 3 5 8 13 21 34 55 89 "
     ]
    }
   ],
   "source": [
    "#Create a recursive function to find the nth Fibonacci number.\n",
    "def fibo (n):\n",
    "    if n==0 or n==1:\n",
    "        return n\n",
    "    else:\n",
    "        return fibo(n-1)+fibo(n-2)\n",
    "\n",
    "n=12\n",
    "for i in range(n):\n",
    "    print(fibo(i),end=\" \")\n",
    "    "
   ]
  },
  {
   "cell_type": "code",
   "execution_count": 25,
   "id": "3ed0dd71-718e-4ae8-9083-054986ae9567",
   "metadata": {},
   "outputs": [
    {
     "name": "stdout",
     "output_type": "stream",
     "text": [
      "syob olleh\n"
     ]
    }
   ],
   "source": [
    "# Write a recursive function to reverse a string.\n",
    "def reverse1(string):\n",
    "    if len(string) == 0 or len(string) == 1:\n",
    "        return string\n",
    "    else:\n",
    "        return string[-1] + reverse1(string[:-1])\n",
    "        \n",
    "string=\"hello boys\" \n",
    "print(reverse1(string))"
   ]
  },
  {
   "cell_type": "code",
   "execution_count": 41,
   "id": "817ea03a-aa1a-44e3-bdca-a7dc890f15c9",
   "metadata": {},
   "outputs": [
    {
     "data": {
      "text/plain": [
       "[9]"
      ]
     },
     "execution_count": 41,
     "metadata": {},
     "output_type": "execute_result"
    }
   ],
   "source": [
    "# Write a lambda function to find the square of a number and use it with the map() function.\n",
    "x=[3]\n",
    "list(map(lambda x:x**2,x))"
   ]
  },
  {
   "cell_type": "code",
   "execution_count": 43,
   "id": "cb69ef47-fd61-46e0-a9de-d20aa67f6b40",
   "metadata": {},
   "outputs": [
    {
     "data": {
      "text/plain": [
       "[10, 32, 54]"
      ]
     },
     "execution_count": 43,
     "metadata": {},
     "output_type": "execute_result"
    }
   ],
   "source": [
    "# Create a list of numbers and use a lambda function with the filter() method to extract even numbers\n",
    "list1=[10,21,32,54,33]\n",
    "list(filter(lambda x:x%2==0,list1))"
   ]
  },
  {
   "cell_type": "code",
   "execution_count": null,
   "id": "5dcc5654-e181-4840-af25-48d34a067909",
   "metadata": {},
   "outputs": [],
   "source": []
  }
 ],
 "metadata": {
  "kernelspec": {
   "display_name": "Python 3 (ipykernel)",
   "language": "python",
   "name": "python3"
  },
  "language_info": {
   "codemirror_mode": {
    "name": "ipython",
    "version": 3
   },
   "file_extension": ".py",
   "mimetype": "text/x-python",
   "name": "python",
   "nbconvert_exporter": "python",
   "pygments_lexer": "ipython3",
   "version": "3.12.7"
  }
 },
 "nbformat": 4,
 "nbformat_minor": 5
}
