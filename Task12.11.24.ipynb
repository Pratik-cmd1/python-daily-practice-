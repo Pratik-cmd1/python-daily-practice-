{
 "cells": [
  {
   "cell_type": "markdown",
   "id": "5250f2f6-0136-40e1-92b6-59de12b95118",
   "metadata": {},
   "source": [
    "# loops Questions"
   ]
  },
  {
   "cell_type": "raw",
   "id": "d890287f-111f-4bd1-933f-bcffb16c478f",
   "metadata": {},
   "source": [
    "1. print elements of list line by line\n",
    "CityData = [\"Pune\", \"Mumbai\", \"Chennai\", \"Nagpur\", \"Delhi\"]\n",
    "\n",
    "2. generate  sequence of 11-20 numbers and display them line by line\n",
    "\n",
    "3. string = \"Hello Pune!!\"\n",
    "print each character along with its index\n",
    "\n",
    "4. list1 = [10, 4-9j, False, \"Neha\", (-1, -2, -3), [100, 200], 456.98, {\"a\" : 1000, \"b\" : 2000}, True]\n",
    "display each element of list along with its datatype\n",
    "\n",
    "5. tuple1 = (123, 45.67, 8-9j, \"Hello\", (10,20,30, 40), [1,2,3,4,5], 11,23)\n",
    "find length of above tuple WITH & WITHOUT built in function\n",
    "\n",
    "6. print 1 to 10 numbers in a reverse way\n",
    "\n",
    "7. print addition of first 50 numbers\n",
    "\n",
    "8. take n from user, and find out factorial of it\n",
    "\n",
    "9. generate sequence 0 1 1 2 3 5 8 13 21 34 55 89 ...\n",
    "\n",
    "10 print all even numbers between 1 to 100"
   ]
  },
  {
   "cell_type": "code",
   "execution_count": 8,
   "id": "b35bd347-d855-4261-99be-a6499248b7a5",
   "metadata": {},
   "outputs": [
    {
     "name": "stdout",
     "output_type": "stream",
     "text": [
      "Pune\n",
      "Mumbai\n",
      "Chennai\n",
      "Nagpur\n",
      "Delhi\n"
     ]
    }
   ],
   "source": [
    "# 1. print elements of list line by line\n",
    "CityData = [\"Pune\", \"Mumbai\", \"Chennai\", \"Nagpur\", \"Delhi\"]\n",
    "for i in range(0,5):\n",
    "    print(CityData[i])\n",
    "\n",
    "\n"
   ]
  },
  {
   "cell_type": "code",
   "execution_count": 10,
   "id": "24047731-37e4-4cc0-9b20-4a521b17e362",
   "metadata": {},
   "outputs": [
    {
     "name": "stdout",
     "output_type": "stream",
     "text": [
      "11\n",
      "12\n",
      "13\n",
      "14\n",
      "15\n",
      "16\n",
      "17\n",
      "18\n",
      "19\n",
      "20\n"
     ]
    }
   ],
   "source": [
    "# 2. generate  sequence of 11-20 numbers and display them line by line\n",
    "for i in range (11,21):\n",
    "    print(i)\n"
   ]
  },
  {
   "cell_type": "code",
   "execution_count": 14,
   "id": "cb05b8e6-8cd6-42b7-87f1-40d9f5e53bf0",
   "metadata": {},
   "outputs": [
    {
     "name": "stdout",
     "output_type": "stream",
     "text": [
      "H = 0\n",
      "e = 1\n",
      "l = 2\n",
      "l = 3\n",
      "o = 4\n",
      "  = 5\n",
      "P = 6\n",
      "u = 7\n",
      "n = 8\n",
      "e = 9\n",
      "! = 10\n",
      "! = 11\n"
     ]
    }
   ],
   "source": [
    "# 3. string = \"Hello Pune!!\"\n",
    "# print each character along with its index\n",
    "\n",
    "string=\"Hello Pune!!\"\n",
    "for i in range (0,len(string)):\n",
    "    print(string[i],\"=\",i)\n"
   ]
  },
  {
   "cell_type": "code",
   "execution_count": 38,
   "id": "26cd9712-ec7a-494c-8f52-ea0e17ac9f9e",
   "metadata": {},
   "outputs": [
    {
     "name": "stdout",
     "output_type": "stream",
     "text": [
      "Element: 10,-----------  DataType: <class 'int'>\n",
      "Element: (4-9j),-----------  DataType: <class 'complex'>\n",
      "Element: False,-----------  DataType: <class 'bool'>\n",
      "Element: Neha,-----------  DataType: <class 'str'>\n",
      "Element: (-1, -2, -3),-----------  DataType: <class 'tuple'>\n",
      "Element: [100, 200],-----------  DataType: <class 'list'>\n",
      "Element: 456.98,-----------  DataType: <class 'float'>\n",
      "Element: {'a': 1000, 'b': 2000},-----------  DataType: <class 'dict'>\n",
      "Element: True,-----------  DataType: <class 'bool'>\n"
     ]
    }
   ],
   "source": [
    "#4. list1 = [10, 4-9j, False, \"Neha\", (-1, -2, -3), [100, 200], 456.98, {\"a\" : 1000, \"b\" : 2000}, True]\n",
    "#display each element of list along with its datatype\n",
    "\n",
    "list1 = [10, 4-9j, False, \"Neha\", (-1, -2, -3), [100, 200], 456.98, {\"a\": 1000, \"b\": 2000}, True]\n",
    "for element in list1:\n",
    "    print(f\"Element: {element},-----------  DataType: {type(element)}\")\n"
   ]
  },
  {
   "cell_type": "code",
   "execution_count": 52,
   "id": "e25dacb7-caae-488a-a027-d65171b36195",
   "metadata": {},
   "outputs": [
    {
     "name": "stdout",
     "output_type": "stream",
     "text": [
      "Length of the tuple using function : 8\n",
      "Length of the tuple without using function: 8\n"
     ]
    }
   ],
   "source": [
    "#5. tuple1 = (123, 45.67, 8-9j, \"Hello\", (10,20,30, 40), [1,2,3,4,5], 11,23)\n",
    "#find length of above tuple WITH & WITHOUT built in function\n",
    "tuple1 = (123, 45.67, 8-9j, \"Hello\", (10,20,30, 40), [1,2,3,4,5], 11,23)\n",
    "print(\"Length of the tuple using function :\",len(tuple1))\n",
    "l = 0\n",
    "for i in tuple1:\n",
    "    l += 1\n",
    "print(\"Length of the tuple without using function:\", length)\n"
   ]
  },
  {
   "cell_type": "code",
   "execution_count": 62,
   "id": "d26ee7d1-537a-4885-8de2-e9b382236210",
   "metadata": {},
   "outputs": [
    {
     "name": "stdout",
     "output_type": "stream",
     "text": [
      "10\n",
      "9\n",
      "8\n",
      "7\n",
      "6\n",
      "5\n",
      "4\n",
      "3\n",
      "2\n",
      "1\n"
     ]
    }
   ],
   "source": [
    "#6. print 1 to 10 numbers in a reverse way\n",
    "for i in range(10, 0, -1):\n",
    "    print(i)\n"
   ]
  },
  {
   "cell_type": "code",
   "execution_count": 70,
   "id": "4ce1fe1a-c96c-4b35-b9e3-90b697c368c4",
   "metadata": {},
   "outputs": [
    {
     "name": "stdout",
     "output_type": "stream",
     "text": [
      "1275\n"
     ]
    }
   ],
   "source": [
    "#7. print addition of first 50 numbers\n",
    "a=0\n",
    "for i in range (1,51):\n",
    "    a=i+a\n",
    "print(a)\n"
   ]
  },
  {
   "cell_type": "code",
   "execution_count": 82,
   "id": "ce57bd6e-c38e-4fb4-83a8-51154a4dca16",
   "metadata": {},
   "outputs": [
    {
     "name": "stdin",
     "output_type": "stream",
     "text": [
      "Enter a number :  5\n"
     ]
    },
    {
     "name": "stdout",
     "output_type": "stream",
     "text": [
      "120\n"
     ]
    }
   ],
   "source": [
    "#8. take n from user, and find out factorial of it  ex. 5!=5×4×3×2×1=120\n",
    "n=int(input(\"Enter a number : \"))\n",
    "a=1\n",
    "for i in range(1,n+1):\n",
    "    a=i*a\n",
    "print(a)\n",
    "\n"
   ]
  },
  {
   "cell_type": "code",
   "execution_count": 5,
   "id": "549936c3-71d5-4263-97a6-7a3f9b001398",
   "metadata": {},
   "outputs": [
    {
     "name": "stdin",
     "output_type": "stream",
     "text": [
      "Enter a number : 12\n"
     ]
    },
    {
     "name": "stdout",
     "output_type": "stream",
     "text": [
      "0 1 1 2 3 5 8 13 21 34 55 89 "
     ]
    }
   ],
   "source": [
    "#9. generate sequence 0 1 1 2 3 5 8 13 21 34 55 89 ...\n",
    "# Fibonacci series \n",
    "n=int(input(\"Enter a number :\"))\n",
    "a, b = 0, 1\n",
    "for i in range(n):\n",
    "    print(a, end=\" \")\n",
    "    a, b = b, a + b\n",
    "\n"
   ]
  },
  {
   "cell_type": "code",
   "execution_count": 96,
   "id": "e56f64a2-42a8-48e1-93f8-926fda177d58",
   "metadata": {},
   "outputs": [
    {
     "name": "stdout",
     "output_type": "stream",
     "text": [
      "2\n",
      "4\n",
      "6\n",
      "8\n",
      "10\n",
      "12\n",
      "14\n",
      "16\n",
      "18\n",
      "20\n",
      "22\n",
      "24\n",
      "26\n",
      "28\n",
      "30\n",
      "32\n",
      "34\n",
      "36\n",
      "38\n",
      "40\n",
      "42\n",
      "44\n",
      "46\n",
      "48\n",
      "50\n",
      "52\n",
      "54\n",
      "56\n",
      "58\n",
      "60\n",
      "62\n",
      "64\n",
      "66\n",
      "68\n",
      "70\n",
      "72\n",
      "74\n",
      "76\n",
      "78\n",
      "80\n",
      "82\n",
      "84\n",
      "86\n",
      "88\n",
      "90\n",
      "92\n",
      "94\n",
      "96\n",
      "98\n",
      "100\n"
     ]
    }
   ],
   "source": [
    "#10 print all even numbers between 1 to 100\n",
    "for i in range (2,101,2):\n",
    "    print(i)\n",
    "    \n"
   ]
  },
  {
   "cell_type": "code",
   "execution_count": null,
   "id": "d39276bc-b4de-4112-acdc-d8e464a9e9ff",
   "metadata": {},
   "outputs": [],
   "source": []
  }
 ],
 "metadata": {
  "kernelspec": {
   "display_name": "Python 3 (ipykernel)",
   "language": "python",
   "name": "python3"
  },
  "language_info": {
   "codemirror_mode": {
    "name": "ipython",
    "version": 3
   },
   "file_extension": ".py",
   "mimetype": "text/x-python",
   "name": "python",
   "nbconvert_exporter": "python",
   "pygments_lexer": "ipython3",
   "version": "3.12.7"
  }
 },
 "nbformat": 4,
 "nbformat_minor": 5
}
