{
 "cells": [
  {
   "cell_type": "markdown",
   "id": "10482f93-67f1-4d58-b64a-bd051a7f504f",
   "metadata": {},
   "source": [
    "# Map, filter, reduce que\n",
    "\n",
    "Write a program to square each element \n",
    "l1 = [1, 2, 3, 4]\n",
    "Output: [1, 4, 9, 16]\n",
    "\n",
    "add corresponding elements of two lists.\n",
    "l1= [1, 2, 3], l2 = [4, 5, 6] Output: [5, 7, 9]\n",
    "\n",
    "Convert a list of strings to integers using map()\n",
    "l1= ['1', '2', '3']\n",
    "Output: [1, 2, 3]\n",
    "\n",
    "Write a program to calculate the cube of numbers from 1 to 10\n",
    "Output: [1, 8, 27, 64, 125, 216, 343, 512, 729, 1000]\n",
    "\n",
    " format a list of names to start with a capital letter.\n",
    "l1= ['ujwal', 'pratik', 'pranav']\n",
    "Output: ['Ujwal', 'Pratik', 'Pranav']\n",
    "\n",
    "filter():\n",
    " extract all even numbers from a list.\n",
    "l1=[1, 2, 3, 4, 5, 6]\n",
    "Output: [2, 4, 6]\n",
    "\n",
    "Write a program to filter out strings that are shorter than 5 characters.\n",
    "l1= ['apple', 'bat', 'banana', 'cat']\n",
    "Output: ['apple', 'banana']\n",
    "\n",
    "get numbers greater than 10 from a list.\n",
    "l1 =  [5, 10, 15, 20]\n",
    "Output: [15, 20]\n",
    "\n",
    "Write a program to filter prime numbers from a list\n",
    "l1 =  [2, 3, 4, 5, 6, 7]\n",
    "Output: [2, 3, 5, 7]\n",
    "\n",
    " extract all palindrome strings from a list.\n",
    "l1 ['madam', 'racecar', 'hello', 'world']\n",
    "Output: ['madam', 'racecar']\n",
    "\n",
    "\n",
    "\n",
    "reduce()\n",
    "1. find product of all list elements\n",
    "    l1 = [1,2,3,4]\n",
    "\n",
    "2. find max element from list\n",
    "     l2 = [2,4,8,12,34]"
   ]
  },
  {
   "cell_type": "code",
   "execution_count": 113,
   "id": "5287be33-8463-4a95-87d7-038527281bc2",
   "metadata": {},
   "outputs": [
    {
     "name": "stdout",
     "output_type": "stream",
     "text": [
      "[1, 4, 9, 16]\n"
     ]
    }
   ],
   "source": [
    "# Write a program to square each element \n",
    "# l1 = [1, 2, 3, 4]\n",
    "# Output: [1, 4, 9, 16]\n",
    "\n",
    "l1 = [1, 2, 3, 4]\n",
    "print(list(map(lambda x:x**2,l1)))\n"
   ]
  },
  {
   "cell_type": "code",
   "execution_count": 115,
   "id": "bbaf7b6e-bb30-492e-99fd-634210771393",
   "metadata": {},
   "outputs": [
    {
     "name": "stdout",
     "output_type": "stream",
     "text": [
      "[5, 7, 9]\n"
     ]
    }
   ],
   "source": [
    "# add corresponding elements of two lists.\n",
    "# l1= [1, 2, 3]\n",
    "# l2 = [4, 5, 6] \n",
    "# Output: [5, 7, 9]\n",
    "\n",
    "l1= [1, 2, 3]\n",
    "l2 = [4, 5, 6]\n",
    "print(list(map(lambda x,y:x+y,l1,l2)))"
   ]
  },
  {
   "cell_type": "code",
   "execution_count": 117,
   "id": "d588fd56-1370-42da-9928-ff7b5914ffd8",
   "metadata": {},
   "outputs": [
    {
     "name": "stdout",
     "output_type": "stream",
     "text": [
      "[1, 2, 3]\n"
     ]
    }
   ],
   "source": [
    "# Convert a list of strings to integers using map()\n",
    "# l1= ['1', '2', '3']\n",
    "# Output: [1, 2, 3]\n",
    "l1= ['1', '2', '3']\n",
    "print(list(map(int,l1)))"
   ]
  },
  {
   "cell_type": "code",
   "execution_count": 119,
   "id": "afd27f3d-7bfc-440f-8388-3bbdd091146c",
   "metadata": {},
   "outputs": [
    {
     "name": "stdout",
     "output_type": "stream",
     "text": [
      "[1, 8, 27, 64, 125, 216, 343, 512, 729, 1000]\n"
     ]
    }
   ],
   "source": [
    "# Write a program to calculate the cube of numbers from 1 to 10\n",
    "# Output: [1, 8, 27, 64, 125, 216, 343, 512, 729, 1000]\n",
    "\n",
    "print(list(map(lambda x:x**3,range(1,11))))"
   ]
  },
  {
   "cell_type": "code",
   "execution_count": 121,
   "id": "55b0d688-9d9b-463b-9387-921ca7a21367",
   "metadata": {},
   "outputs": [
    {
     "name": "stdout",
     "output_type": "stream",
     "text": [
      "['Ujwal', 'Pratik', 'Pranav']\n"
     ]
    }
   ],
   "source": [
    "# format a list of names to start with a capital letter.\n",
    "l1= ['ujwal', 'pratik', 'pranav']\n",
    "# Output: ['Ujwal', 'Pratik', 'Pranav']\n",
    "print(list(map(lambda x:x.title(),l1)))"
   ]
  },
  {
   "cell_type": "code",
   "execution_count": 123,
   "id": "021e2764-c919-400d-9855-373283e7817a",
   "metadata": {},
   "outputs": [
    {
     "name": "stdout",
     "output_type": "stream",
     "text": [
      "[2, 4, 6]\n"
     ]
    }
   ],
   "source": [
    "# filter():\n",
    "# extract all even numbers from a list.\n",
    "l1=[1, 2, 3, 4, 5, 6]\n",
    "# Output: [2, 4, 6]\n",
    "print(list(filter(lambda x:x%2==0,l1)))"
   ]
  },
  {
   "cell_type": "code",
   "execution_count": 125,
   "id": "d363797c-289c-4cfc-b3fc-d51710df345c",
   "metadata": {},
   "outputs": [
    {
     "name": "stdout",
     "output_type": "stream",
     "text": [
      "['bat', 'cat']\n"
     ]
    }
   ],
   "source": [
    "# Write a program to filter out strings that are shorter than 5 characters.\n",
    "l1= ['apple', 'bat', 'banana', 'cat']\n",
    "# Output: ['bat', 'cat']\n",
    "print(list(filter(lambda x:len(x)<5,l1)))"
   ]
  },
  {
   "cell_type": "code",
   "execution_count": 127,
   "id": "1d1808ce-f211-4879-b9b6-9f1c80e91d38",
   "metadata": {},
   "outputs": [
    {
     "name": "stdout",
     "output_type": "stream",
     "text": [
      "[15, 20]\n"
     ]
    }
   ],
   "source": [
    "# get numbers greater than 10 from a list.\n",
    "l1 =  [5, 10, 15, 20]\n",
    "# Output: [15, 20]\n",
    "print(list(filter(lambda x:x>10,l1)))"
   ]
  },
  {
   "cell_type": "code",
   "execution_count": 129,
   "id": "9b4e9cdb-f245-48b8-aa9c-6c4ea9c8cec7",
   "metadata": {},
   "outputs": [
    {
     "data": {
      "text/plain": [
       "[2, 3, 5, 7]"
      ]
     },
     "execution_count": 129,
     "metadata": {},
     "output_type": "execute_result"
    }
   ],
   "source": [
    "# Write a program to filter prime numbers from a list\n",
    "l1 =  [2, 3, 4, 5, 6, 7]\n",
    "# Output: [2, 3, 5, 7]\n",
    "list(filter(lambda x: x > 1 and all(x % i != 0 for i in range(2, int(x**0.5) + 1)), l1))"
   ]
  },
  {
   "cell_type": "code",
   "execution_count": 131,
   "id": "50cb8da9-e4a9-4c5f-889c-0f9d848d7733",
   "metadata": {},
   "outputs": [
    {
     "name": "stdout",
     "output_type": "stream",
     "text": [
      "['madam', 'racecar']\n"
     ]
    }
   ],
   "source": [
    "# extract all palindrome strings from a list.\n",
    "l1= [\"madam\", \"racecar\", \"hello\", \"world\"]\n",
    "# Output: ['madam', 'racecar']\n",
    "print(list(filter(lambda x: x == x[::-1], l1)))"
   ]
  },
  {
   "cell_type": "code",
   "execution_count": 133,
   "id": "028e7b9a-4638-49c1-b5d9-aaf98d99a806",
   "metadata": {},
   "outputs": [
    {
     "name": "stdout",
     "output_type": "stream",
     "text": [
      "24\n"
     ]
    }
   ],
   "source": [
    "# reduce()\n",
    "# 1. find product of all list elements\n",
    "from functools import reduce\n",
    "l1 = [1,2,3,4]\n",
    "print(reduce(lambda x,y:x*y,l1))"
   ]
  },
  {
   "cell_type": "code",
   "execution_count": 135,
   "id": "5327da3b-b984-4497-9b2a-400937fc6774",
   "metadata": {},
   "outputs": [
    {
     "name": "stdout",
     "output_type": "stream",
     "text": [
      "34\n"
     ]
    }
   ],
   "source": [
    "# 2. find max element from list\n",
    "from functools import reduce\n",
    "l2 = [2,4,8,12,34]\n",
    "print(max(l2, key=lambda x: x))"
   ]
  },
  {
   "cell_type": "code",
   "execution_count": null,
   "id": "61ca4e7f-d7b6-4e89-91c9-d0895b98432d",
   "metadata": {},
   "outputs": [],
   "source": []
  },
  {
   "cell_type": "code",
   "execution_count": null,
   "id": "90ea5609-6db1-44de-be32-560851415bd6",
   "metadata": {},
   "outputs": [],
   "source": []
  },
  {
   "cell_type": "code",
   "execution_count": null,
   "id": "e33526e0-7129-4eca-b716-e97cffc30e1f",
   "metadata": {},
   "outputs": [],
   "source": []
  }
 ],
 "metadata": {
  "kernelspec": {
   "display_name": "Python 3 (ipykernel)",
   "language": "python",
   "name": "python3"
  },
  "language_info": {
   "codemirror_mode": {
    "name": "ipython",
    "version": 3
   },
   "file_extension": ".py",
   "mimetype": "text/x-python",
   "name": "python",
   "nbconvert_exporter": "python",
   "pygments_lexer": "ipython3",
   "version": "3.12.7"
  }
 },
 "nbformat": 4,
 "nbformat_minor": 5
}
