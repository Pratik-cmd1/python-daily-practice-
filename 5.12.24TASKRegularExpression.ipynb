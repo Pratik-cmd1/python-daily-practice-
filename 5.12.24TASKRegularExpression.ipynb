{
 "cells": [
  {
   "cell_type": "markdown",
   "id": "13576a48-6020-4ff0-9088-f53aa0c03e31",
   "metadata": {},
   "source": [
    "# Regular Expression\n",
    "\n",
    "1. Write a python program to check that a string contains only a certain set of characters (in this case a-z, A-Z, and 0-9).\n",
    "2. Create a program to split a string by only the first occurrence of any substring.\n",
    "3. Code that would match a string that has an a followed by zero or more b's.\n",
    "4. Wap to find Three-digit numbers followed by space followed by two-digit numbers in a string.\n",
    "5. Write a Python program that matches a string that has an a followed by one or more b's.\n",
    "6. Write a program to search inform in a string both in uppercase & in lowercase.\n",
    "(INFORM or inform)\n",
    "7. WAP that matches a string that has an a followed by zero or one 'b'. .\n",
    "8. WAP that matches a string that has an a followed by three 'b'. .\n",
    "9. Write a Python program that matches a string that has an a followed by two to three 'b'.\n",
    "\n",
    "10.Find all the words starting in range of k-n using a for loop & re.\n",
    "\n",
    "11.Write a Python program to find sequences of lowercase letters joined with an underscore.\n",
    "\n",
    "12.Write a program to find the sequences of one upper case letter followed by lower case letters.\n",
    "\n",
    "13.Write a program that matches a string that has an 'a' followed by anything, ending in 'b'.\n",
    "\n",
    "14.WAP that matches a word at the beginning of a string.\n",
    "\n",
    "15.Write a program that matches a word at the end of a string, with optional punctuation.\n",
    "\n",
    "16.Write a Python program that matches a word containing 'z'.\n",
    "\n",
    "17.Write a program that matches a word containing 'z', not at the start or end of the word.\n",
    "\n",
    "18.Write a program to match a string that contains only upper and lowercase letters, numbers, and underscores.\n",
    "\n",
    "19.WAP where a string will start with a specific number."
   ]
  },
  {
   "cell_type": "code",
   "execution_count": 247,
   "id": "100ee227-6362-4fa9-8b16-c2d9d642d4fb",
   "metadata": {},
   "outputs": [
    {
     "name": "stdout",
     "output_type": "stream",
     "text": [
      "string contains only a certain set of characters\n"
     ]
    }
   ],
   "source": [
    "#1. Write a python program to check that a string contains only a certain set of characters (in this case a-z, A-Z, and 0-9).\n",
    "import re\n",
    "input_string=\"hello every one myself pratik\"\n",
    "pattern = \"^[a-zA-Z ]+$\"\n",
    "if re.match(pattern, input_string):\n",
    "    print(\"string contains only a certain set of characters\")\n",
    "else:\n",
    "    print(\"string not contains only a certain set of characters\")\n"
   ]
  },
  {
   "cell_type": "code",
   "execution_count": 63,
   "id": "b8a617e4-e616-41e2-97fa-0730180b1340",
   "metadata": {},
   "outputs": [
    {
     "name": "stdout",
     "output_type": "stream",
     "text": [
      "['', 'magine', '', 'orld', 'n', 'hich', 'very', 'ingle', 'erson', 'n', 'he', 'lanet', 's', 'iven', 'ree', 'ccess', 'o', 'he', 'um', 'f', 'll', 'uman', 'nowledge.', \"hat's\", 'hat', \"e're\", 'oing \\n32', '234', '64345', '3467', '35566', '545', '5pratik'] "
     ]
    }
   ],
   "source": [
    "#2. Create a program to split a string by only the first occurrence of any substring.\n",
    "text=\"\"\" Imagine a world in which every single person on the planet is given free access to the sum of all human knowledge. That's what we're doing \n",
    "32 1234 564345 23467 235566 a545 45pratik\"\"\"\n",
    "substring=\"every single person on the planet\"\n",
    "print(re.split(\" .\",text),end=\" \")"
   ]
  },
  {
   "cell_type": "code",
   "execution_count": 69,
   "id": "c1685e95-c25a-4ac8-b0d2-cac021728747",
   "metadata": {},
   "outputs": [
    {
     "data": {
      "text/plain": [
       "['a', 'abb', 'abbb', 'ab', 'ab', 'a', 'ab', 'abb', 'a']"
      ]
     },
     "execution_count": 69,
     "metadata": {},
     "output_type": "execute_result"
    }
   ],
   "source": [
    "#3. Code that would match a string that has an a followed by zero or more b's.\n",
    "text = \" a abb abbb abcd b ab aab abb ba \"\n",
    "pattern =\"ab*\"\n",
    "re.findall(pattern,text)"
   ]
  },
  {
   "cell_type": "code",
   "execution_count": 9,
   "id": "1e8a077c-ea07-49f4-a35a-42381bbd23b7",
   "metadata": {},
   "outputs": [
    {
     "data": {
      "text/plain": [
       "['123 23', '432 23', '765 32', '235 66', '543 44']"
      ]
     },
     "execution_count": 9,
     "metadata": {},
     "output_type": "execute_result"
    }
   ],
   "source": [
    "#4. Wap to find Three-digit numbers followed by space followed by two-digit numbers in a string.\n",
    "text = \" 123 23 5432 23 67 765 32 1235 667 77 543 445 56\"\n",
    "pattern =\"[0-9]{3}[ ][0-9]{2}\"\n",
    "re.findall(pattern,text)"
   ]
  },
  {
   "cell_type": "code",
   "execution_count": 17,
   "id": "1fed41ed-91e0-46c6-b4aa-6d86d3ee175a",
   "metadata": {},
   "outputs": [
    {
     "data": {
      "text/plain": [
       "['abb', 'abbb', 'ab', 'ab', 'ab', 'abb']"
      ]
     },
     "execution_count": 17,
     "metadata": {},
     "output_type": "execute_result"
    }
   ],
   "source": [
    "#5. Write a Python program that matches a string that has an a followed by one or more b's.\n",
    "text = \" a abb abbb abcd b ab aaaaab abb ba \"\n",
    "pattern =\"ab+\"\n",
    "re.findall(pattern,text)"
   ]
  },
  {
   "cell_type": "code",
   "execution_count": 19,
   "id": "d47c5670-bfcb-496e-b5b5-560aebff5412",
   "metadata": {},
   "outputs": [
    {
     "data": {
      "text/plain": [
       "['INFORM', 'inform']"
      ]
     },
     "execution_count": 19,
     "metadata": {},
     "output_type": "execute_result"
    }
   ],
   "source": [
    "#6. Write a program to search inform in a string both in uppercase & in lowercase.(INFORM or inform)\n",
    "text = \"INFORM that has no knowledge about inform \"\n",
    "pattern =\"INFORM|inform\"\n",
    "re.findall(pattern,text)"
   ]
  },
  {
   "cell_type": "code",
   "execution_count": 21,
   "id": "36cde53f-2adc-4b4c-a6a1-bc2821202504",
   "metadata": {},
   "outputs": [
    {
     "data": {
      "text/plain": [
       "['a', 'abb', 'abbb', 'ab', 'ab', 'a', 'ab', 'abb', 'a']"
      ]
     },
     "execution_count": 21,
     "metadata": {},
     "output_type": "execute_result"
    }
   ],
   "source": [
    "#7. WAP that matches a string that has an a followed by zero or one 'b'. .\n",
    "text = \" a abb abbb abcd b ab aab abb ba \"\n",
    "pattern =\"ab*\"\n",
    "re.findall(pattern,text)"
   ]
  },
  {
   "cell_type": "code",
   "execution_count": 23,
   "id": "9c0af8c9-2dfd-46e1-a45b-fa8a2fc323bf",
   "metadata": {},
   "outputs": [
    {
     "data": {
      "text/plain": [
       "['abbb']"
      ]
     },
     "execution_count": 23,
     "metadata": {},
     "output_type": "execute_result"
    }
   ],
   "source": [
    "#8. WAP that matches a string that has an a followed by three 'b'. .\n",
    "text = \" a abb abbb abcd b ab aab abb ba \"\n",
    "pattern =\"a[b]{3}\"\n",
    "re.findall(pattern,text)"
   ]
  },
  {
   "cell_type": "code",
   "execution_count": 25,
   "id": "079859a4-06d3-4887-bf08-4f91bb970d9c",
   "metadata": {},
   "outputs": [
    {
     "data": {
      "text/plain": [
       "['abb', 'abbb', 'abb']"
      ]
     },
     "execution_count": 25,
     "metadata": {},
     "output_type": "execute_result"
    }
   ],
   "source": [
    "#9. Write a Python program that matches a string that has an a followed by two to three 'b'.\n",
    "text = \" a abb abbb abcd b ab aab abb ba \"\n",
    "pattern =\"a[b]{2,3}\"\n",
    "re.findall(pattern,text)"
   ]
  },
  {
   "cell_type": "code",
   "execution_count": 37,
   "id": "31dd3eac-6dd5-4842-a7c5-4c28b3b8dc67",
   "metadata": {},
   "outputs": [
    {
     "name": "stdout",
     "output_type": "stream",
     "text": [
      "n l k n m n k "
     ]
    }
   ],
   "source": [
    "#10.Find all the words starting in range of k-n using a for loop & re.\n",
    "text=\"asdfghj asdfgh qwerth zxcvbn lkjhgf poiuytf cvbnm nihg kjhg \"\n",
    "pattern ='[k-nK-N]'\n",
    "#match=re.findall(pattern,text)\n",
    "for char in match:\n",
    "    print(char,end=\" \")"
   ]
  },
  {
   "cell_type": "code",
   "execution_count": 59,
   "id": "176d15f3-0a01-458c-acb7-c07dd2154920",
   "metadata": {},
   "outputs": [
    {
     "data": {
      "text/plain": [
       "['ab_', 'fgg_', 'dat_', 'aab_']"
      ]
     },
     "execution_count": 59,
     "metadata": {},
     "output_type": "execute_result"
    }
   ],
   "source": [
    "#11.Write a Python program to find sequences of lowercase letters joined with an underscore.\n",
    "text = \" a ab_ abbb Afgg_cd b dat_ aab_ abb ba hA_ \"\n",
    "pattern =\"[a-z]+_\"\n",
    "re.findall(pattern,text)"
   ]
  },
  {
   "cell_type": "code",
   "execution_count": 63,
   "id": "53e50cfa-f4de-4e28-9dda-0a2ce99e1738",
   "metadata": {},
   "outputs": [
    {
     "data": {
      "text/plain": [
       "['Afgg', 'Ajhjb', 'Dknkat', 'Fasdbb']"
      ]
     },
     "execution_count": 63,
     "metadata": {},
     "output_type": "execute_result"
    }
   ],
   "source": [
    "#12.Write a program to find the sequences of one upper case letter followed by lower case letters.\n",
    "text = \" a ab_ abbb Afgg_cd Ajhjb Dknkat_ aab_ QDFasdbb ba hA_ \"\n",
    "pattern =\"[A-Z]{1}[a-z]{1,20}\"\n",
    "re.findall(pattern,text)"
   ]
  },
  {
   "cell_type": "code",
   "execution_count": 87,
   "id": "aa2a0e3d-c419-4fb1-a326-02f1271c6cdc",
   "metadata": {},
   "outputs": [
    {
     "data": {
      "text/plain": [
       "['agfdb', 'adfgfcb', 'asdfgb']"
      ]
     },
     "execution_count": 87,
     "metadata": {},
     "output_type": "execute_result"
    }
   ],
   "source": [
    "#13.Write a program that matches a string that has an 'a' followed by anything, ending in 'b'.\n",
    "text = \" agfdb werfadfgfcbgf trdefg tresdf asdfgb tredf \"\n",
    "pattern =\"a[a-zA-Z0-9]*b\"\n",
    "re.findall(pattern,text)"
   ]
  },
  {
   "cell_type": "code",
   "execution_count": 101,
   "id": "c9c186ef-a7c2-4580-bb07-84c4ebff99e1",
   "metadata": {},
   "outputs": [
    {
     "data": {
      "text/plain": [
       "'hello'"
      ]
     },
     "execution_count": 101,
     "metadata": {},
     "output_type": "execute_result"
    }
   ],
   "source": [
    "#14.WAP that matches a word at the beginning of a string.\n",
    "text = \"hello everyone my name is pratik thank you......!\"\n",
    "pattern = \"[a-z]+\"\n",
    "\n",
    "o = re.match(pattern,text)\n",
    "o.group()"
   ]
  },
  {
   "cell_type": "code",
   "execution_count": 133,
   "id": "7e9ce49e-b498-4a68-87ab-5cd9867ad0b7",
   "metadata": {},
   "outputs": [
    {
     "data": {
      "text/plain": [
       "['you....!']"
      ]
     },
     "execution_count": 133,
     "metadata": {},
     "output_type": "execute_result"
    }
   ],
   "source": [
    "#15.Write a program that matches a word at the end of a string, with optional punctuation.\n",
    "text = \"hello everyone my name is pratik thank you....!\"\n",
    "pattern = \"[a-z]+[.,!?;:]*$\"\n",
    "\n",
    "re.findall(pattern,text)"
   ]
  },
  {
   "cell_type": "code",
   "execution_count": 141,
   "id": "cf3d5dcd-d6c9-491d-9dbb-96e00d30d32f",
   "metadata": {},
   "outputs": [
    {
     "data": {
      "text/plain": [
       "['helzlo', 'everzyone', 'thankz']"
      ]
     },
     "execution_count": 141,
     "metadata": {},
     "output_type": "execute_result"
    }
   ],
   "source": [
    "#16.Write a Python program that matches a word containing 'z'.\n",
    "text = \"helzlo everzyone my name is pratik thankz you....!\"\n",
    "pattern = \"[a-z]*z[a-z]*\"\n",
    "\n",
    "re.findall(pattern,text)"
   ]
  },
  {
   "cell_type": "code",
   "execution_count": 145,
   "id": "8249a1f5-38c5-4ec8-9680-60b1b700c812",
   "metadata": {},
   "outputs": [
    {
     "data": {
      "text/plain": [
       "['helzlo', 'everzyone']"
      ]
     },
     "execution_count": 145,
     "metadata": {},
     "output_type": "execute_result"
    }
   ],
   "source": [
    "#17.Write a program that matches a word containing 'z', not at the start or end of the word.\n",
    "text = \"helzlo everzyone zmy name is pratik thankz you....!\"\n",
    "pattern = \"[a-z]+z[a-z]+\"\n",
    "\n",
    "re.findall(pattern,text)"
   ]
  },
  {
   "cell_type": "code",
   "execution_count": 175,
   "id": "24ea776a-8c3a-4b94-947e-c32584c56910",
   "metadata": {},
   "outputs": [
    {
     "data": {
      "text/plain": [
       "'Hii Everyone my Name  is PRATIK_45 From pune'"
      ]
     },
     "execution_count": 175,
     "metadata": {},
     "output_type": "execute_result"
    }
   ],
   "source": [
    "#18.Write a program to match a string that contains only upper and lowercase letters, numbers, and underscores.\n",
    "text = \"Hii Everyone my Name is PRATIK_45 From pune *&^ \"\n",
    "pattern = \"[a-zA-Z0-9].*[a-zA-Z0-9]\"\n",
    "\n",
    "o = re.match(pattern,text)\n",
    "o.group()"
   ]
  },
  {
   "cell_type": "code",
   "execution_count": 199,
   "id": "0587535c-8e4f-4bc2-b429-d78dc89da474",
   "metadata": {},
   "outputs": [
    {
     "data": {
      "text/plain": [
       "['0hello everyone my name is pratik thank you....!']"
      ]
     },
     "execution_count": 199,
     "metadata": {},
     "output_type": "execute_result"
    }
   ],
   "source": [
    "#19.WAP where a string will start with a specific number.\n",
    "text = \"0hello everyone my name is pratik thank you....!\"\n",
    "pattern = \"^[0-9].*\"\n",
    "\n",
    "re.findall(pattern,text)"
   ]
  },
  {
   "cell_type": "code",
   "execution_count": null,
   "id": "fa258b4e-1e44-4d93-8ca6-fbeb8b9e3867",
   "metadata": {},
   "outputs": [],
   "source": []
  }
 ],
 "metadata": {
  "kernelspec": {
   "display_name": "Python 3 (ipykernel)",
   "language": "python",
   "name": "python3"
  },
  "language_info": {
   "codemirror_mode": {
    "name": "ipython",
    "version": 3
   },
   "file_extension": ".py",
   "mimetype": "text/x-python",
   "name": "python",
   "nbconvert_exporter": "python",
   "pygments_lexer": "ipython3",
   "version": "3.12.7"
  }
 },
 "nbformat": 4,
 "nbformat_minor": 5
}
