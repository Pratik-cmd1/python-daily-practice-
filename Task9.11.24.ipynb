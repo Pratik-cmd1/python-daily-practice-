{
 "cells": [
  {
   "cell_type": "markdown",
   "id": "cfc49c5a-ab1d-47b6-b338-98ea22ee1371",
   "metadata": {},
   "source": [
    "# 1. Basic Arithmetic and Input\n",
    "Task : Write a program that takes two numbers as input and displays their sum, difference, product, and quotient."
   ]
  },
  {
   "cell_type": "code",
   "execution_count": 42,
   "id": "6829ee48-a8e1-4f9d-acc9-cf57b597734b",
   "metadata": {},
   "outputs": [
    {
     "name": "stdin",
     "output_type": "stream",
     "text": [
      "Enter 1st number :  54\n",
      "Enter 2nd number :  33\n"
     ]
    },
    {
     "name": "stdout",
     "output_type": "stream",
     "text": [
      " you have entered 54 and 33\n",
      " sum=87\n",
      " diffrance=21\n",
      " product=1782\n",
      " quotient=1.6363636363636365\n"
     ]
    }
   ],
   "source": [
    "a=int(input(\"Enter 1st number : \"))\n",
    "b=int(input(\"Enter 2nd number : \"))\n",
    "print(f\" you have entered {a} and {b}\")\n",
    "sum=a+b\n",
    "diffrance=a-b\n",
    "product=a*b\n",
    "quotient=a/b\n",
    "print(f\" sum={sum}\\n diffrance={diffrance}\\n product={product}\\n quotient={quotient}\")"
   ]
  },
  {
   "cell_type": "markdown",
   "id": "293c28ed-51fd-4751-a537-f3716e6ddf69",
   "metadata": {},
   "source": [
    "# 2 Even or Odd Checker\n",
    "Task: Write a program that takes a number as input and determines if it is even or odd."
   ]
  },
  {
   "cell_type": "code",
   "execution_count": 40,
   "id": "13fc8f2a-66b8-4d00-869b-bd7a1a315d5b",
   "metadata": {},
   "outputs": [
    {
     "name": "stdin",
     "output_type": "stream",
     "text": [
      "Enter a number :  5443\n"
     ]
    },
    {
     "name": "stdout",
     "output_type": "stream",
     "text": [
      "5443 this number is odd\n"
     ]
    }
   ],
   "source": [
    "input1=int(input(\"Enter a number : \"))\n",
    "if input1%2==0:\n",
    "    print(f\"{input1} this number is even\")\n",
    "else:\n",
    "    print(f\"{input1} this number is odd\")"
   ]
  },
  {
   "cell_type": "markdown",
   "id": "bff8e097-c317-42fa-b6aa-fc4ad7f82f40",
   "metadata": {},
   "source": [
    "# 3. Find Maximum of Three Numbers\n",
    "Task: Write a program that takes three numbers as input and prints the largest of the three."
   ]
  },
  {
   "cell_type": "code",
   "execution_count": 46,
   "id": "5cbdc052-489a-48ae-ac9d-6fd35727746e",
   "metadata": {},
   "outputs": [
    {
     "name": "stdin",
     "output_type": "stream",
     "text": [
      "Enter 1st number :  7654\n",
      "Enter 2nd number :  3456\n",
      "Enter 3rd number :  987\n"
     ]
    },
    {
     "name": "stdout",
     "output_type": "stream",
     "text": [
      "7654 number is largest then 3456 and 987\n"
     ]
    }
   ],
   "source": [
    "a=int(input(\"Enter 1st number : \"))\n",
    "b=int(input(\"Enter 2nd number : \"))\n",
    "c=int(input(\"Enter 3rd number : \"))\n",
    "if (a>b)and(a>c):\n",
    "    print(f\"{a} number is largest then {b} and {c}\")\n",
    "elif (b>a)and(b>c):\n",
    "    print(f\"{b} number is largest then {a}and {c}\")\n",
    "else :\n",
    "    print(f\"{c} number is largest then {a} and {b}\")"
   ]
  },
  {
   "cell_type": "markdown",
   "id": "f907c440-e4c9-4602-8b5d-e4b6cc6677f7",
   "metadata": {},
   "source": [
    "# 4. Prime Number Checker\n",
    "Task: Write a program that checks if a number is prime."
   ]
  },
  {
   "cell_type": "code",
   "execution_count": 60,
   "id": "f25848a1-4f53-4541-8b3b-bee0ba7166a2",
   "metadata": {},
   "outputs": [
    {
     "name": "stdin",
     "output_type": "stream",
     "text": [
      "Enter a number:  14\n"
     ]
    },
    {
     "name": "stdout",
     "output_type": "stream",
     "text": [
      "14 is not a prime number.\n"
     ]
    }
   ],
   "source": [
    "num = int(input(\"Enter a number: \"))\n",
    "is_prime = True\n",
    "if num < 2:\n",
    "    is_prime = False\n",
    "else:\n",
    "    for i in range(2, int(num ** 0.5) + 1):\n",
    "        if num % i == 0:\n",
    "            is_prime = False\n",
    "            break\n",
    "if is_prime:\n",
    "    print(f\"{num} is a prime number.\")\n",
    "else:\n",
    "    print(f\"{num} is not a prime number.\")"
   ]
  },
  {
   "cell_type": "markdown",
   "id": "fe958bbb-8171-4ca4-8290-8f2a0e3e3898",
   "metadata": {},
   "source": [
    "# 5. Factorial Calculation\n",
    "Task: Write a program that takes a number as input and calculates its factorial."
   ]
  },
  {
   "cell_type": "code",
   "execution_count": 68,
   "id": "df78a134-5fcc-4ccb-a005-786616119462",
   "metadata": {},
   "outputs": [
    {
     "name": "stdin",
     "output_type": "stream",
     "text": [
      "Enter a number:  5\n"
     ]
    },
    {
     "name": "stdout",
     "output_type": "stream",
     "text": [
      "The factorial of 5 is 120.\n"
     ]
    }
   ],
   "source": [
    "num = int(input(\"Enter a number: \"))\n",
    "factorial = 1\n",
    "for i in range(1, num + 1):\n",
    "    factorial =factorial*i\n",
    "print(f\"The factorial of {num} is {factorial}.\")"
   ]
  }
 ],
 "metadata": {
  "kernelspec": {
   "display_name": "Python 3 (ipykernel)",
   "language": "python",
   "name": "python3"
  },
  "language_info": {
   "codemirror_mode": {
    "name": "ipython",
    "version": 3
   },
   "file_extension": ".py",
   "mimetype": "text/x-python",
   "name": "python",
   "nbconvert_exporter": "python",
   "pygments_lexer": "ipython3",
   "version": "3.12.7"
  }
 },
 "nbformat": 4,
 "nbformat_minor": 5
}
